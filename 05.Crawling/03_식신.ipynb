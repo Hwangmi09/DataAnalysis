{
  "nbformat": 4,
  "nbformat_minor": 0,
  "metadata": {
    "colab": {
      "name": "03_식신.ipynb",
      "provenance": [],
      "collapsed_sections": []
    },
    "kernelspec": {
      "name": "python3",
      "display_name": "Python 3"
    },
    "language_info": {
      "name": "python"
    }
  },
  "cells": [
    {
      "cell_type": "markdown",
      "metadata": {
        "id": "ox_4aZnCtWnB"
      },
      "source": [
        "# 식신 - 양재역으로 검색\n",
        "- 명칭, 주요메뉴, 평점, 전화번호, 주소"
      ]
    },
    {
      "cell_type": "code",
      "metadata": {
        "id": "ixDLkR4rtS3f"
      },
      "source": [
        "import requests\n",
        "import pandas as pd\n",
        "from urllib.parse import quote"
      ],
      "execution_count": 1,
      "outputs": []
    },
    {
      "cell_type": "markdown",
      "metadata": {
        "id": "-o_0W0Hft4uT"
      },
      "source": [
        "- 데이터 가져오기"
      ]
    },
    {
      "cell_type": "code",
      "metadata": {
        "id": "UeiatZDotzun"
      },
      "source": [
        "base_url = 'https://www.siksinhot.com'\n",
        "url = f'{base_url}/search?keywords={quote(\"양재역\")}' # quote : base64 encoding\n",
        "req = requests.get(url)\n",
        "html = req.text\n",
        "# html"
      ],
      "execution_count": 2,
      "outputs": []
    },
    {
      "cell_type": "markdown",
      "metadata": {
        "id": "NbXAkeabutVI"
      },
      "source": [
        "- 찾으려고 하는 데이터의 태그 찾기"
      ]
    },
    {
      "cell_type": "code",
      "metadata": {
        "id": "8SuSEQpkuRr_"
      },
      "source": [
        "from bs4 import BeautifulSoup\n",
        "soup = BeautifulSoup(html, 'html.parser')"
      ],
      "execution_count": 3,
      "outputs": []
    },
    {
      "cell_type": "markdown",
      "metadata": {
        "id": "KKw9050hvCO_"
      },
      "source": [
        "- 찾으려고 하는 데이터의 태그 찾기"
      ]
    },
    {
      "cell_type": "code",
      "metadata": {
        "colab": {
          "base_uri": "https://localhost:8080/"
        },
        "id": "qZCrgHWDvA9y",
        "outputId": "4172fa06-7aaa-4baf-d079-608f115288ec"
      },
      "source": [
        "# copy selector : schMove1 > div.listTy1 > ul\n",
        "lis= soup.select('div.listTy1 > ul > li')\n",
        "len(lis)"
      ],
      "execution_count": 4,
      "outputs": [
        {
          "output_type": "execute_result",
          "data": {
            "text/plain": [
              "12"
            ]
          },
          "metadata": {
            "tags": []
          },
          "execution_count": 4
        }
      ]
    },
    {
      "cell_type": "markdown",
      "metadata": {
        "id": "DhtknguVwtEq"
      },
      "source": [
        "- 여러개의 데이터 중 하나를 선택해서 원하는 정보 추출"
      ]
    },
    {
      "cell_type": "code",
      "metadata": {
        "colab": {
          "base_uri": "https://localhost:8080/",
          "height": 35
        },
        "id": "paql9JQbwQFy",
        "outputId": "bc8246a5-9b3f-4669-97dc-02e63b5f53e3"
      },
      "source": [
        "li = lis[0]\n",
        "href = li.select_one('a')['href']\n",
        "href"
      ],
      "execution_count": 5,
      "outputs": [
        {
          "output_type": "execute_result",
          "data": {
            "application/vnd.google.colaboratory.intrinsic+json": {
              "type": "string"
            },
            "text/plain": [
              "'/P/358859'"
            ]
          },
          "metadata": {
            "tags": []
          },
          "execution_count": 5
        }
      ]
    },
    {
      "cell_type": "code",
      "metadata": {
        "id": "m-fe3n9lxqow"
      },
      "source": [
        "# sub_page로 이동\n",
        "url = base_url + href\n",
        "req = requests.get(url)\n",
        "sub_soup = BeautifulSoup(req.text, 'html.parser')"
      ],
      "execution_count": 6,
      "outputs": []
    },
    {
      "cell_type": "code",
      "metadata": {
        "colab": {
          "base_uri": "https://localhost:8080/",
          "height": 35
        },
        "id": "q4OvO4AuyyiW",
        "outputId": "0501e8fc-78ed-4e86-9100-7efcc71b6b7a"
      },
      "source": [
        "store = sub_soup.select_one('.title')\n",
        "info = store.find('h3').get_text()\n",
        "info"
      ],
      "execution_count": 7,
      "outputs": [
        {
          "output_type": "execute_result",
          "data": {
            "application/vnd.google.colaboratory.intrinsic+json": {
              "type": "string"
            },
            "text/plain": [
              "'그릭슈바인 양재역점3.6HOT'"
            ]
          },
          "metadata": {
            "tags": []
          },
          "execution_count": 7
        }
      ]
    },
    {
      "cell_type": "code",
      "metadata": {
        "colab": {
          "base_uri": "https://localhost:8080/",
          "height": 35
        },
        "id": "kBuVyeK1zNGD",
        "outputId": "35511e2e-86d9-41d3-c27a-504f76209073"
      },
      "source": [
        "score = store.select_one('h3 > strong').string\n",
        "score"
      ],
      "execution_count": 8,
      "outputs": [
        {
          "output_type": "execute_result",
          "data": {
            "application/vnd.google.colaboratory.intrinsic+json": {
              "type": "string"
            },
            "text/plain": [
              "'3.6'"
            ]
          },
          "metadata": {
            "tags": []
          },
          "execution_count": 8
        }
      ]
    },
    {
      "cell_type": "code",
      "metadata": {
        "colab": {
          "base_uri": "https://localhost:8080/"
        },
        "id": "ZB9ee7wGzpIY",
        "outputId": "6e7fc697-9e4d-4810-f4d2-45fcd67a0eb5"
      },
      "source": [
        "info.find(score) # info 문자열에서 score 위치(인덱스)를 알아내는 method"
      ],
      "execution_count": 9,
      "outputs": [
        {
          "output_type": "execute_result",
          "data": {
            "text/plain": [
              "10"
            ]
          },
          "metadata": {
            "tags": []
          },
          "execution_count": 9
        }
      ]
    },
    {
      "cell_type": "code",
      "metadata": {
        "colab": {
          "base_uri": "https://localhost:8080/",
          "height": 35
        },
        "id": "G0trgOq0zybO",
        "outputId": "d79a0282-8e87-4fae-f1b8-8c5c38178c1d"
      },
      "source": [
        "name = info[:info.find(score)]\n",
        "name"
      ],
      "execution_count": 10,
      "outputs": [
        {
          "output_type": "execute_result",
          "data": {
            "application/vnd.google.colaboratory.intrinsic+json": {
              "type": "string"
            },
            "text/plain": [
              "'그릭슈바인 양재역점'"
            ]
          },
          "metadata": {
            "tags": []
          },
          "execution_count": 10
        }
      ]
    },
    {
      "cell_type": "code",
      "metadata": {
        "colab": {
          "base_uri": "https://localhost:8080/",
          "height": 35
        },
        "id": "qcqkZAvH0Dj-",
        "outputId": "425c653c-4d9b-42b6-8dd2-6a1449f47a62"
      },
      "source": [
        "# contents > div > div > div.content > div.sec_left > div > div:nth-child(1) > div:nth-child(1) > p\n",
        "menu = sub_soup.select('.store_info p')[1].get_text()\n",
        "menu"
      ],
      "execution_count": 11,
      "outputs": [
        {
          "output_type": "execute_result",
          "data": {
            "application/vnd.google.colaboratory.intrinsic+json": {
              "type": "string"
            },
            "text/plain": [
              "'나이트라이프 > 맥주/호프'"
            ]
          },
          "metadata": {
            "tags": []
          },
          "execution_count": 11
        }
      ]
    },
    {
      "cell_type": "code",
      "metadata": {
        "colab": {
          "base_uri": "https://localhost:8080/",
          "height": 35
        },
        "id": "zybM6ENi1JiM",
        "outputId": "a0ce55f9-26b0-47c2-9625-b47ecd32aa03"
      },
      "source": [
        "tel = sub_soup.select_one('.p_tel p').get_text()\n",
        "tel"
      ],
      "execution_count": 12,
      "outputs": [
        {
          "output_type": "execute_result",
          "data": {
            "application/vnd.google.colaboratory.intrinsic+json": {
              "type": "string"
            },
            "text/plain": [
              "'02-572-6100'"
            ]
          },
          "metadata": {
            "tags": []
          },
          "execution_count": 12
        }
      ]
    },
    {
      "cell_type": "code",
      "metadata": {
        "colab": {
          "base_uri": "https://localhost:8080/",
          "height": 35
        },
        "id": "c49Vo9AD0zlI",
        "outputId": "b842b9b2-bc44-4ab6-f609-e91cf7344c77"
      },
      "source": [
        "addr = sub_soup.select_one('.txt_adr').string\n",
        "addr"
      ],
      "execution_count": 13,
      "outputs": [
        {
          "output_type": "execute_result",
          "data": {
            "application/vnd.google.colaboratory.intrinsic+json": {
              "type": "string"
            },
            "text/plain": [
              "'서울특별시 서초구 강남대로 224'"
            ]
          },
          "metadata": {
            "tags": []
          },
          "execution_count": 13
        }
      ]
    },
    {
      "cell_type": "markdown",
      "metadata": {
        "id": "ow4LOdaH2Ns1"
      },
      "source": [
        "- 한 페이지에 있는 모든 데이터를 반복문으로 가져오기"
      ]
    },
    {
      "cell_type": "code",
      "metadata": {
        "colab": {
          "base_uri": "https://localhost:8080/"
        },
        "id": "itLi7W4c2AuU",
        "outputId": "5610b7bb-a012-44bd-be12-438dc68e5958"
      },
      "source": [
        "name_list, score_list, menu_list, tel_list, addr_list = [], [], [], [], []\n",
        "for i, li in enumerate(lis):\n",
        "    href = li.select_one('a')['href']\n",
        "    url = base_url + href\n",
        "    req = requests.get(url)\n",
        "    sub_soup = BeautifulSoup(req.text, 'html.parser')\n",
        "\n",
        "    try:\n",
        "        store = sub_soup.select_one('.title')\n",
        "        info = store.find('h3').get_text()\n",
        "        score = store.select_one('h3 > strong').string\n",
        "        name = info[:info.find(score)]\n",
        "        menu = sub_soup.select('.store_info p')[1].get_text()\n",
        "        tel = sub_soup.select_one('.p_tel p').get_text()\n",
        "        addr = sub_soup.select_one('.txt_adr').string\n",
        "\n",
        "        name_list.append(name)\n",
        "        score_list.append(score)\n",
        "        menu_list.append(menu)\n",
        "        tel_list.append(tel)\n",
        "        addr_list.append(addr)\n",
        "    except:\n",
        "        print(i)"
      ],
      "execution_count": 15,
      "outputs": [
        {
          "output_type": "stream",
          "text": [
            "3\n",
            "4\n"
          ],
          "name": "stdout"
        }
      ]
    },
    {
      "cell_type": "code",
      "metadata": {
        "colab": {
          "base_uri": "https://localhost:8080/",
          "height": 359
        },
        "id": "_DeTsZ0puWhg",
        "outputId": "94c49299-6dd0-457e-d383-a3c62d12bf97"
      },
      "source": [
        "df = pd.DataFrame({\n",
        "    '식당명' : name_list,\n",
        "    '평점' : score_list,\n",
        "    '메뉴' :menu_list,\n",
        "    '전화번호' : tel_list,\n",
        "    '주소' : addr_list\n",
        "})\n",
        "\n",
        "df"
      ],
      "execution_count": 16,
      "outputs": [
        {
          "output_type": "execute_result",
          "data": {
            "text/html": [
              "<div>\n",
              "<style scoped>\n",
              "    .dataframe tbody tr th:only-of-type {\n",
              "        vertical-align: middle;\n",
              "    }\n",
              "\n",
              "    .dataframe tbody tr th {\n",
              "        vertical-align: top;\n",
              "    }\n",
              "\n",
              "    .dataframe thead th {\n",
              "        text-align: right;\n",
              "    }\n",
              "</style>\n",
              "<table border=\"1\" class=\"dataframe\">\n",
              "  <thead>\n",
              "    <tr style=\"text-align: right;\">\n",
              "      <th></th>\n",
              "      <th>식당명</th>\n",
              "      <th>평점</th>\n",
              "      <th>메뉴</th>\n",
              "      <th>전화번호</th>\n",
              "      <th>주소</th>\n",
              "    </tr>\n",
              "  </thead>\n",
              "  <tbody>\n",
              "    <tr>\n",
              "      <th>0</th>\n",
              "      <td>그릭슈바인 양재역점</td>\n",
              "      <td>3.6</td>\n",
              "      <td>나이트라이프 &gt; 맥주/호프</td>\n",
              "      <td>02-572-6100</td>\n",
              "      <td>서울특별시 서초구 강남대로 224</td>\n",
              "    </tr>\n",
              "    <tr>\n",
              "      <th>1</th>\n",
              "      <td>미스터브리즈 양재역점</td>\n",
              "      <td>3.4</td>\n",
              "      <td>세계음식 &gt; 카페/커피숍</td>\n",
              "      <td>02-576-4333</td>\n",
              "      <td>서울 서초구 강남대로34길 6</td>\n",
              "    </tr>\n",
              "    <tr>\n",
              "      <th>2</th>\n",
              "      <td>동신참치 양재역점</td>\n",
              "      <td>3.0</td>\n",
              "      <td>한국음식 &gt; 회</td>\n",
              "      <td>02-529-7130</td>\n",
              "      <td>서울 서초구 강남대로 213</td>\n",
              "    </tr>\n",
              "    <tr>\n",
              "      <th>3</th>\n",
              "      <td>영동족발 3호점</td>\n",
              "      <td>4.1</td>\n",
              "      <td>한국음식 &gt; 족발/보쌈</td>\n",
              "      <td>02-575-0250</td>\n",
              "      <td>서울특별시 서초구 남부순환로 2628-18</td>\n",
              "    </tr>\n",
              "    <tr>\n",
              "      <th>4</th>\n",
              "      <td>황재벌</td>\n",
              "      <td>3.9</td>\n",
              "      <td>한국음식 &gt; 장어구이/꼼장어</td>\n",
              "      <td>02-3471-5454</td>\n",
              "      <td>서울특별시 서초구 남부순환로347길 42-4 신화빌딩</td>\n",
              "    </tr>\n",
              "    <tr>\n",
              "      <th>5</th>\n",
              "      <td>김영모과자점 도곡타워점</td>\n",
              "      <td>4.1</td>\n",
              "      <td>세계음식 &gt; 베이커리/제과점</td>\n",
              "      <td>02-3460-2005</td>\n",
              "      <td>서울특별시 강남구 언주로30길 10 현대비젼21</td>\n",
              "    </tr>\n",
              "    <tr>\n",
              "      <th>6</th>\n",
              "      <td>소호정 본점</td>\n",
              "      <td>4.0</td>\n",
              "      <td>한국음식 &gt; 라면/칼국수/국수/수제비</td>\n",
              "      <td>02-579-7282</td>\n",
              "      <td>서울특별시 서초구 논현로 27</td>\n",
              "    </tr>\n",
              "    <tr>\n",
              "      <th>7</th>\n",
              "      <td>산동칼국수</td>\n",
              "      <td>3.9</td>\n",
              "      <td>한국음식 &gt; 라면/칼국수/국수/수제비</td>\n",
              "      <td>02-3473-7972</td>\n",
              "      <td>서울특별시 서초구 강남대로37길 63</td>\n",
              "    </tr>\n",
              "    <tr>\n",
              "      <th>8</th>\n",
              "      <td>양재정육식당</td>\n",
              "      <td>4.1</td>\n",
              "      <td>한국음식 &gt; 꽃등심/등심/육회</td>\n",
              "      <td>02-577-5804</td>\n",
              "      <td>서울 서초구 바우뫼로35길 3</td>\n",
              "    </tr>\n",
              "    <tr>\n",
              "      <th>9</th>\n",
              "      <td>스타쉐프</td>\n",
              "      <td>3.9</td>\n",
              "      <td>세계음식 &gt; 퓨전레스토랑</td>\n",
              "      <td>02-529-8248</td>\n",
              "      <td>서울특별시 강남구 논현로38길 38-6</td>\n",
              "    </tr>\n",
              "  </tbody>\n",
              "</table>\n",
              "</div>"
            ],
            "text/plain": [
              "            식당명   평점  ...          전화번호                             주소\n",
              "0    그릭슈바인 양재역점  3.6  ...   02-572-6100             서울특별시 서초구 강남대로 224\n",
              "1   미스터브리즈 양재역점  3.4  ...   02-576-4333               서울 서초구 강남대로34길 6\n",
              "2     동신참치 양재역점  3.0  ...   02-529-7130                서울 서초구 강남대로 213\n",
              "3      영동족발 3호점  4.1  ...   02-575-0250        서울특별시 서초구 남부순환로 2628-18\n",
              "4           황재벌  3.9  ...  02-3471-5454  서울특별시 서초구 남부순환로347길 42-4 신화빌딩\n",
              "5  김영모과자점 도곡타워점  4.1  ...  02-3460-2005     서울특별시 강남구 언주로30길 10 현대비젼21\n",
              "6        소호정 본점  4.0  ...   02-579-7282               서울특별시 서초구 논현로 27\n",
              "7         산동칼국수  3.9  ...  02-3473-7972           서울특별시 서초구 강남대로37길 63\n",
              "8        양재정육식당  4.1  ...   02-577-5804               서울 서초구 바우뫼로35길 3\n",
              "9          스타쉐프  3.9  ...   02-529-8248          서울특별시 강남구 논현로38길 38-6\n",
              "\n",
              "[10 rows x 5 columns]"
            ]
          },
          "metadata": {
            "tags": []
          },
          "execution_count": 16
        }
      ]
    },
    {
      "cell_type": "markdown",
      "metadata": {
        "id": "rRI9h2VouNuN"
      },
      "source": [
        "- 문제 발생한 두번째 업소 살펴보기"
      ]
    },
    {
      "cell_type": "code",
      "metadata": {
        "colab": {
          "base_uri": "https://localhost:8080/",
          "height": 35
        },
        "id": "qdj3GD0suM24",
        "outputId": "b13c715c-4f26-48bf-e01e-4f040c9d93e9"
      },
      "source": [
        "li = lis[1]\n",
        "li.select_one('.store').string"
      ],
      "execution_count": 17,
      "outputs": [
        {
          "output_type": "execute_result",
          "data": {
            "application/vnd.google.colaboratory.intrinsic+json": {
              "type": "string"
            },
            "text/plain": [
              "'미스터브리즈 양재역점'"
            ]
          },
          "metadata": {
            "tags": []
          },
          "execution_count": 17
        }
      ]
    },
    {
      "cell_type": "code",
      "metadata": {
        "colab": {
          "base_uri": "https://localhost:8080/",
          "height": 35
        },
        "id": "fs7vAAsovA3C",
        "outputId": "c86dc02d-8522-4212-8295-99b398572f8c"
      },
      "source": [
        "li.select_one('.score').string"
      ],
      "execution_count": 18,
      "outputs": [
        {
          "output_type": "execute_result",
          "data": {
            "application/vnd.google.colaboratory.intrinsic+json": {
              "type": "string"
            },
            "text/plain": [
              "'3.4'"
            ]
          },
          "metadata": {
            "tags": []
          },
          "execution_count": 18
        }
      ]
    },
    {
      "cell_type": "code",
      "metadata": {
        "colab": {
          "base_uri": "https://localhost:8080/",
          "height": 35
        },
        "id": "5x8nEPyFvRDZ",
        "outputId": "84e637ab-350b-414b-b0f9-9cc599ea0141"
      },
      "source": [
        "li.select_one('.cnt p').text"
      ],
      "execution_count": 20,
      "outputs": [
        {
          "output_type": "execute_result",
          "data": {
            "application/vnd.google.colaboratory.intrinsic+json": {
              "type": "string"
            },
            "text/plain": [
              "'아메리카노, 허니버터브레드, 와플'"
            ]
          },
          "metadata": {
            "tags": []
          },
          "execution_count": 20
        }
      ]
    },
    {
      "cell_type": "markdown",
      "metadata": {
        "id": "hYB9hcVDvu0-"
      },
      "source": [
        "- 문제 발생한 네번째 업소 살펴보기"
      ]
    },
    {
      "cell_type": "code",
      "metadata": {
        "colab": {
          "base_uri": "https://localhost:8080/",
          "height": 35
        },
        "id": "z6biVlWgvkcQ",
        "outputId": "f8d3098d-758b-4856-8dcc-103ab452d1d3"
      },
      "source": [
        "li = lis[3]\n",
        "li.select_one('em').string"
      ],
      "execution_count": 21,
      "outputs": [
        {
          "output_type": "execute_result",
          "data": {
            "application/vnd.google.colaboratory.intrinsic+json": {
              "type": "string"
            },
            "text/plain": [
              "'평가중'"
            ]
          },
          "metadata": {
            "tags": []
          },
          "execution_count": 21
        }
      ]
    },
    {
      "cell_type": "code",
      "metadata": {
        "colab": {
          "base_uri": "https://localhost:8080/",
          "height": 35
        },
        "id": "iJNkzh7My129",
        "outputId": "7905412f-8619-4140-cab8-a948dc26b9aa"
      },
      "source": [
        "li = lis[1]\n",
        "li.select_one('em').string"
      ],
      "execution_count": 22,
      "outputs": [
        {
          "output_type": "execute_result",
          "data": {
            "application/vnd.google.colaboratory.intrinsic+json": {
              "type": "string"
            },
            "text/plain": [
              "'3.4'"
            ]
          },
          "metadata": {
            "tags": []
          },
          "execution_count": 22
        }
      ]
    },
    {
      "cell_type": "code",
      "metadata": {
        "id": "hU8W4nPmy6ca"
      },
      "source": [
        "score = li.select_one('em').string\n",
        "if score == '평가중':\n",
        "    score = '0'"
      ],
      "execution_count": null,
      "outputs": []
    },
    {
      "cell_type": "markdown",
      "metadata": {
        "id": "CErRRp9MzG4_"
      },
      "source": [
        "- 변경된 방법으로 재시도"
      ]
    },
    {
      "cell_type": "code",
      "metadata": {
        "id": "0uYtAH-hzK-o"
      },
      "source": [
        "name_list, score_list, menu_list, tel_list, addr_list = [], [], [], [], []\n",
        "for i, li in enumerate(lis):\n",
        "    href = li.select_one('a')['href']\n",
        "    name = li.select_one('.store').string\n",
        "    score = li.select_one('em').string\n",
        "    if score == '평가중':\n",
        "        score = '0'\n",
        "    menu = li.select_one('.cnt p').text\n",
        "\n",
        "    url = base_url + href\n",
        "    req = requests.get(url)\n",
        "    sub_soup = BeautifulSoup(req.text, 'html.parser')\n",
        "    \n",
        "    try:\n",
        "        tel = sub_soup.select_one('.p_tel p').get_text()\n",
        "        addr = sub_soup.select_one('.txt_adr').string\n",
        "\n",
        "        name_list.append(name)\n",
        "        score_list.append(score)\n",
        "        menu_list.append(menu)\n",
        "        tel_list.append(tel)\n",
        "        addr_list.append(addr)\n",
        "    except:\n",
        "        print(i)"
      ],
      "execution_count": 25,
      "outputs": []
    },
    {
      "cell_type": "code",
      "metadata": {
        "colab": {
          "base_uri": "https://localhost:8080/",
          "height": 421
        },
        "id": "j48MJOJw0CCv",
        "outputId": "f00ceade-8678-44ab-d6d3-18a913fbba3b"
      },
      "source": [
        "df = pd.DataFrame({\n",
        "    '식당명' : name_list, '평점' : score_list,\n",
        "    '메뉴' :menu_list, '전화번호' : tel_list,\n",
        "    '주소' : addr_list\n",
        "})\n",
        "\n",
        "df"
      ],
      "execution_count": 26,
      "outputs": [
        {
          "output_type": "execute_result",
          "data": {
            "text/html": [
              "<div>\n",
              "<style scoped>\n",
              "    .dataframe tbody tr th:only-of-type {\n",
              "        vertical-align: middle;\n",
              "    }\n",
              "\n",
              "    .dataframe tbody tr th {\n",
              "        vertical-align: top;\n",
              "    }\n",
              "\n",
              "    .dataframe thead th {\n",
              "        text-align: right;\n",
              "    }\n",
              "</style>\n",
              "<table border=\"1\" class=\"dataframe\">\n",
              "  <thead>\n",
              "    <tr style=\"text-align: right;\">\n",
              "      <th></th>\n",
              "      <th>식당명</th>\n",
              "      <th>평점</th>\n",
              "      <th>메뉴</th>\n",
              "      <th>전화번호</th>\n",
              "      <th>주소</th>\n",
              "    </tr>\n",
              "  </thead>\n",
              "  <tbody>\n",
              "    <tr>\n",
              "      <th>0</th>\n",
              "      <td>그릭슈바인 양재역점</td>\n",
              "      <td>3.6</td>\n",
              "      <td>그릭슈바인bbq, 슈바이네 학센, 모듬 소세지 bbq, 콥 샐러드</td>\n",
              "      <td>02-572-6100</td>\n",
              "      <td>서울특별시 서초구 강남대로 224</td>\n",
              "    </tr>\n",
              "    <tr>\n",
              "      <th>1</th>\n",
              "      <td>미스터브리즈 양재역점</td>\n",
              "      <td>3.4</td>\n",
              "      <td>아메리카노, 허니버터브레드, 와플</td>\n",
              "      <td>02-576-4333</td>\n",
              "      <td>서울 서초구 강남대로34길 6</td>\n",
              "    </tr>\n",
              "    <tr>\n",
              "      <th>2</th>\n",
              "      <td>동신참치 양재역점</td>\n",
              "      <td>3.0</td>\n",
              "      <td>참치회, 참치정식</td>\n",
              "      <td>02-529-7130</td>\n",
              "      <td>서울 서초구 강남대로 213</td>\n",
              "    </tr>\n",
              "    <tr>\n",
              "      <th>3</th>\n",
              "      <td>새우닭 양재역점</td>\n",
              "      <td>0</td>\n",
              "      <td>딱새우회, 닭도리탕, 딱새우튀김, 술국닭계장, 마라해물새우</td>\n",
              "      <td>02-575-6088</td>\n",
              "      <td>서울특별시 서초구 남부순환로356길 52  1층</td>\n",
              "    </tr>\n",
              "    <tr>\n",
              "      <th>4</th>\n",
              "      <td>양재역 옛날짜장</td>\n",
              "      <td>0</td>\n",
              "      <td>짜장면, 짬뽕, 볶음밥, 고추잡채, 쟁반짜장, 탕수육</td>\n",
              "      <td>031-503-2550</td>\n",
              "      <td>경기도 시흥시 공단1대로 13</td>\n",
              "    </tr>\n",
              "    <tr>\n",
              "      <th>5</th>\n",
              "      <td>영동족발 3호점</td>\n",
              "      <td>4.1</td>\n",
              "      <td>족발大, 쟁반막국수大, 순두부찌개, 족발 중, 해물파전</td>\n",
              "      <td>02-575-0250</td>\n",
              "      <td>서울특별시 서초구 남부순환로 2628-18</td>\n",
              "    </tr>\n",
              "    <tr>\n",
              "      <th>6</th>\n",
              "      <td>황재벌</td>\n",
              "      <td>3.9</td>\n",
              "      <td>꼼장어, 쭈꾸미, 왕 꼼장어, 닭발, 계란찜, 알 주먹밥</td>\n",
              "      <td>02-3471-5454</td>\n",
              "      <td>서울특별시 서초구 남부순환로347길 42-4 신화빌딩</td>\n",
              "    </tr>\n",
              "    <tr>\n",
              "      <th>7</th>\n",
              "      <td>김영모과자점 도곡타워점</td>\n",
              "      <td>4.1</td>\n",
              "      <td>몽블랑, 바게트샌드위치, 레즌 천연발효빵, 생크림앙팡, 마늘바게트</td>\n",
              "      <td>02-3460-2005</td>\n",
              "      <td>서울특별시 강남구 언주로30길 10 현대비젼21</td>\n",
              "    </tr>\n",
              "    <tr>\n",
              "      <th>8</th>\n",
              "      <td>소호정 본점</td>\n",
              "      <td>4.0</td>\n",
              "      <td>안동국시, 국밥, 수육(대), 전(대), 묵(대)</td>\n",
              "      <td>02-579-7282</td>\n",
              "      <td>서울특별시 서초구 논현로 27</td>\n",
              "    </tr>\n",
              "    <tr>\n",
              "      <th>9</th>\n",
              "      <td>산동칼국수</td>\n",
              "      <td>3.9</td>\n",
              "      <td>손칼국수, 만두국, 왕만두</td>\n",
              "      <td>02-3473-7972</td>\n",
              "      <td>서울특별시 서초구 강남대로37길 63</td>\n",
              "    </tr>\n",
              "    <tr>\n",
              "      <th>10</th>\n",
              "      <td>양재정육식당</td>\n",
              "      <td>4.1</td>\n",
              "      <td>한우모듬, 업진 치마살, 한우등심</td>\n",
              "      <td>02-577-5804</td>\n",
              "      <td>서울 서초구 바우뫼로35길 3</td>\n",
              "    </tr>\n",
              "    <tr>\n",
              "      <th>11</th>\n",
              "      <td>스타쉐프</td>\n",
              "      <td>3.9</td>\n",
              "      <td>지중해식문어요리, 놀라운농어요리, 버섯크림요리와 빵, 키조개관자샐러드</td>\n",
              "      <td>02-529-8248</td>\n",
              "      <td>서울특별시 강남구 논현로38길 38-6</td>\n",
              "    </tr>\n",
              "  </tbody>\n",
              "</table>\n",
              "</div>"
            ],
            "text/plain": [
              "             식당명   평점  ...          전화번호                             주소\n",
              "0     그릭슈바인 양재역점  3.6  ...   02-572-6100             서울특별시 서초구 강남대로 224\n",
              "1    미스터브리즈 양재역점  3.4  ...   02-576-4333               서울 서초구 강남대로34길 6\n",
              "2      동신참치 양재역점  3.0  ...   02-529-7130                서울 서초구 강남대로 213\n",
              "3       새우닭 양재역점    0  ...   02-575-6088     서울특별시 서초구 남부순환로356길 52  1층\n",
              "4       양재역 옛날짜장    0  ...  031-503-2550              경기도 시흥시 공단1대로 13 \n",
              "5       영동족발 3호점  4.1  ...   02-575-0250        서울특별시 서초구 남부순환로 2628-18\n",
              "6            황재벌  3.9  ...  02-3471-5454  서울특별시 서초구 남부순환로347길 42-4 신화빌딩\n",
              "7   김영모과자점 도곡타워점  4.1  ...  02-3460-2005     서울특별시 강남구 언주로30길 10 현대비젼21\n",
              "8         소호정 본점  4.0  ...   02-579-7282               서울특별시 서초구 논현로 27\n",
              "9          산동칼국수  3.9  ...  02-3473-7972           서울특별시 서초구 강남대로37길 63\n",
              "10        양재정육식당  4.1  ...   02-577-5804               서울 서초구 바우뫼로35길 3\n",
              "11          스타쉐프  3.9  ...   02-529-8248          서울특별시 강남구 논현로38길 38-6\n",
              "\n",
              "[12 rows x 5 columns]"
            ]
          },
          "metadata": {
            "tags": []
          },
          "execution_count": 26
        }
      ]
    }
  ]
}