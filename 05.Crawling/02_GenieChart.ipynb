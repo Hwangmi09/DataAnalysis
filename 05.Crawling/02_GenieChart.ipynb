{
  "nbformat": 4,
  "nbformat_minor": 0,
  "metadata": {
    "colab": {
      "name": "02_GenieChart.ipynb",
      "provenance": [],
      "collapsed_sections": []
    },
    "kernelspec": {
      "name": "python3",
      "display_name": "Python 3"
    },
    "language_info": {
      "name": "python"
    }
  },
  "cells": [
    {
      "cell_type": "markdown",
      "metadata": {
        "id": "QphvgGgNa4FE"
      },
      "source": [
        "# Genie Top200 Chart"
      ]
    },
    {
      "cell_type": "code",
      "metadata": {
        "id": "J92Tfgt2axl1"
      },
      "source": [
        "import requests \n",
        "import pandas as pd"
      ],
      "execution_count": 1,
      "outputs": []
    },
    {
      "cell_type": "markdown",
      "metadata": {
        "id": "T5luKkhxfgip"
      },
      "source": [
        "### 1. 인터넷 상에서 데이터 가져오기"
      ]
    },
    {
      "cell_type": "code",
      "metadata": {
        "colab": {
          "base_uri": "https://localhost:8080/",
          "height": 128
        },
        "id": "-2GB0kCwbIPq",
        "outputId": "a670c138-05e9-4935-db33-415b13bae20b"
      },
      "source": [
        "# Genie Top200\n",
        "url = 'https://www.genie.co.kr/chart/top200'\n",
        "req = requests.get(url)\n",
        "html = req.text\n",
        "html"
      ],
      "execution_count": 2,
      "outputs": [
        {
          "output_type": "execute_result",
          "data": {
            "application/vnd.google.colaboratory.intrinsic+json": {
              "type": "string"
            },
            "text/plain": [
              "'<br>\\r\\n<br>\\r\\n<center>\\r\\n<img src=\"http://www.geniemusic.co.kr/images/common/logo_r1.png\"><br>\\r\\n<h2> <meta http-equiv=\"Content-Type\" content=\"text/html;charset=UTF-8\"> ì\\xa0\\x91ì\\x86\\x8dì\\x9a\\x94ì²\\xadì\\x9d´ ë³´ì\\x95\\x88ì\\xa0\\x95ì±\\x85ì\\x97\\x90 ì\\x9d\\x98í\\x95´ ì°¨ë\\x8b¨ë\\x90\\x98ì\\x97\\x88ì\\x8aµë\\x8b\\x88ë\\x8b¤. ë\\x8b¹ì\\x82¬ ê³\\xa0ê°\\x9dì\\x84¼í\\x84°ë¡\\x9c ë¬¸ì\\x9d\\x98í\\x95´ì£¼ì\\x8b\\xadì\\x8b\\x9cì\\x98¤.<br><br>\\r\\nThe security policy of the connection request is blocked. Contact your customer service representative.<br><br>\\r\\nì§\\x80ë\\x8b\\x88ë®¤ì§\\x81 ê³\\xa0ê°\\x9dì\\x84¼í\\x84° 1577-5337<br><br>\\r\\n</h2>\\r\\n</center>\\r\\n<br>'"
            ]
          },
          "metadata": {
            "tags": []
          },
          "execution_count": 2
        }
      ]
    },
    {
      "cell_type": "code",
      "metadata": {
        "id": "TzobueN4bd6T"
      },
      "source": [
        "# Chrome User-Agent\n",
        "header = {'User-Agent':\n",
        "          'Mozilla/5.0 (X11; Linux x86_64) AppleWebKit/537.36 (KHTML, like Gecko) Chrome/51.0.2704.103 Safari/537.36'}\n",
        "req = requests.get(url, headers=header)\n",
        "html = req.text\n",
        "# html"
      ],
      "execution_count": 4,
      "outputs": []
    },
    {
      "cell_type": "code",
      "metadata": {
        "id": "Zib63g-QciP9"
      },
      "source": [
        "from bs4 import BeautifulSoup\n",
        "\n",
        "soup = BeautifulSoup(html, 'html.parser') # 구문 분석"
      ],
      "execution_count": 6,
      "outputs": []
    },
    {
      "cell_type": "markdown",
      "metadata": {
        "id": "jDTlt02LfyNV"
      },
      "source": [
        "### 2. 찾으려고 하는 데이터의 태그 찾기"
      ]
    },
    {
      "cell_type": "code",
      "metadata": {
        "colab": {
          "base_uri": "https://localhost:8080/"
        },
        "id": "aWNDZL0-f-WH",
        "outputId": "f0d38a73-177c-4ea9-95b6-f0319f375e0c"
      },
      "source": [
        "# <table class=\"list-wrap\">\n",
        "table = soup.select_one('table.list-wrap')\n",
        "trs = table.select('tr.list')\n",
        "len(trs)"
      ],
      "execution_count": 8,
      "outputs": [
        {
          "output_type": "execute_result",
          "data": {
            "text/plain": [
              "50"
            ]
          },
          "metadata": {
            "tags": []
          },
          "execution_count": 8
        }
      ]
    },
    {
      "cell_type": "code",
      "metadata": {
        "colab": {
          "base_uri": "https://localhost:8080/"
        },
        "id": "A0avUbA3g2Um",
        "outputId": "71c6b46a-d649-431b-c9fc-a5bfe9c43457"
      },
      "source": [
        "trs = soup.select('tr.list')\n",
        "len(trs)"
      ],
      "execution_count": 9,
      "outputs": [
        {
          "output_type": "execute_result",
          "data": {
            "text/plain": [
              "50"
            ]
          },
          "metadata": {
            "tags": []
          },
          "execution_count": 9
        }
      ]
    },
    {
      "cell_type": "markdown",
      "metadata": {
        "id": "Z1ZN67kWhbZE"
      },
      "source": [
        "### 3. 여러개의 데이터 중 하나를 선택해서 원하는 정보 추출"
      ]
    },
    {
      "cell_type": "code",
      "metadata": {
        "id": "HgFQs6cNhH5v"
      },
      "source": [
        "# rank, title, artist, album 찾기\n",
        "tr = trs[0]"
      ],
      "execution_count": 11,
      "outputs": []
    },
    {
      "cell_type": "code",
      "metadata": {
        "colab": {
          "base_uri": "https://localhost:8080/",
          "height": 35
        },
        "id": "FkVXVneliJmw",
        "outputId": "c4207d93-3a0f-41b0-e552-58fcef0da64c"
      },
      "source": [
        "# rank\n",
        "tr.select_one('.number').get_text()"
      ],
      "execution_count": 14,
      "outputs": [
        {
          "output_type": "execute_result",
          "data": {
            "application/vnd.google.colaboratory.intrinsic+json": {
              "type": "string"
            },
            "text/plain": [
              "'1\\n                                        \\n                                    \\n유지\\n\\n'"
            ]
          },
          "metadata": {
            "tags": []
          },
          "execution_count": 14
        }
      ]
    },
    {
      "cell_type": "code",
      "metadata": {
        "colab": {
          "base_uri": "https://localhost:8080/",
          "height": 35
        },
        "id": "FquS5tM0iaQ0",
        "outputId": "ab96cbd0-d301-4c25-dfd6-086c5c5fab75"
      },
      "source": [
        "tr.select_one('.number').get_text().split('\\n')[0]"
      ],
      "execution_count": 15,
      "outputs": [
        {
          "output_type": "execute_result",
          "data": {
            "application/vnd.google.colaboratory.intrinsic+json": {
              "type": "string"
            },
            "text/plain": [
              "'1'"
            ]
          },
          "metadata": {
            "tags": []
          },
          "execution_count": 15
        }
      ]
    },
    {
      "cell_type": "code",
      "metadata": {
        "colab": {
          "base_uri": "https://localhost:8080/"
        },
        "id": "vu1VyxamiyIG",
        "outputId": "bd87cd3e-1cc8-41e6-d465-70a92ebd9e8b"
      },
      "source": [
        "rank = int(tr.select_one('.number').get_text().split('\\n')[0])\n",
        "rank"
      ],
      "execution_count": 16,
      "outputs": [
        {
          "output_type": "execute_result",
          "data": {
            "text/plain": [
              "1"
            ]
          },
          "metadata": {
            "tags": []
          },
          "execution_count": 16
        }
      ]
    },
    {
      "cell_type": "code",
      "metadata": {
        "colab": {
          "base_uri": "https://localhost:8080/",
          "height": 72
        },
        "id": "jxDPkU0Li31p",
        "outputId": "ff38fdbb-6e71-4cec-cbc4-aa174cf9386b"
      },
      "source": [
        "# title\n",
        "tr.select_one('.info').select_one('.title').get_text()"
      ],
      "execution_count": 19,
      "outputs": [
        {
          "output_type": "execute_result",
          "data": {
            "application/vnd.google.colaboratory.intrinsic+json": {
              "type": "string"
            },
            "text/plain": [
              "'\\n                                        \\n                                            \\n                                        \\n                                        \\n                                        \\n                                        \\n                                            \\n                                                Queendom'"
            ]
          },
          "metadata": {
            "tags": []
          },
          "execution_count": 19
        }
      ]
    },
    {
      "cell_type": "code",
      "metadata": {
        "colab": {
          "base_uri": "https://localhost:8080/",
          "height": 35
        },
        "id": "BIX3FtSijcZf",
        "outputId": "773a1c42-f69e-4e4f-9ab3-6f6d2a26bf8a"
      },
      "source": [
        "title = tr.select_one('.info').select_one('.title').get_text().strip()\n",
        "title"
      ],
      "execution_count": 20,
      "outputs": [
        {
          "output_type": "execute_result",
          "data": {
            "application/vnd.google.colaboratory.intrinsic+json": {
              "type": "string"
            },
            "text/plain": [
              "'Queendom'"
            ]
          },
          "metadata": {
            "tags": []
          },
          "execution_count": 20
        }
      ]
    },
    {
      "cell_type": "code",
      "metadata": {
        "colab": {
          "base_uri": "https://localhost:8080/",
          "height": 35
        },
        "id": "NYOigYD6jl6p",
        "outputId": "9948ac74-ec19-4bd5-ae85-e655a35c31b2"
      },
      "source": [
        "# artist\n",
        "tr.select_one('.info').select_one('.artist').get_text()"
      ],
      "execution_count": 21,
      "outputs": [
        {
          "output_type": "execute_result",
          "data": {
            "application/vnd.google.colaboratory.intrinsic+json": {
              "type": "string"
            },
            "text/plain": [
              "'Red Velvet (레드벨벳)'"
            ]
          },
          "metadata": {
            "tags": []
          },
          "execution_count": 21
        }
      ]
    },
    {
      "cell_type": "code",
      "metadata": {
        "colab": {
          "base_uri": "https://localhost:8080/",
          "height": 35
        },
        "id": "FN-wJ0v6kSvl",
        "outputId": "313ca401-d986-4c0c-8241-3ef1e254a50d"
      },
      "source": [
        "artist = tr.select_one('.info').select_one('.artist').get_text().strip()\n",
        "artist"
      ],
      "execution_count": 23,
      "outputs": [
        {
          "output_type": "execute_result",
          "data": {
            "application/vnd.google.colaboratory.intrinsic+json": {
              "type": "string"
            },
            "text/plain": [
              "'Red Velvet (레드벨벳)'"
            ]
          },
          "metadata": {
            "tags": []
          },
          "execution_count": 23
        }
      ]
    },
    {
      "cell_type": "code",
      "metadata": {
        "colab": {
          "base_uri": "https://localhost:8080/",
          "height": 35
        },
        "id": "0uGNR8G9kW_C",
        "outputId": "599661c2-0d5c-425d-cf20-607ad4f3393b"
      },
      "source": [
        "# album\n",
        "tr.select_one('.info').select_one('.albumtitle').get_text()"
      ],
      "execution_count": 24,
      "outputs": [
        {
          "output_type": "execute_result",
          "data": {
            "application/vnd.google.colaboratory.intrinsic+json": {
              "type": "string"
            },
            "text/plain": [
              "'Queendom - The 6th Mini Album'"
            ]
          },
          "metadata": {
            "tags": []
          },
          "execution_count": 24
        }
      ]
    },
    {
      "cell_type": "code",
      "metadata": {
        "colab": {
          "base_uri": "https://localhost:8080/",
          "height": 35
        },
        "id": "hKRPI0bbkpy3",
        "outputId": "cd3b0ad0-2e24-47b1-d454-e0e8c1242d5a"
      },
      "source": [
        "album = tr.select_one('.info').select_one('.albumtitle').get_text().strip()\n",
        "album"
      ],
      "execution_count": 25,
      "outputs": [
        {
          "output_type": "execute_result",
          "data": {
            "application/vnd.google.colaboratory.intrinsic+json": {
              "type": "string"
            },
            "text/plain": [
              "'Queendom - The 6th Mini Album'"
            ]
          },
          "metadata": {
            "tags": []
          },
          "execution_count": 25
        }
      ]
    },
    {
      "cell_type": "markdown",
      "metadata": {
        "id": "iMHAmAKekwK5"
      },
      "source": [
        "### 4. 한 페이지에 있는 모든 데이터를 반복문으로 가져오기"
      ]
    },
    {
      "cell_type": "code",
      "metadata": {
        "id": "RCYFUPMTkuz5"
      },
      "source": [
        "rank_list, title_list, artist_list, album_list = [], [], [], []\n",
        "for tr in trs:\n",
        "    rank = int(tr.select_one('.number').get_text().split('\\n')[0])\n",
        "    title = tr.select_one('.info').select_one('.title').get_text().strip()\n",
        "    artist = tr.select_one('.info').select_one('.artist').get_text().strip()\n",
        "    album = tr.select_one('.info').select_one('.albumtitle').get_text().strip()\n",
        "    rank_list.append(rank)\n",
        "    title_list.append(title)\n",
        "    artist_list.append(artist)\n",
        "    album_list.append(album)"
      ],
      "execution_count": 26,
      "outputs": []
    },
    {
      "cell_type": "code",
      "metadata": {
        "colab": {
          "base_uri": "https://localhost:8080/",
          "height": 204
        },
        "id": "zdvjGqgZltE6",
        "outputId": "5370bd75-6185-482b-91ee-7942eeed8eee"
      },
      "source": [
        "df = pd.DataFrame({\n",
        "    '순위' : rank_list,\n",
        "    '곡명' : title_list,\n",
        "    '가수' : artist_list,\n",
        "    '앨범' : album_list\n",
        "})\n",
        "df.tail()"
      ],
      "execution_count": 27,
      "outputs": [
        {
          "output_type": "execute_result",
          "data": {
            "text/html": [
              "<div>\n",
              "<style scoped>\n",
              "    .dataframe tbody tr th:only-of-type {\n",
              "        vertical-align: middle;\n",
              "    }\n",
              "\n",
              "    .dataframe tbody tr th {\n",
              "        vertical-align: top;\n",
              "    }\n",
              "\n",
              "    .dataframe thead th {\n",
              "        text-align: right;\n",
              "    }\n",
              "</style>\n",
              "<table border=\"1\" class=\"dataframe\">\n",
              "  <thead>\n",
              "    <tr style=\"text-align: right;\">\n",
              "      <th></th>\n",
              "      <th>순위</th>\n",
              "      <th>곡명</th>\n",
              "      <th>가수</th>\n",
              "      <th>앨범</th>\n",
              "    </tr>\n",
              "  </thead>\n",
              "  <tbody>\n",
              "    <tr>\n",
              "      <th>45</th>\n",
              "      <td>46</td>\n",
              "      <td>미워요</td>\n",
              "      <td>임영웅</td>\n",
              "      <td>미워요 &amp; 소나기</td>\n",
              "    </tr>\n",
              "    <tr>\n",
              "      <th>46</th>\n",
              "      <td>47</td>\n",
              "      <td>Timeless</td>\n",
              "      <td>SG워너비</td>\n",
              "      <td>Wanna Be＋</td>\n",
              "    </tr>\n",
              "    <tr>\n",
              "      <th>47</th>\n",
              "      <td>48</td>\n",
              "      <td>사이렌 Remix (Feat. UNEDUCATED KID &amp; Paul Blanco)</td>\n",
              "      <td>호미들</td>\n",
              "      <td>사이렌 Remix</td>\n",
              "    </tr>\n",
              "    <tr>\n",
              "      <th>48</th>\n",
              "      <td>49</td>\n",
              "      <td>At My Worst</td>\n",
              "      <td>Pink Sweat$</td>\n",
              "      <td>The Prelude</td>\n",
              "    </tr>\n",
              "    <tr>\n",
              "      <th>49</th>\n",
              "      <td>50</td>\n",
              "      <td>내 손을 잡아</td>\n",
              "      <td>아이유 (IU)</td>\n",
              "      <td>최고의 사랑 OST Part.4 (MBC 수목드라마)</td>\n",
              "    </tr>\n",
              "  </tbody>\n",
              "</table>\n",
              "</div>"
            ],
            "text/plain": [
              "    순위  ...                             앨범\n",
              "45  46  ...                      미워요 & 소나기\n",
              "46  47  ...                      Wanna Be＋\n",
              "47  48  ...                      사이렌 Remix\n",
              "48  49  ...                    The Prelude\n",
              "49  50  ...  최고의 사랑 OST Part.4 (MBC 수목드라마)\n",
              "\n",
              "[5 rows x 4 columns]"
            ]
          },
          "metadata": {
            "tags": []
          },
          "execution_count": 27
        }
      ]
    },
    {
      "cell_type": "code",
      "metadata": {
        "id": "m7C7zCZJl9AV"
      },
      "source": [
        "lines = []\n",
        "for tr in trs:\n",
        "    rank = int(tr.select_one('.number').get_text().split('\\n')[0])\n",
        "    title = tr.select_one('.info').select_one('.title').get_text().strip()\n",
        "    artist = tr.select_one('.info').select_one('.artist').get_text().strip()\n",
        "    album = tr.select_one('.info').select_one('.albumtitle').get_text().strip()\n",
        "    lines.append([rank, title, artist, album])"
      ],
      "execution_count": 28,
      "outputs": []
    },
    {
      "cell_type": "code",
      "metadata": {
        "colab": {
          "base_uri": "https://localhost:8080/",
          "height": 204
        },
        "id": "43gzi1rInBGt",
        "outputId": "8a3bcf7c-c3f2-4523-c18a-24a4da3fac87"
      },
      "source": [
        "df = pd.DataFrame(lines, columns=['순위', '곡명', '가수', '앨범'])\n",
        "df.head()"
      ],
      "execution_count": 29,
      "outputs": [
        {
          "output_type": "execute_result",
          "data": {
            "text/html": [
              "<div>\n",
              "<style scoped>\n",
              "    .dataframe tbody tr th:only-of-type {\n",
              "        vertical-align: middle;\n",
              "    }\n",
              "\n",
              "    .dataframe tbody tr th {\n",
              "        vertical-align: top;\n",
              "    }\n",
              "\n",
              "    .dataframe thead th {\n",
              "        text-align: right;\n",
              "    }\n",
              "</style>\n",
              "<table border=\"1\" class=\"dataframe\">\n",
              "  <thead>\n",
              "    <tr style=\"text-align: right;\">\n",
              "      <th></th>\n",
              "      <th>순위</th>\n",
              "      <th>곡명</th>\n",
              "      <th>가수</th>\n",
              "      <th>앨범</th>\n",
              "    </tr>\n",
              "  </thead>\n",
              "  <tbody>\n",
              "    <tr>\n",
              "      <th>0</th>\n",
              "      <td>1</td>\n",
              "      <td>Queendom</td>\n",
              "      <td>Red Velvet (레드벨벳)</td>\n",
              "      <td>Queendom - The 6th Mini Album</td>\n",
              "    </tr>\n",
              "    <tr>\n",
              "      <th>1</th>\n",
              "      <td>2</td>\n",
              "      <td>신호등</td>\n",
              "      <td>이무진</td>\n",
              "      <td>신호등</td>\n",
              "    </tr>\n",
              "    <tr>\n",
              "      <th>2</th>\n",
              "      <td>3</td>\n",
              "      <td>낙하 (With 아이유)</td>\n",
              "      <td>AKMU (악뮤)</td>\n",
              "      <td>NEXT EPISODE</td>\n",
              "    </tr>\n",
              "    <tr>\n",
              "      <th>3</th>\n",
              "      <td>4</td>\n",
              "      <td>바라만 본다</td>\n",
              "      <td>MSG워너비 (M.O.M)</td>\n",
              "      <td>MSG워너비 1집</td>\n",
              "    </tr>\n",
              "    <tr>\n",
              "      <th>4</th>\n",
              "      <td>5</td>\n",
              "      <td>Permission to Dance</td>\n",
              "      <td>방탄소년단</td>\n",
              "      <td>Butter / Permission to Dance</td>\n",
              "    </tr>\n",
              "  </tbody>\n",
              "</table>\n",
              "</div>"
            ],
            "text/plain": [
              "   순위                   곡명                 가수                             앨범\n",
              "0   1             Queendom  Red Velvet (레드벨벳)  Queendom - The 6th Mini Album\n",
              "1   2                  신호등                이무진                            신호등\n",
              "2   3        낙하 (With 아이유)          AKMU (악뮤)                   NEXT EPISODE\n",
              "3   4               바라만 본다     MSG워너비 (M.O.M)                      MSG워너비 1집\n",
              "4   5  Permission to Dance              방탄소년단   Butter / Permission to Dance"
            ]
          },
          "metadata": {
            "tags": []
          },
          "execution_count": 29
        }
      ]
    },
    {
      "cell_type": "markdown",
      "metadata": {
        "id": "xP8N_a9Vn_Zx"
      },
      "source": [
        "### 5. 모든 페이지 데이터 가져오기"
      ]
    },
    {
      "cell_type": "code",
      "metadata": {
        "id": "XS4raLIZnKgi"
      },
      "source": [
        "sub = 'https://www.genie.co.kr/chart/top200?ditc=D&ymd=20210817&hh=11&rtm=Y&pg='\n",
        "rank_list, title_list, artist_list, album_list = [], [], [], []\n",
        "for page in range(1, 5):\n",
        "    url = f'{sub}{page}'\n",
        "    req = requests.get(url, headers=header)\n",
        "    soup = BeautifulSoup(req.text, 'html.parser')\n",
        "    trs = soup.select('tr.list')\n",
        "    for tr in trs:\n",
        "        rank = int(tr.select_one('.number').get_text().split('\\n')[0])\n",
        "        title = tr.select_one('.info').select_one('.title').get_text().strip()\n",
        "        artist = tr.select_one('.info').select_one('.artist').get_text().strip()\n",
        "        album = tr.select_one('.info').select_one('.albumtitle').get_text().strip()\n",
        "        rank_list.append(rank)\n",
        "        title_list.append(title)\n",
        "        artist_list.append(artist)\n",
        "        album_list.append(album)"
      ],
      "execution_count": 30,
      "outputs": []
    },
    {
      "cell_type": "code",
      "metadata": {
        "colab": {
          "base_uri": "https://localhost:8080/",
          "height": 204
        },
        "id": "SaU4D5WdpYxe",
        "outputId": "b4a71a0b-530f-4140-c0c7-0c9cde334e94"
      },
      "source": [
        "df = pd.DataFrame({\n",
        "    '순위' : rank_list,\n",
        "    '곡명' : title_list,\n",
        "    '가수' : artist_list,\n",
        "    '앨범' : album_list\n",
        "})\n",
        "df.tail()"
      ],
      "execution_count": 31,
      "outputs": [
        {
          "output_type": "execute_result",
          "data": {
            "text/html": [
              "<div>\n",
              "<style scoped>\n",
              "    .dataframe tbody tr th:only-of-type {\n",
              "        vertical-align: middle;\n",
              "    }\n",
              "\n",
              "    .dataframe tbody tr th {\n",
              "        vertical-align: top;\n",
              "    }\n",
              "\n",
              "    .dataframe thead th {\n",
              "        text-align: right;\n",
              "    }\n",
              "</style>\n",
              "<table border=\"1\" class=\"dataframe\">\n",
              "  <thead>\n",
              "    <tr style=\"text-align: right;\">\n",
              "      <th></th>\n",
              "      <th>순위</th>\n",
              "      <th>곡명</th>\n",
              "      <th>가수</th>\n",
              "      <th>앨범</th>\n",
              "    </tr>\n",
              "  </thead>\n",
              "  <tbody>\n",
              "    <tr>\n",
              "      <th>195</th>\n",
              "      <td>196</td>\n",
              "      <td>Downtown Baby</td>\n",
              "      <td>블루 (BLOO)</td>\n",
              "      <td>Downtown Baby</td>\n",
              "    </tr>\n",
              "    <tr>\n",
              "      <th>196</th>\n",
              "      <td>197</td>\n",
              "      <td>노래방에서</td>\n",
              "      <td>장범준</td>\n",
              "      <td>장범준 3집</td>\n",
              "    </tr>\n",
              "    <tr>\n",
              "      <th>197</th>\n",
              "      <td>198</td>\n",
              "      <td>널 너무 모르고</td>\n",
              "      <td>헤이즈 (Heize)</td>\n",
              "      <td>/// (너 먹구름 비)</td>\n",
              "    </tr>\n",
              "    <tr>\n",
              "      <th>198</th>\n",
              "      <td>199</td>\n",
              "      <td>너에게 난, 나에게 넌</td>\n",
              "      <td>미도와 파라솔</td>\n",
              "      <td>슬기로운 의사생활 OST Part 12 (tvN 목요드라마)</td>\n",
              "    </tr>\n",
              "    <tr>\n",
              "      <th>199</th>\n",
              "      <td>200</td>\n",
              "      <td>Rose</td>\n",
              "      <td>디오 (D.O.)</td>\n",
              "      <td>공감 - The 1st Mini Album</td>\n",
              "    </tr>\n",
              "  </tbody>\n",
              "</table>\n",
              "</div>"
            ],
            "text/plain": [
              "      순위             곡명           가수                                 앨범\n",
              "195  196  Downtown Baby    블루 (BLOO)                      Downtown Baby\n",
              "196  197          노래방에서          장범준                             장범준 3집\n",
              "197  198       널 너무 모르고  헤이즈 (Heize)                      /// (너 먹구름 비)\n",
              "198  199   너에게 난, 나에게 넌      미도와 파라솔  슬기로운 의사생활 OST Part 12 (tvN 목요드라마)\n",
              "199  200           Rose    디오 (D.O.)            공감 - The 1st Mini Album"
            ]
          },
          "metadata": {
            "tags": []
          },
          "execution_count": 31
        }
      ]
    },
    {
      "cell_type": "code",
      "metadata": {
        "id": "Jxl6EOICpdYq"
      },
      "source": [
        "df.to_csv('GenieTop200(210817).csv', index=False)"
      ],
      "execution_count": 32,
      "outputs": []
    }
  ]
}