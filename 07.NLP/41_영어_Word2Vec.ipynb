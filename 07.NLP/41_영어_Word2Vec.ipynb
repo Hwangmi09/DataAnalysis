{
  "nbformat": 4,
  "nbformat_minor": 0,
  "metadata": {
    "colab": {
      "name": "41_영어_Word2Vec.ipynb",
      "provenance": [],
      "collapsed_sections": []
    },
    "kernelspec": {
      "name": "python3",
      "display_name": "Python 3"
    },
    "language_info": {
      "name": "python"
    }
  },
  "cells": [
    {
      "cell_type": "markdown",
      "metadata": {
        "id": "1sXw1RXN3aoK"
      },
      "source": [
        "# 영어 Word2Vec 만들기"
      ]
    },
    {
      "cell_type": "code",
      "metadata": {
        "colab": {
          "base_uri": "https://localhost:8080/"
        },
        "id": "wDM6Lqo43KyO",
        "outputId": "390e3b17-880d-44d6-b6c5-d09092b42668"
      },
      "source": [
        "import nltk\n",
        "nltk.download('punkt')"
      ],
      "execution_count": null,
      "outputs": [
        {
          "output_type": "stream",
          "name": "stdout",
          "text": [
            "[nltk_data] Downloading package punkt to /root/nltk_data...\n",
            "[nltk_data]   Unzipping tokenizers/punkt.zip.\n"
          ]
        },
        {
          "output_type": "execute_result",
          "data": {
            "text/plain": [
              "True"
            ]
          },
          "metadata": {},
          "execution_count": 1
        }
      ]
    },
    {
      "cell_type": "code",
      "metadata": {
        "id": "5eaC2g_N3zOr"
      },
      "source": [
        "import urllib.request\n",
        "import zipfile\n",
        "from lxml import etree\n",
        "import re\n",
        "from nltk.tokenize import word_tokenize, sent_tokenize"
      ],
      "execution_count": null,
      "outputs": []
    },
    {
      "cell_type": "markdown",
      "metadata": {
        "id": "6vgxbGG137lf"
      },
      "source": [
        "## 훈련 데이터 이해하기"
      ]
    },
    {
      "cell_type": "code",
      "metadata": {
        "colab": {
          "base_uri": "https://localhost:8080/"
        },
        "id": "Oc0pLtrs34xI",
        "outputId": "d8fe119f-40f5-43d3-e3ae-3c466e2b149b"
      },
      "source": [
        "# 데이터 다운로드\n",
        "urllib.request.urlretrieve(\"https://raw.githubusercontent.com/GaoleMeng/RNN-and-FFNN-textClassification/master/ted_en-20160408.xml\", filename=\"ted_en-20160408.xml\")"
      ],
      "execution_count": null,
      "outputs": [
        {
          "output_type": "execute_result",
          "data": {
            "text/plain": [
              "('ted_en-20160408.xml', <http.client.HTTPMessage at 0x7f40ec9bd9d0>)"
            ]
          },
          "metadata": {},
          "execution_count": 3
        }
      ]
    },
    {
      "cell_type": "code",
      "metadata": {
        "colab": {
          "base_uri": "https://localhost:8080/"
        },
        "id": "agJGdBKj4AI0",
        "outputId": "62b5cd83-1bf0-487c-974a-6f3495d2135e"
      },
      "source": [
        "!ls -l ted_en-20160408.xml # 74MB"
      ],
      "execution_count": null,
      "outputs": [
        {
          "output_type": "stream",
          "name": "stdout",
          "text": [
            "-rw-r--r-- 1 root root 74533638 Sep  3 04:17 ted_en-20160408.xml\n"
          ]
        }
      ]
    },
    {
      "cell_type": "code",
      "metadata": {
        "colab": {
          "base_uri": "https://localhost:8080/"
        },
        "id": "ymKuixeQ4Ko8",
        "outputId": "f9b4f85d-727b-47c8-b94b-8b329aec6b24"
      },
      "source": [
        "!more ted_en-20160408.xml \n",
        "# 러닝하고 q입력하기, xml : eXtensible Markup Language-문서 교환의 표준 --> json-현재 문서 교환의 표준\n",
        "# 훈련 데이터 파일은 xml 문법으로 작성되어 있어 자연어를 얻기 위해서는 전처리가 필요\n",
        "# XMl의 형식 : <CODE>INFO-000</CODE>\n",
        "# json의 형식 : \"CODE\" : \"INFO-000\""
      ],
      "execution_count": null,
      "outputs": [
        {
          "output_type": "stream",
          "name": "stdout",
          "text": [
            "<?xml version=\"1.0\" encoding=\"UTF-8\"?>\n",
            "<xml language=\"en\"><file id=\"1\">\n",
            "  <head>\n",
            "    <url>http://www.ted.com/talks/knut_haanaes_two_reasons_companies_fail_and_ho\n",
            "w_to_avoid_them</url>\n",
            "    <pagesize>72832</pagesize>\n",
            "    <dtime>Fri Apr 01 00:57:03 CEST 2016</dtime>\n",
            "    <encoding>UTF-8</encoding>\n",
            "    <content-type>text/html; charset=utf-8</content-type>\n",
            "    <keywords>talks, business, creativity, curiosity, goal-setting, innovation, \n",
            "motivation, potential, success, work</keywords>\n",
            "    <speaker>Knut Haanaes</speaker>\n",
            "    <talkid>2470</talkid>\n",
            "    <videourl>http://download.ted.com/talks/KnutHaanaes_2015S.mp4</videourl>\n",
            "    <videopath>talks/KnutHaanaes_2015S.mp4</videopath>\n",
            "    <date>2015/06/30</date>\n",
            "    <title>Knut Haanaes: Two reasons companies fail -- and how to avoid them</ti\n",
            "tle>\n",
            "    <description>TED Talk Subtitles and Transcript: Is it possible to run a comp\n",
            "any and reinvent it at the same time? For business strategist Knut Haanaes, the \n",
            "ability to innovate after becoming successful is the mark of a great organizatio\n",
            "n. He shares insights on how to strike a balance between perfecting what we alre\n",
            "ady know and exploring totally new ideas -- and lays out how to avoid two major \n",
            "\u001b[K"
          ]
        }
      ]
    },
    {
      "cell_type": "markdown",
      "metadata": {
        "id": "uHDdlQBt53bg"
      },
      "source": [
        "## 훈련 데이터 전처리하기"
      ]
    },
    {
      "cell_type": "code",
      "metadata": {
        "id": "rX3c2fGG4Yo2"
      },
      "source": [
        "targetXML=open('ted_en-20160408.xml', 'r', encoding='UTF8')\n",
        "target_text = etree.parse(targetXML)"
      ],
      "execution_count": null,
      "outputs": []
    },
    {
      "cell_type": "code",
      "metadata": {
        "id": "6LmTPLgl6IZQ"
      },
      "source": [
        "# xml 파일로부터 <content>와 </content> 사이의 내용만 가져온다.\n",
        "parse_text = '\\n'.join(target_text.xpath('//content/text()'))"
      ],
      "execution_count": null,
      "outputs": []
    },
    {
      "cell_type": "code",
      "metadata": {
        "id": "LOB8Mngo6oGW"
      },
      "source": [
        "# 정규 표현식의 sub 모듈을 통해 content 중간에 등장하는 (Audio), (Laughter) 등의 배경음 부분을 제거.\n",
        "# 해당 코드는 괄호로 구성된 내용을 제거.\n",
        "content_text = re.sub(r'\\([^)]*\\)', '', parse_text)"
      ],
      "execution_count": null,
      "outputs": []
    },
    {
      "cell_type": "code",
      "metadata": {
        "id": "qBkG-LEu60rT"
      },
      "source": [
        "# 입력 코퍼스에 대해서 NLTK를 이용하여 문장 토큰화를 수행.\n",
        "sent_text = sent_tokenize(content_text)"
      ],
      "execution_count": null,
      "outputs": []
    },
    {
      "cell_type": "code",
      "metadata": {
        "id": "pSr93AUZ7GFs"
      },
      "source": [
        "# 각 문장에 대해서 구두점을 제거하고, 대문자를 소문자로 변환.\n",
        "normalized_text = []\n",
        "for string in sent_text:\n",
        "     tokens = re.sub(r\"[^a-z0-9]+\", \" \", string.lower())\n",
        "     normalized_text.append(tokens)"
      ],
      "execution_count": null,
      "outputs": []
    },
    {
      "cell_type": "code",
      "metadata": {
        "id": "e31TMDAV7SRb"
      },
      "source": [
        "# 각 문장에 대해서 NLTK를 이용하여 단어 토큰화를 수행.\n",
        "result = [word_tokenize(sentence) for sentence in normalized_text]"
      ],
      "execution_count": null,
      "outputs": []
    },
    {
      "cell_type": "code",
      "metadata": {
        "colab": {
          "base_uri": "https://localhost:8080/"
        },
        "id": "nV2CRO3O7k3I",
        "outputId": "14c3aadd-9702-4ecb-d8d8-7eb514ddef37"
      },
      "source": [
        "print(f'총 샘플의 개수 : {len(result):,d}')"
      ],
      "execution_count": null,
      "outputs": [
        {
          "output_type": "stream",
          "name": "stdout",
          "text": [
            "총 샘플의 개수 : 273,424\n"
          ]
        }
      ]
    },
    {
      "cell_type": "code",
      "metadata": {
        "colab": {
          "base_uri": "https://localhost:8080/"
        },
        "id": "OvEumT7i72Dm",
        "outputId": "cf5e050f-238f-47fd-cae8-3c3c0b2ac7c0"
      },
      "source": [
        "# 샘플 3개만 출력\n",
        "for line in result[:3]:\n",
        "    print(line)"
      ],
      "execution_count": null,
      "outputs": [
        {
          "output_type": "stream",
          "name": "stdout",
          "text": [
            "['here', 'are', 'two', 'reasons', 'companies', 'fail', 'they', 'only', 'do', 'more', 'of', 'the', 'same', 'or', 'they', 'only', 'do', 'what', 's', 'new']\n",
            "['to', 'me', 'the', 'real', 'real', 'solution', 'to', 'quality', 'growth', 'is', 'figuring', 'out', 'the', 'balance', 'between', 'two', 'activities', 'exploration', 'and', 'exploitation']\n",
            "['both', 'are', 'necessary', 'but', 'it', 'can', 'be', 'too', 'much', 'of', 'a', 'good', 'thing']\n"
          ]
        }
      ]
    },
    {
      "cell_type": "markdown",
      "metadata": {
        "id": "v_gxk9qX8JkZ"
      },
      "source": [
        "## Word2Vec 훈련시키기\n",
        "- size = 워드 벡터의 특징 값. 즉, 임베딩 된 벡터의 차원.\n",
        "- window = 컨텍스트 윈도우 크기\n",
        "- min_count = 단어 최소 빈도 수 제한 (빈도가 적은 단어들은 학습하지 않는다.)\n",
        "- workers = 학습을 위한 프로세스 수\n",
        "- sg = 0은 CBOW, 1은 Skip-gram"
      ]
    },
    {
      "cell_type": "code",
      "metadata": {
        "id": "r7Z5mN4-7_V6"
      },
      "source": [
        "from gensim.models import Word2Vec\n",
        "model = Word2Vec(sentences=result, size=100, window=5, min_count=5, workers=4, sg=0)"
      ],
      "execution_count": null,
      "outputs": []
    },
    {
      "cell_type": "code",
      "metadata": {
        "colab": {
          "base_uri": "https://localhost:8080/"
        },
        "id": "O169gNk98sCU",
        "outputId": "11ef07ca-b354-4695-9244-105500c15a27"
      },
      "source": [
        "model.wv.most_similar('man')"
      ],
      "execution_count": null,
      "outputs": [
        {
          "output_type": "execute_result",
          "data": {
            "text/plain": [
              "[('woman', 0.8396265506744385),\n",
              " ('guy', 0.8157703280448914),\n",
              " ('lady', 0.7985696792602539),\n",
              " ('boy', 0.7604172229766846),\n",
              " ('girl', 0.7434580326080322),\n",
              " ('soldier', 0.727820634841919),\n",
              " ('gentleman', 0.7168433666229248),\n",
              " ('kid', 0.6915112733840942),\n",
              " ('rabbi', 0.6906076073646545),\n",
              " ('friend', 0.6810787916183472)]"
            ]
          },
          "metadata": {},
          "execution_count": 17
        }
      ]
    },
    {
      "cell_type": "code",
      "metadata": {
        "colab": {
          "base_uri": "https://localhost:8080/"
        },
        "id": "Mq3HmKwN9Ast",
        "outputId": "aa0d88f3-7d45-4871-e150-40dd9b7c8eac"
      },
      "source": [
        "# man - boy + girl --> woman\n",
        "model.wv.most_similar(positive=['man', 'girl'], negative=['boy'], topn=3)"
      ],
      "execution_count": null,
      "outputs": [
        {
          "output_type": "execute_result",
          "data": {
            "text/plain": [
              "[('woman', 0.846427321434021),\n",
              " ('lady', 0.7639711499214172),\n",
              " ('guy', 0.7409915924072266)]"
            ]
          },
          "metadata": {},
          "execution_count": 25
        }
      ]
    },
    {
      "cell_type": "markdown",
      "metadata": {
        "id": "Dp_5T1o69wRG"
      },
      "source": [
        "## 모델 저장하고 로드하기"
      ]
    },
    {
      "cell_type": "code",
      "metadata": {
        "id": "bUUxi-5u9j2A"
      },
      "source": [
        "from gensim.models import KeyedVectors\n",
        "model.wv.save_word2vec_format('eng_w2v') # 모델 저장"
      ],
      "execution_count": null,
      "outputs": []
    },
    {
      "cell_type": "code",
      "metadata": {
        "colab": {
          "base_uri": "https://localhost:8080/"
        },
        "id": "c1lTMSAe-JT_",
        "outputId": "998bb876-8046-4e0c-e1c6-d4c2f891574c"
      },
      "source": [
        "!ls -l"
      ],
      "execution_count": null,
      "outputs": [
        {
          "output_type": "stream",
          "name": "stdout",
          "text": [
            "total 97900\n",
            "-rw-r--r-- 1 root root 25707730 Sep  3 04:44 eng_w2v\n",
            "drwxr-xr-x 1 root root     4096 Sep  1 19:26 sample_data\n",
            "-rw-r--r-- 1 root root 74533638 Sep  3 04:17 ted_en-20160408.xml\n"
          ]
        }
      ]
    },
    {
      "cell_type": "code",
      "metadata": {
        "id": "3Trg7R6Q-K-x"
      },
      "source": [
        "loaded_model = KeyedVectors.load_word2vec_format(\"eng_w2v\") # 모델 로드"
      ],
      "execution_count": null,
      "outputs": []
    },
    {
      "cell_type": "code",
      "metadata": {
        "colab": {
          "base_uri": "https://localhost:8080/"
        },
        "id": "2sJBW6RA-O5o",
        "outputId": "6bc589fe-aec3-481a-b585-53b7256222d0"
      },
      "source": [
        "loaded_model.most_similar('man')"
      ],
      "execution_count": null,
      "outputs": [
        {
          "output_type": "execute_result",
          "data": {
            "text/plain": [
              "[('woman', 0.8396265506744385),\n",
              " ('guy', 0.8157703280448914),\n",
              " ('lady', 0.7985696792602539),\n",
              " ('boy', 0.7604172229766846),\n",
              " ('girl', 0.7434580326080322),\n",
              " ('soldier', 0.727820634841919),\n",
              " ('gentleman', 0.7168433666229248),\n",
              " ('kid', 0.6915112733840942),\n",
              " ('rabbi', 0.6906076073646545),\n",
              " ('friend', 0.6810787916183472)]"
            ]
          },
          "metadata": {},
          "execution_count": 23
        }
      ]
    }
  ]
}