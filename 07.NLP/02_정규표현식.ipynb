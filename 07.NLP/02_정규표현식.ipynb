{
  "nbformat": 4,
  "nbformat_minor": 0,
  "metadata": {
    "colab": {
      "name": "02_정규표현식.ipynb",
      "provenance": [],
      "collapsed_sections": []
    },
    "kernelspec": {
      "name": "python3",
      "display_name": "Python 3"
    },
    "language_info": {
      "name": "python"
    }
  },
  "cells": [
    {
      "cell_type": "markdown",
      "metadata": {
        "id": "psHb4rfWcY_S"
      },
      "source": [
        "# 정규 표현식(Regular Expression)"
      ]
    },
    {
      "cell_type": "code",
      "metadata": {
        "id": "n7qbNB23Z9Fn"
      },
      "source": [
        "re.sub('정규표현식', '바꿀 문자', text)\n",
        "\n",
        "r = re.compile('정규표현식') # 특정한 정규표현식을 자주 사용할 경우 re.complie을 사용하는 것이 속도가 빠름.\n",
        "r.sub('바꿀 문자', text)"
      ],
      "execution_count": null,
      "outputs": []
    },
    {
      "cell_type": "code",
      "metadata": {
        "id": "oAGp0wzNe40N"
      },
      "source": [
        "import re"
      ],
      "execution_count": 21,
      "outputs": []
    },
    {
      "cell_type": "markdown",
      "metadata": {
        "id": "1GIt8iIfe1bL"
      },
      "source": [
        "## 1. 정규표현식 실습"
      ]
    },
    {
      "cell_type": "markdown",
      "metadata": {
        "id": "iwTNe9bjfUkx"
      },
      "source": [
        "- 마침표(.) 기호 : 한 개의 임의의 문자"
      ]
    },
    {
      "cell_type": "code",
      "metadata": {
        "id": "295DrJLVe3QP"
      },
      "source": [
        "re.search('a.c', 'kkk') # re.search : 문자열 전체에 대해서 정규표현식과 매치되는지를 검색"
      ],
      "execution_count": 2,
      "outputs": []
    },
    {
      "cell_type": "code",
      "metadata": {
        "colab": {
          "base_uri": "https://localhost:8080/"
        },
        "id": "pEiklxc4e-hQ",
        "outputId": "4d0e41a8-3fff-4f4e-f2cd-b44ad11e46d2"
      },
      "source": [
        "re.search('a.c', 'abc')"
      ],
      "execution_count": 6,
      "outputs": [
        {
          "output_type": "execute_result",
          "data": {
            "text/plain": [
              "<re.Match object; span=(0, 3), match='abc'>"
            ]
          },
          "metadata": {},
          "execution_count": 6
        }
      ]
    },
    {
      "cell_type": "markdown",
      "metadata": {
        "id": "r6D_Cw__fSpx"
      },
      "source": [
        "- ? 기호 : 바로 앞의 문자가 0개 또는 1개"
      ]
    },
    {
      "cell_type": "code",
      "metadata": {
        "id": "dArQTi3yfJpL"
      },
      "source": [
        "r = re.compile('ab?c')\n",
        "r.search('abbc') # b가 2개라서 아무것도 출력되지 않음."
      ],
      "execution_count": 19,
      "outputs": []
    },
    {
      "cell_type": "code",
      "metadata": {
        "colab": {
          "base_uri": "https://localhost:8080/"
        },
        "id": "kfRQsxH1fa4z",
        "outputId": "c2088605-54a3-4a3d-b4d8-00a9cecb2743"
      },
      "source": [
        "r.search('abc')"
      ],
      "execution_count": 8,
      "outputs": [
        {
          "output_type": "execute_result",
          "data": {
            "text/plain": [
              "<re.Match object; span=(0, 3), match='abc'>"
            ]
          },
          "metadata": {},
          "execution_count": 8
        }
      ]
    },
    {
      "cell_type": "code",
      "metadata": {
        "colab": {
          "base_uri": "https://localhost:8080/"
        },
        "id": "NYqK4AkgftkV",
        "outputId": "b8817049-13ae-4e72-b0a7-62c5b5aae01e"
      },
      "source": [
        "r.search('ac')"
      ],
      "execution_count": 9,
      "outputs": [
        {
          "output_type": "execute_result",
          "data": {
            "text/plain": [
              "<re.Match object; span=(0, 2), match='ac'>"
            ]
          },
          "metadata": {},
          "execution_count": 9
        }
      ]
    },
    {
      "cell_type": "markdown",
      "metadata": {
        "id": "gXcx74cjxc4b"
      },
      "source": [
        "- \\* 기호 : 바로 앞의 문자가 0개 이상"
      ]
    },
    {
      "cell_type": "code",
      "metadata": {
        "id": "1qB1Cat9gc4P"
      },
      "source": [
        "r = re.compile(\"ab*c\")\n",
        "r.search('a')"
      ],
      "execution_count": 22,
      "outputs": []
    },
    {
      "cell_type": "code",
      "metadata": {
        "colab": {
          "base_uri": "https://localhost:8080/"
        },
        "id": "TNMNRblxxtm0",
        "outputId": "b74402a6-27ee-484d-ed03-6a9ce7fbf700"
      },
      "source": [
        "r.search('ac')"
      ],
      "execution_count": 23,
      "outputs": [
        {
          "output_type": "execute_result",
          "data": {
            "text/plain": [
              "<re.Match object; span=(0, 2), match='ac'>"
            ]
          },
          "metadata": {},
          "execution_count": 23
        }
      ]
    },
    {
      "cell_type": "code",
      "metadata": {
        "colab": {
          "base_uri": "https://localhost:8080/"
        },
        "id": "Y0jPAOk4x0lU",
        "outputId": "07814559-ef04-49a2-b8de-325e5f92cece"
      },
      "source": [
        "r.search('abbbbbc')"
      ],
      "execution_count": 24,
      "outputs": [
        {
          "output_type": "execute_result",
          "data": {
            "text/plain": [
              "<re.Match object; span=(0, 7), match='abbbbbc'>"
            ]
          },
          "metadata": {},
          "execution_count": 24
        }
      ]
    },
    {
      "cell_type": "markdown",
      "metadata": {
        "id": "3Y9K6rKmx4P0"
      },
      "source": [
        "- \\+ 기호 : 앞의 문자가 최소 1개 이상"
      ]
    },
    {
      "cell_type": "code",
      "metadata": {
        "id": "GvZE09chx3Pq"
      },
      "source": [
        "r = re.compile(\"ab+c\")\n",
        "r.search('ac')"
      ],
      "execution_count": 27,
      "outputs": []
    },
    {
      "cell_type": "code",
      "metadata": {
        "colab": {
          "base_uri": "https://localhost:8080/"
        },
        "id": "hdooCKszx-03",
        "outputId": "fdc3d571-969e-492d-e4f8-7212f2e523d1"
      },
      "source": [
        "r.search('abbbbbc')"
      ],
      "execution_count": 28,
      "outputs": [
        {
          "output_type": "execute_result",
          "data": {
            "text/plain": [
              "<re.Match object; span=(0, 7), match='abbbbbc'>"
            ]
          },
          "metadata": {},
          "execution_count": 28
        }
      ]
    },
    {
      "cell_type": "markdown",
      "metadata": {
        "id": "X8xdW88pyCu7"
      },
      "source": [
        "- ^ 기호 : 시작되는 글자를 지정"
      ]
    },
    {
      "cell_type": "code",
      "metadata": {
        "id": "P7E2hJQEyCJI"
      },
      "source": [
        "re.search('^a', 'bbc')"
      ],
      "execution_count": 29,
      "outputs": []
    },
    {
      "cell_type": "code",
      "metadata": {
        "colab": {
          "base_uri": "https://localhost:8080/"
        },
        "id": "Gr5hiNQmyMf8",
        "outputId": "0dbd69f3-7403-4016-a759-d3f0a7463fc0"
      },
      "source": [
        "re.search('^a', 'ab')"
      ],
      "execution_count": 30,
      "outputs": [
        {
          "output_type": "execute_result",
          "data": {
            "text/plain": [
              "<re.Match object; span=(0, 1), match='a'>"
            ]
          },
          "metadata": {},
          "execution_count": 30
        }
      ]
    },
    {
      "cell_type": "markdown",
      "metadata": {
        "id": "rRFjNw8NyUKv"
      },
      "source": [
        "- {숫자} 기호 : 해당 문자를 숫자만큼 반복한 것"
      ]
    },
    {
      "cell_type": "code",
      "metadata": {
        "id": "X6iKVPPkyPcq"
      },
      "source": [
        "r=re.compile(\"ab{2}c\")\n",
        "r.search(\"ac\")\n",
        "r.search(\"abc\") "
      ],
      "execution_count": 31,
      "outputs": []
    },
    {
      "cell_type": "code",
      "metadata": {
        "id": "OXzAQQqZyg6d"
      },
      "source": [
        "r.search('abbbc')"
      ],
      "execution_count": 32,
      "outputs": []
    },
    {
      "cell_type": "markdown",
      "metadata": {
        "id": "Dsv-ioTbytWM"
      },
      "source": [
        "- {숫자1, 숫자2} 기호 : 해당 문자를 숫자1 이상 숫자2 이하만큼 반복"
      ]
    },
    {
      "cell_type": "code",
      "metadata": {
        "id": "BwQHZiekyjg_"
      },
      "source": [
        "r=re.compile(\"ab{2,8}c\")\n",
        "r.search(\"ac\")\n",
        "r.search(\"abc\")"
      ],
      "execution_count": 33,
      "outputs": []
    },
    {
      "cell_type": "code",
      "metadata": {
        "colab": {
          "base_uri": "https://localhost:8080/"
        },
        "id": "ty9U6KOxy0e9",
        "outputId": "0d37726a-1e09-4f0c-88a3-de251f32120d"
      },
      "source": [
        "r.search('abbc')"
      ],
      "execution_count": 34,
      "outputs": [
        {
          "output_type": "execute_result",
          "data": {
            "text/plain": [
              "<re.Match object; span=(0, 4), match='abbc'>"
            ]
          },
          "metadata": {},
          "execution_count": 34
        }
      ]
    },
    {
      "cell_type": "code",
      "metadata": {
        "colab": {
          "base_uri": "https://localhost:8080/"
        },
        "id": "AK8-y07yy4ko",
        "outputId": "204f7b03-e336-4ae5-d4cd-038fbee4c029"
      },
      "source": [
        "r.search('abbbbbbbbc')"
      ],
      "execution_count": 35,
      "outputs": [
        {
          "output_type": "execute_result",
          "data": {
            "text/plain": [
              "<re.Match object; span=(0, 10), match='abbbbbbbbc'>"
            ]
          },
          "metadata": {},
          "execution_count": 35
        }
      ]
    },
    {
      "cell_type": "markdown",
      "metadata": {
        "id": "n6AUVaEzy_l5"
      },
      "source": [
        "- {숫자,} 기호 : 해당 문자를 숫자 이상 만큼 반복"
      ]
    },
    {
      "cell_type": "markdown",
      "metadata": {
        "id": "CsZRIGQtzCW7"
      },
      "source": [
        "- \\[ ] 기호 :  문자들 중 한 개의 문자와 매치"
      ]
    },
    {
      "cell_type": "code",
      "metadata": {
        "id": "N7oQL2W-y8y-"
      },
      "source": [
        "r=re.compile(\"[abc]\") # [abc]는 [a-c]와 같다.\n",
        "r.search(\"zzz\") # 아무런 결과도 출력되지 않는다."
      ],
      "execution_count": 37,
      "outputs": []
    },
    {
      "cell_type": "code",
      "metadata": {
        "colab": {
          "base_uri": "https://localhost:8080/"
        },
        "id": "iN9GDFmwzLjs",
        "outputId": "5ade6e2c-c760-4992-e56f-dfffbbac2e8d"
      },
      "source": [
        "r.search(\"aaaaaaa\")  "
      ],
      "execution_count": 38,
      "outputs": [
        {
          "output_type": "execute_result",
          "data": {
            "text/plain": [
              "<re.Match object; span=(0, 1), match='a'>"
            ]
          },
          "metadata": {},
          "execution_count": 38
        }
      ]
    },
    {
      "cell_type": "code",
      "metadata": {
        "colab": {
          "base_uri": "https://localhost:8080/"
        },
        "id": "9A0Ie6dTzO3s",
        "outputId": "8881973e-9792-4cde-fafa-dad9d51b2f9b"
      },
      "source": [
        "r.search(\"baac\")   "
      ],
      "execution_count": 39,
      "outputs": [
        {
          "output_type": "execute_result",
          "data": {
            "text/plain": [
              "<re.Match object; span=(0, 1), match='b'>"
            ]
          },
          "metadata": {},
          "execution_count": 39
        }
      ]
    },
    {
      "cell_type": "code",
      "metadata": {
        "id": "TYTDmr1XzQYo"
      },
      "source": [
        "# 소문자 : a-z\n",
        "re.search('[a-z]', 'ABC')"
      ],
      "execution_count": 40,
      "outputs": []
    },
    {
      "cell_type": "code",
      "metadata": {
        "colab": {
          "base_uri": "https://localhost:8080/"
        },
        "id": "7nwjbntZzl3w",
        "outputId": "97300542-842f-4b1e-f895-21d660ec62e8"
      },
      "source": [
        "re.search('[a-z]', 'Abc')"
      ],
      "execution_count": 41,
      "outputs": [
        {
          "output_type": "execute_result",
          "data": {
            "text/plain": [
              "<re.Match object; span=(1, 2), match='b'>"
            ]
          },
          "metadata": {},
          "execution_count": 41
        }
      ]
    },
    {
      "cell_type": "code",
      "metadata": {
        "id": "olrTCC23zoCq"
      },
      "source": [
        "# 문자 또는 숫자\n",
        "re.search('[0-9A-Za-z]', '#%#$')\n",
        "re.search('\\w', '#@$@#$')"
      ],
      "execution_count": 49,
      "outputs": []
    },
    {
      "cell_type": "markdown",
      "metadata": {
        "id": "LTGU7tz3z0iI"
      },
      "source": [
        "- [^문자] 기호 : ^ 기호 뒤에 붙은 문자들을 제외한 모든 문자를 매치"
      ]
    },
    {
      "cell_type": "code",
      "metadata": {
        "id": "P-AjWhAazzY6"
      },
      "source": [
        "r=re.compile(\"[^abc]\")\n",
        "r.search(\"a\") # 아무런 결과도 출력되지 않는다.\n",
        "r.search(\"ab\") # 아무런 결과도 출력되지 않는다.\n",
        "r.search(\"b\") # 아무런 결과도 출력되지 않는다."
      ],
      "execution_count": 43,
      "outputs": []
    },
    {
      "cell_type": "code",
      "metadata": {
        "colab": {
          "base_uri": "https://localhost:8080/"
        },
        "id": "0NaDFFtVz-jk",
        "outputId": "d5bf2f3b-beab-458e-caf9-e1edf7f93562"
      },
      "source": [
        "r.search(\"d1\")"
      ],
      "execution_count": 47,
      "outputs": [
        {
          "output_type": "execute_result",
          "data": {
            "text/plain": [
              "<re.Match object; span=(0, 1), match='d'>"
            ]
          },
          "metadata": {},
          "execution_count": 47
        }
      ]
    },
    {
      "cell_type": "code",
      "metadata": {
        "colab": {
          "base_uri": "https://localhost:8080/",
          "height": 35
        },
        "id": "dRhLoBAy0AGW",
        "outputId": "d359df41-cdd3-4b8e-86a1-852542896e36"
      },
      "source": [
        "# 한글과 공백을 제외한 모든 문자를 제거\n",
        "re.sub('[^ㄱ-힣 ]', '', '^기호 뒤에 붙은 문자.') # [^ㄱ-ㅎㅏ-ㅣ가-힣]"
      ],
      "execution_count": 53,
      "outputs": [
        {
          "output_type": "execute_result",
          "data": {
            "application/vnd.google.colaboratory.intrinsic+json": {
              "type": "string"
            },
            "text/plain": [
              "'기호 뒤에 붙은 문자ㅏㅜㅜㅏㅇㄶㅁㅇㅎ'"
            ]
          },
          "metadata": {},
          "execution_count": 53
        }
      ]
    },
    {
      "cell_type": "markdown",
      "metadata": {
        "id": "zVn7ZRWY1pYH"
      },
      "source": [
        "## 2. re모듈 함수"
      ]
    },
    {
      "cell_type": "markdown",
      "metadata": {
        "id": "vXv1rBoe2F-D"
      },
      "source": [
        "- re.match()와 re.search()의 차이"
      ]
    },
    {
      "cell_type": "code",
      "metadata": {
        "id": "WtcWDnJ81QPo"
      },
      "source": [
        "re.match('ab.', 'kkkabc')"
      ],
      "execution_count": 54,
      "outputs": []
    },
    {
      "cell_type": "code",
      "metadata": {
        "colab": {
          "base_uri": "https://localhost:8080/"
        },
        "id": "ZKXJTJov1_Gs",
        "outputId": "459149db-5ac7-4537-96c7-9ab821868428"
      },
      "source": [
        "re.search('ab.', 'kkkabc')"
      ],
      "execution_count": 55,
      "outputs": [
        {
          "output_type": "execute_result",
          "data": {
            "text/plain": [
              "<re.Match object; span=(3, 6), match='abc'>"
            ]
          },
          "metadata": {},
          "execution_count": 55
        }
      ]
    },
    {
      "cell_type": "markdown",
      "metadata": {
        "id": "BaiH5iVy2Lfa"
      },
      "source": [
        "- re.split()"
      ]
    },
    {
      "cell_type": "code",
      "metadata": {
        "colab": {
          "base_uri": "https://localhost:8080/"
        },
        "id": "o-lvmazI2ETT",
        "outputId": "dc26f4af-b355-4ee9-a552-44e6b2278eb8"
      },
      "source": [
        "text=\"사과 딸기 수박 메론 바나나\"\n",
        "re.split(\" \",text)"
      ],
      "execution_count": 56,
      "outputs": [
        {
          "output_type": "execute_result",
          "data": {
            "text/plain": [
              "['사과', '딸기', '수박', '메론', '바나나']"
            ]
          },
          "metadata": {},
          "execution_count": 56
        }
      ]
    },
    {
      "cell_type": "code",
      "metadata": {
        "colab": {
          "base_uri": "https://localhost:8080/"
        },
        "id": "Wjqu71e12SOW",
        "outputId": "9da417b8-587f-4d8f-b462-d4f520e86de1"
      },
      "source": [
        "text.split()"
      ],
      "execution_count": 58,
      "outputs": [
        {
          "output_type": "execute_result",
          "data": {
            "text/plain": [
              "['사과', '딸기', '수박', '메론', '바나나']"
            ]
          },
          "metadata": {},
          "execution_count": 58
        }
      ]
    },
    {
      "cell_type": "code",
      "metadata": {
        "colab": {
          "base_uri": "https://localhost:8080/"
        },
        "id": "v8azcm7b2T06",
        "outputId": "50b528e4-807f-46ba-c086-102c58e29a2f"
      },
      "source": [
        "text=\"\"\"사과     딸기   \n",
        " 수박\n",
        "메론                바나나\"\"\"\n",
        "text.split() # '\\s+'가 default"
      ],
      "execution_count": 59,
      "outputs": [
        {
          "output_type": "execute_result",
          "data": {
            "text/plain": [
              "['사과', '딸기', '수박', '메론', '바나나']"
            ]
          },
          "metadata": {},
          "execution_count": 59
        }
      ]
    },
    {
      "cell_type": "code",
      "metadata": {
        "colab": {
          "base_uri": "https://localhost:8080/"
        },
        "id": "TBiQRChA2eXK",
        "outputId": "4d48a37d-c0ad-4be2-ef0b-70d855e3e7c7"
      },
      "source": [
        "re.split('\\s+', text)"
      ],
      "execution_count": 65,
      "outputs": [
        {
          "output_type": "execute_result",
          "data": {
            "text/plain": [
              "['사과', '딸기', '수박', '메론', '바나나']"
            ]
          },
          "metadata": {},
          "execution_count": 65
        }
      ]
    },
    {
      "cell_type": "markdown",
      "metadata": {
        "id": "xkQNyxpa3Fxl"
      },
      "source": [
        "- re.findall()"
      ]
    },
    {
      "cell_type": "code",
      "metadata": {
        "colab": {
          "base_uri": "https://localhost:8080/"
        },
        "id": "aHunfPdZ2jo4",
        "outputId": "f1c53c2a-02b9-4017-b48f-10f605882c43"
      },
      "source": [
        "text=\"\"\"이름 : 김철수\n",
        "전화번호 : 010 - 1234 - 1234\n",
        "나이 : 30\n",
        "성별 : 남\"\"\"  \n",
        "re.findall(\"\\d+\",text) # '\\d' :  [0-9]"
      ],
      "execution_count": 66,
      "outputs": [
        {
          "output_type": "execute_result",
          "data": {
            "text/plain": [
              "['010', '1234', '1234', '30']"
            ]
          },
          "metadata": {},
          "execution_count": 66
        }
      ]
    },
    {
      "cell_type": "code",
      "metadata": {
        "colab": {
          "base_uri": "https://localhost:8080/"
        },
        "id": "RWugy2Te3VNf",
        "outputId": "b858ac3a-cc8e-418d-edbd-3bb062b8f977"
      },
      "source": [
        "re.findall(\"\\d+\",'김철수') # 리스트 반환"
      ],
      "execution_count": 67,
      "outputs": [
        {
          "output_type": "execute_result",
          "data": {
            "text/plain": [
              "[]"
            ]
          },
          "metadata": {},
          "execution_count": 67
        }
      ]
    },
    {
      "cell_type": "markdown",
      "metadata": {
        "id": "WIFU5afY3jfl"
      },
      "source": [
        "- re.sub()"
      ]
    },
    {
      "cell_type": "code",
      "metadata": {
        "colab": {
          "base_uri": "https://localhost:8080/",
          "height": 54
        },
        "id": "s0UGmIwS3aGO",
        "outputId": "93ac8802-37ea-430b-d9a0-76248d59d3af"
      },
      "source": [
        "text=\"\"\"Regular expression : A regular expression, regex or regexp[1] \n",
        "(sometimes called a rational expression)[2][3] \n",
        "is, in theoretical computer science and formal language theory, \n",
        "a sequence of characters that define a search pattern.\"\"\"\n",
        "re.sub('[^a-zA-Z]',' ',text)"
      ],
      "execution_count": 70,
      "outputs": [
        {
          "output_type": "execute_result",
          "data": {
            "application/vnd.google.colaboratory.intrinsic+json": {
              "type": "string"
            },
            "text/plain": [
              "'Regular expression   A regular expression  regex or regexp      sometimes called a rational expression         is  in theoretical computer science and formal language theory   a sequence of characters that define a search pattern '"
            ]
          },
          "metadata": {},
          "execution_count": 70
        }
      ]
    },
    {
      "cell_type": "markdown",
      "metadata": {
        "id": "zEszLKKx4FIg"
      },
      "source": [
        "## 3. 정규표현식 텍스트 전처리 예제"
      ]
    },
    {
      "cell_type": "code",
      "metadata": {
        "colab": {
          "base_uri": "https://localhost:8080/"
        },
        "id": "1Df_WTIB3omy",
        "outputId": "310a5936-6e1c-450a-a1b5-a955d1bded5c"
      },
      "source": [
        "text = \"\"\"100 John    PROF\n",
        "101 James   STUD\n",
        "102 Mac   STUD\"\"\"  \n",
        "\n",
        "re.split('\\s+', text)  "
      ],
      "execution_count": 72,
      "outputs": [
        {
          "output_type": "execute_result",
          "data": {
            "text/plain": [
              "['100', 'John', 'PROF', '101', 'James', 'STUD', '102', 'Mac', 'STUD']"
            ]
          },
          "metadata": {},
          "execution_count": 72
        }
      ]
    },
    {
      "cell_type": "code",
      "metadata": {
        "colab": {
          "base_uri": "https://localhost:8080/"
        },
        "id": "U3rATN1V4Jd1",
        "outputId": "34ce37eb-414d-4098-c70f-cae5780382de"
      },
      "source": [
        "re.findall('\\d+', text)"
      ],
      "execution_count": 73,
      "outputs": [
        {
          "output_type": "execute_result",
          "data": {
            "text/plain": [
              "['100', '101', '102']"
            ]
          },
          "metadata": {},
          "execution_count": 73
        }
      ]
    },
    {
      "cell_type": "code",
      "metadata": {
        "colab": {
          "base_uri": "https://localhost:8080/"
        },
        "id": "keTWg27q4bdL",
        "outputId": "52d38b53-b76c-437e-a08d-138c110c4b3a"
      },
      "source": [
        "re.findall('[A-Z]', text)"
      ],
      "execution_count": 76,
      "outputs": [
        {
          "output_type": "execute_result",
          "data": {
            "text/plain": [
              "['J', 'P', 'R', 'O', 'F', 'J', 'S', 'T', 'U', 'D', 'M', 'S', 'T', 'U', 'D']"
            ]
          },
          "metadata": {},
          "execution_count": 76
        }
      ]
    },
    {
      "cell_type": "code",
      "metadata": {
        "colab": {
          "base_uri": "https://localhost:8080/"
        },
        "id": "6sU2FUZG4iP6",
        "outputId": "ce290bc2-f622-4ccc-ca7a-502b90e47052"
      },
      "source": [
        "re.findall('[A-Z]+', text)"
      ],
      "execution_count": 77,
      "outputs": [
        {
          "output_type": "execute_result",
          "data": {
            "text/plain": [
              "['J', 'PROF', 'J', 'STUD', 'M', 'STUD']"
            ]
          },
          "metadata": {},
          "execution_count": 77
        }
      ]
    },
    {
      "cell_type": "code",
      "metadata": {
        "colab": {
          "base_uri": "https://localhost:8080/"
        },
        "id": "2O39kPan4mmX",
        "outputId": "2a2fdf9c-f3b6-48b1-cdf4-7d9bc7514472"
      },
      "source": [
        "re.findall('[A-Z]{4}', text)"
      ],
      "execution_count": 78,
      "outputs": [
        {
          "output_type": "execute_result",
          "data": {
            "text/plain": [
              "['PROF', 'STUD', 'STUD']"
            ]
          },
          "metadata": {},
          "execution_count": 78
        }
      ]
    },
    {
      "cell_type": "code",
      "metadata": {
        "colab": {
          "base_uri": "https://localhost:8080/"
        },
        "id": "-TEoZfxT4tWS",
        "outputId": "b0ab4d1c-0524-4f5a-9461-022a390bea0c"
      },
      "source": [
        "re.findall('[A-Z][a-z]+', text)"
      ],
      "execution_count": 84,
      "outputs": [
        {
          "output_type": "execute_result",
          "data": {
            "text/plain": [
              "['John', 'James', 'Mac']"
            ]
          },
          "metadata": {},
          "execution_count": 84
        }
      ]
    },
    {
      "cell_type": "code",
      "metadata": {
        "colab": {
          "base_uri": "https://localhost:8080/",
          "height": 35
        },
        "id": "J2bI4LnO43Up",
        "outputId": "35276900-0c87-4d59-c9b1-7e703a6dd510"
      },
      "source": [
        "re.sub('[A-z]', '', 'agagSDGLSGLKLfadgnlagnlSDFL$#%#   ^$#@^  Dsgldgfn')"
      ],
      "execution_count": 85,
      "outputs": [
        {
          "output_type": "execute_result",
          "data": {
            "application/vnd.google.colaboratory.intrinsic+json": {
              "type": "string"
            },
            "text/plain": [
              "'$#%#   $#@  '"
            ]
          },
          "metadata": {},
          "execution_count": 85
        }
      ]
    },
    {
      "cell_type": "code",
      "metadata": {
        "id": "c_nvwN0a5ZNu"
      },
      "source": [
        "# 참고\n",
        "[A-Za-z] : 대문자 또는 소문자 중 한 글자, A-z와 동일\n",
        "[A-Z][a-z] : 첫 번째는 글자는 대문자, 두번째는 소문자\n",
        "[A-Za-z]+ : 대문자 또는 소문자 중 한 글자 이상\n",
        "[A-Z][a-z]+ : 첫 번째는 글자는 대문자 한 글자, 두번째는 소문자 여러 글자"
      ],
      "execution_count": null,
      "outputs": []
    },
    {
      "cell_type": "markdown",
      "metadata": {
        "id": "0Ce95CB36HmH"
      },
      "source": [
        "## 4. POSIX 정규표현식"
      ]
    },
    {
      "cell_type": "code",
      "metadata": {
        "id": "uSVW_twD6ZRv"
      },
      "source": [
        "re.findall('[:digit:]', '1 b C')"
      ],
      "execution_count": null,
      "outputs": []
    },
    {
      "cell_type": "code",
      "metadata": {
        "id": "LRReXIBZ7VTX"
      },
      "source": [
        "re.findall('[:alpha:]', '1 b C')"
      ],
      "execution_count": null,
      "outputs": []
    }
  ]
}