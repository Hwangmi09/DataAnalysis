{
 "cells": [
  {
   "cell_type": "code",
   "execution_count": 1,
   "source": [
    "from selenium import webdriver\r\n",
    "from bs4 import BeautifulSoup\r\n",
    "import time\r\n",
    "import pandas as pd\r\n",
    "from urllib.parse import quote\r\n",
    "from selenium.webdriver.common.keys import Keys"
   ],
   "outputs": [],
   "metadata": {}
  },
  {
   "cell_type": "code",
   "execution_count": 59,
   "source": [
    "chromedriver = 'C:\\\\Users\\\\Hwangmi\\\\Downloads\\\\chromedriver.exe'\r\n",
    "driver = webdriver.Chrome(chromedriver)"
   ],
   "outputs": [],
   "metadata": {}
  },
  {
   "cell_type": "code",
   "execution_count": 60,
   "source": [
    "base_url = 'https://search.naver.com/search.naver?where=view&sm=tab_jum&query='\r\n",
    "url = base_url + quote('가방 추천')"
   ],
   "outputs": [],
   "metadata": {}
  },
  {
   "cell_type": "code",
   "execution_count": 61,
   "source": [
    "driver.get(url)"
   ],
   "outputs": [],
   "metadata": {}
  },
  {
   "cell_type": "code",
   "execution_count": 62,
   "source": [
    "body = driver.find_element_by_tag_name('body')\r\n",
    "for i in range(30):\r\n",
    "    body.send_keys(Keys.PAGE_DOWN)\r\n",
    "    time.sleep(2)"
   ],
   "outputs": [],
   "metadata": {}
  },
  {
   "cell_type": "code",
   "execution_count": 63,
   "source": [
    "html = driver.page_source\r\n",
    "soup = BeautifulSoup(html, 'html.parser')"
   ],
   "outputs": [],
   "metadata": {}
  },
  {
   "cell_type": "code",
   "execution_count": 64,
   "source": [
    "lis = soup.select('li.bx._svp_item')\r\n",
    "len(lis)"
   ],
   "outputs": [
    {
     "output_type": "execute_result",
     "data": {
      "text/plain": [
       "90"
      ]
     },
     "metadata": {},
     "execution_count": 64
    }
   ],
   "metadata": {}
  },
  {
   "cell_type": "code",
   "execution_count": 65,
   "source": [
    "li = lis[0]\r\n",
    "title = li.select_one('a.api_txt_lines.total_tit._cross_trigger').get_text()\r\n",
    "content = li.select_one('div.api_txt_lines.dsc_txt').get_text()\r\n",
    "date = li.select_one('.sub_time.sub_txt').get_text()\r\n",
    "title, date, content"
   ],
   "outputs": [
    {
     "output_type": "execute_result",
     "data": {
      "text/plain": [
       "('제일 잘 들고 다녔던 명품가방 추천 , 메종 마르지엘라 5ac 스몰',\n",
       " '2021.08.16.',\n",
       " '오늘은 제가 진짜 너무너무 잘 들고 다녀서 20대 ~ 30대 명품가방 추천해주세요 ! 하면 무조건 요 녀석... 강력 추천 ! 하곤 했던 명품가방 1위템 ~ 메종 마르지엘라 5ac 스몰 , 아직도 구매를 망설이고 계시다면 저는 무조건...')"
      ]
     },
     "metadata": {},
     "execution_count": 65
    }
   ],
   "metadata": {}
  },
  {
   "cell_type": "code",
   "execution_count": 66,
   "source": [
    "title_list, content_list, date_list = [], [], []\r\n",
    "for i, li in enumerate(lis):\r\n",
    "    try:\r\n",
    "        adv = li.select_one('a.link_ad').get_text()\r\n",
    "        if adv.strip() == '광고':\r\n",
    "            continue\r\n",
    "    except:\r\n",
    "        title = li.select_one('a.api_txt_lines.total_tit').get_text()\r\n",
    "        content = li.select_one('div.api_txt_lines.dsc_txt').get_text()\r\n",
    "        date = li.select_one('.sub_time.sub_txt').get_text()\r\n",
    "        \r\n",
    "        title_list.append(title)\r\n",
    "        content_list.append(content)\r\n",
    "        date_list.append(date)\r\n",
    "        \r\n",
    "        # print(i)"
   ],
   "outputs": [],
   "metadata": {}
  },
  {
   "cell_type": "code",
   "execution_count": 67,
   "source": [
    "df = pd.DataFrame({\r\n",
    "    'title' : title_list,\r\n",
    "    'date' : date_list,\r\n",
    "    'content' : content_list\r\n",
    "})\r\n",
    "df.head()"
   ],
   "outputs": [
    {
     "output_type": "execute_result",
     "data": {
      "text/plain": [
       "                                               title         date  \\\n",
       "0              제일 잘 들고 다녔던 명품가방 추천 , 메종 마르지엘라 5ac 스몰  2021.08.16.   \n",
       "1                       20대 여자가방 추천 ‘JW PEI 숄더백’ 언박싱         5일 전   \n",
       "2                      버킷백 브랜드, 닥스 액세서리 여자 가방 추천 럭셜해         7일 전   \n",
       "3  디자이너브랜드 가방 폴뉴아 트라이백 수납력 좋은 보부상 데일리백 & 바게트 숄더백 ...  2021.08.22.   \n",
       "4                               화이트나 크림색 가방 추천해주세요:)         6일 전   \n",
       "\n",
       "                                             content  \n",
       "0  오늘은 제가 진짜 너무너무 잘 들고 다녀서 20대 ~ 30대 명품가방 추천해주세요 ...  \n",
       "1  JW PEI Eva 숄더백 -세이지 그린 악어 무늬 TAX 포함가 105,000원 ...  \n",
       "2  이제 저도 나이가 30대라서 너무 인지도 낮은 브랜드의 가방을 착용하기엔 아쉽더라고...  \n",
       "3  TRIBAG #가방브랜드추천 #바게트숄더백 #2030데일리백 #20대가방추천 #30...  \n",
       "4  샤넬 19백은 화이트도 있구 크림도 있는건가요? 2.이 사진들은 무슨 색일까요~(퍼...  "
      ],
      "text/html": [
       "<div>\n",
       "<style scoped>\n",
       "    .dataframe tbody tr th:only-of-type {\n",
       "        vertical-align: middle;\n",
       "    }\n",
       "\n",
       "    .dataframe tbody tr th {\n",
       "        vertical-align: top;\n",
       "    }\n",
       "\n",
       "    .dataframe thead th {\n",
       "        text-align: right;\n",
       "    }\n",
       "</style>\n",
       "<table border=\"1\" class=\"dataframe\">\n",
       "  <thead>\n",
       "    <tr style=\"text-align: right;\">\n",
       "      <th></th>\n",
       "      <th>title</th>\n",
       "      <th>date</th>\n",
       "      <th>content</th>\n",
       "    </tr>\n",
       "  </thead>\n",
       "  <tbody>\n",
       "    <tr>\n",
       "      <th>0</th>\n",
       "      <td>제일 잘 들고 다녔던 명품가방 추천 , 메종 마르지엘라 5ac 스몰</td>\n",
       "      <td>2021.08.16.</td>\n",
       "      <td>오늘은 제가 진짜 너무너무 잘 들고 다녀서 20대 ~ 30대 명품가방 추천해주세요 ...</td>\n",
       "    </tr>\n",
       "    <tr>\n",
       "      <th>1</th>\n",
       "      <td>20대 여자가방 추천 ‘JW PEI 숄더백’ 언박싱</td>\n",
       "      <td>5일 전</td>\n",
       "      <td>JW PEI Eva 숄더백 -세이지 그린 악어 무늬 TAX 포함가 105,000원 ...</td>\n",
       "    </tr>\n",
       "    <tr>\n",
       "      <th>2</th>\n",
       "      <td>버킷백 브랜드, 닥스 액세서리 여자 가방 추천 럭셜해</td>\n",
       "      <td>7일 전</td>\n",
       "      <td>이제 저도 나이가 30대라서 너무 인지도 낮은 브랜드의 가방을 착용하기엔 아쉽더라고...</td>\n",
       "    </tr>\n",
       "    <tr>\n",
       "      <th>3</th>\n",
       "      <td>디자이너브랜드 가방 폴뉴아 트라이백 수납력 좋은 보부상 데일리백 &amp; 바게트 숄더백 ...</td>\n",
       "      <td>2021.08.22.</td>\n",
       "      <td>TRIBAG #가방브랜드추천 #바게트숄더백 #2030데일리백 #20대가방추천 #30...</td>\n",
       "    </tr>\n",
       "    <tr>\n",
       "      <th>4</th>\n",
       "      <td>화이트나 크림색 가방 추천해주세요:)</td>\n",
       "      <td>6일 전</td>\n",
       "      <td>샤넬 19백은 화이트도 있구 크림도 있는건가요? 2.이 사진들은 무슨 색일까요~(퍼...</td>\n",
       "    </tr>\n",
       "  </tbody>\n",
       "</table>\n",
       "</div>"
      ]
     },
     "metadata": {},
     "execution_count": 67
    }
   ],
   "metadata": {}
  },
  {
   "cell_type": "code",
   "execution_count": 56,
   "source": [
    "df.shape"
   ],
   "outputs": [
    {
     "output_type": "execute_result",
     "data": {
      "text/plain": [
       "(90, 3)"
      ]
     },
     "metadata": {},
     "execution_count": 56
    }
   ],
   "metadata": {}
  },
  {
   "cell_type": "code",
   "execution_count": 68,
   "source": [
    "df.to_csv('data/bag_blog.txt')"
   ],
   "outputs": [],
   "metadata": {}
  },
  {
   "cell_type": "code",
   "execution_count": 69,
   "source": [
    "driver.close()"
   ],
   "outputs": [],
   "metadata": {}
  }
 ],
 "metadata": {
  "orig_nbformat": 4,
  "language_info": {
   "name": "python",
   "version": "3.8.10",
   "mimetype": "text/x-python",
   "codemirror_mode": {
    "name": "ipython",
    "version": 3
   },
   "pygments_lexer": "ipython3",
   "nbconvert_exporter": "python",
   "file_extension": ".py"
  },
  "kernelspec": {
   "name": "python3",
   "display_name": "Python 3.8.10 64-bit ('base': conda)"
  },
  "interpreter": {
   "hash": "d279b99af0f33638fdf09218aa92c162172468f9a92e33e126428ac8a4b3671e"
  }
 },
 "nbformat": 4,
 "nbformat_minor": 2
}