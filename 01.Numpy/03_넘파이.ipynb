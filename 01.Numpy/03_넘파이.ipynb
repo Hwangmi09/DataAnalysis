{
  "nbformat": 4,
  "nbformat_minor": 0,
  "metadata": {
    "colab": {
      "name": "03_넘파이.ipynb",
      "provenance": [],
      "collapsed_sections": []
    },
    "kernelspec": {
      "name": "python3",
      "display_name": "Python 3"
    },
    "language_info": {
      "name": "python"
    }
  },
  "cells": [
    {
      "cell_type": "markdown",
      "metadata": {
        "id": "L_7Snc5I4pnM"
      },
      "source": [
        "# Numpy - part3"
      ]
    },
    {
      "cell_type": "code",
      "metadata": {
        "id": "JZhAKz334f7d"
      },
      "source": [
        "import numpy as np"
      ],
      "execution_count": 1,
      "outputs": []
    },
    {
      "cell_type": "markdown",
      "metadata": {
        "id": "CaSYp1V24uqv"
      },
      "source": [
        "## 6. Array operation"
      ]
    },
    {
      "cell_type": "code",
      "metadata": {
        "colab": {
          "base_uri": "https://localhost:8080/"
        },
        "id": "CLmZbN7R4t74",
        "outputId": "b134cae8-8809-4de8-dcfb-df03a982e997"
      },
      "source": [
        "a = np.arange(1,7).reshape(2,3)\n",
        "a"
      ],
      "execution_count": 12,
      "outputs": [
        {
          "output_type": "execute_result",
          "data": {
            "text/plain": [
              "array([[1, 2, 3],\n",
              "       [4, 5, 6]])"
            ]
          },
          "metadata": {
            "tags": []
          },
          "execution_count": 12
        }
      ]
    },
    {
      "cell_type": "code",
      "metadata": {
        "colab": {
          "base_uri": "https://localhost:8080/"
        },
        "id": "SDSoTYpx43IE",
        "outputId": "3abab36e-c465-44e7-9902-b085eea67fba"
      },
      "source": [
        "a + a"
      ],
      "execution_count": 3,
      "outputs": [
        {
          "output_type": "execute_result",
          "data": {
            "text/plain": [
              "array([[ 2,  4,  6],\n",
              "       [ 8, 10, 12]])"
            ]
          },
          "metadata": {
            "tags": []
          },
          "execution_count": 3
        }
      ]
    },
    {
      "cell_type": "code",
      "metadata": {
        "colab": {
          "base_uri": "https://localhost:8080/"
        },
        "id": "YQDCp8Rl44I2",
        "outputId": "40219ad2-14a0-4cee-90ee-e3e45f9203df"
      },
      "source": [
        "a - a"
      ],
      "execution_count": 4,
      "outputs": [
        {
          "output_type": "execute_result",
          "data": {
            "text/plain": [
              "array([[0, 0, 0],\n",
              "       [0, 0, 0]])"
            ]
          },
          "metadata": {
            "tags": []
          },
          "execution_count": 4
        }
      ]
    },
    {
      "cell_type": "code",
      "metadata": {
        "colab": {
          "base_uri": "https://localhost:8080/"
        },
        "id": "hYM5xk1745F_",
        "outputId": "b7df8b43-f470-421b-b9ab-c01ad193e884"
      },
      "source": [
        "a * a               # 각 요소의 제곱"
      ],
      "execution_count": 5,
      "outputs": [
        {
          "output_type": "execute_result",
          "data": {
            "text/plain": [
              "array([[ 1,  4,  9],\n",
              "       [16, 25, 36]])"
            ]
          },
          "metadata": {
            "tags": []
          },
          "execution_count": 5
        }
      ]
    },
    {
      "cell_type": "markdown",
      "metadata": {
        "id": "xQTCfac-5IhT"
      },
      "source": [
        "### dot product(내적)"
      ]
    },
    {
      "cell_type": "code",
      "metadata": {
        "colab": {
          "base_uri": "https://localhost:8080/"
        },
        "id": "01n-W8wJ56XB",
        "outputId": "4b193e8e-a624-4442-884e-799d0e628855"
      },
      "source": [
        "np.dot(a,a.T)           # (2,3) ● (3,2) --> (2,2), 함수"
      ],
      "execution_count": 13,
      "outputs": [
        {
          "output_type": "execute_result",
          "data": {
            "text/plain": [
              "array([[14, 32],\n",
              "       [32, 77]])"
            ]
          },
          "metadata": {
            "tags": []
          },
          "execution_count": 13
        }
      ]
    },
    {
      "cell_type": "code",
      "metadata": {
        "colab": {
          "base_uri": "https://localhost:8080/"
        },
        "id": "FJaODeVj6Qtb",
        "outputId": "acbf4b31-55c4-4bc2-e7a8-7223a603f7b1"
      },
      "source": [
        "a.dot(a.T)              # method"
      ],
      "execution_count": 14,
      "outputs": [
        {
          "output_type": "execute_result",
          "data": {
            "text/plain": [
              "array([[14, 32],\n",
              "       [32, 77]])"
            ]
          },
          "metadata": {
            "tags": []
          },
          "execution_count": 14
        }
      ]
    },
    {
      "cell_type": "markdown",
      "metadata": {
        "id": "qe1z-BFe6odS"
      },
      "source": [
        "### broadcasting"
      ]
    },
    {
      "cell_type": "code",
      "metadata": {
        "colab": {
          "base_uri": "https://localhost:8080/"
        },
        "id": "JSvEc7ef6W8x",
        "outputId": "7b422f37-c54d-44e7-ce30-dff1ba8fab52"
      },
      "source": [
        "a + 3                   # 모든 요소에 대해 3을 더함"
      ],
      "execution_count": 16,
      "outputs": [
        {
          "output_type": "execute_result",
          "data": {
            "text/plain": [
              "array([[4, 5, 6],\n",
              "       [7, 8, 9]])"
            ]
          },
          "metadata": {
            "tags": []
          },
          "execution_count": 16
        }
      ]
    },
    {
      "cell_type": "code",
      "metadata": {
        "colab": {
          "base_uri": "https://localhost:8080/"
        },
        "id": "x35u1szh6vzn",
        "outputId": "d6876d1e-fcf3-4e05-a445-68db7f35c29c"
      },
      "source": [
        "a // 3"
      ],
      "execution_count": 17,
      "outputs": [
        {
          "output_type": "execute_result",
          "data": {
            "text/plain": [
              "array([[0, 0, 1],\n",
              "       [1, 1, 2]])"
            ]
          },
          "metadata": {
            "tags": []
          },
          "execution_count": 17
        }
      ]
    },
    {
      "cell_type": "code",
      "metadata": {
        "colab": {
          "base_uri": "https://localhost:8080/"
        },
        "id": "lPdGYRn-66KZ",
        "outputId": "3fa9c956-0b22-4431-c02b-4bb2c1070fac"
      },
      "source": [
        "a % 3"
      ],
      "execution_count": 18,
      "outputs": [
        {
          "output_type": "execute_result",
          "data": {
            "text/plain": [
              "array([[1, 2, 0],\n",
              "       [1, 2, 0]])"
            ]
          },
          "metadata": {
            "tags": []
          },
          "execution_count": 18
        }
      ]
    },
    {
      "cell_type": "code",
      "metadata": {
        "id": "dwoMRyfe69m8"
      },
      "source": [
        "b = np.array([10,20,30])"
      ],
      "execution_count": 19,
      "outputs": []
    },
    {
      "cell_type": "code",
      "metadata": {
        "colab": {
          "base_uri": "https://localhost:8080/"
        },
        "id": "MC9SNXy27SoA",
        "outputId": "5be14a22-f457-4086-e4a0-d2dc9615d7a2"
      },
      "source": [
        "# 2차원 martix와 1차원 vector간에도 사용 가능\n",
        "a+b             # b의 차원이 (3,) --> (2,3)으로 broadcating"
      ],
      "execution_count": 20,
      "outputs": [
        {
          "output_type": "execute_result",
          "data": {
            "text/plain": [
              "array([[11, 22, 33],\n",
              "       [14, 25, 36]])"
            ]
          },
          "metadata": {
            "tags": []
          },
          "execution_count": 20
        }
      ]
    },
    {
      "cell_type": "markdown",
      "metadata": {
        "id": "WdMZmgNM7lPN"
      },
      "source": [
        "## 7. Comparison"
      ]
    },
    {
      "cell_type": "markdown",
      "metadata": {
        "id": "CbXvI2UL776G"
      },
      "source": [
        "### all & any"
      ]
    },
    {
      "cell_type": "code",
      "metadata": {
        "colab": {
          "base_uri": "https://localhost:8080/"
        },
        "id": "OAH8mJq-7TRK",
        "outputId": "fc81daea-6f25-4780-a506-2aaedb8448a0"
      },
      "source": [
        "a = np.arange(8)\n",
        "a"
      ],
      "execution_count": 21,
      "outputs": [
        {
          "output_type": "execute_result",
          "data": {
            "text/plain": [
              "array([0, 1, 2, 3, 4, 5, 6, 7])"
            ]
          },
          "metadata": {
            "tags": []
          },
          "execution_count": 21
        }
      ]
    },
    {
      "cell_type": "code",
      "metadata": {
        "colab": {
          "base_uri": "https://localhost:8080/"
        },
        "id": "pISv2KoE8B64",
        "outputId": "ced15685-bef0-41d9-90c5-92e34687c1c8"
      },
      "source": [
        "a>4"
      ],
      "execution_count": 22,
      "outputs": [
        {
          "output_type": "execute_result",
          "data": {
            "text/plain": [
              "array([False, False, False, False, False,  True,  True,  True])"
            ]
          },
          "metadata": {
            "tags": []
          },
          "execution_count": 22
        }
      ]
    },
    {
      "cell_type": "code",
      "metadata": {
        "colab": {
          "base_uri": "https://localhost:8080/"
        },
        "id": "PNrHhyvN8C_y",
        "outputId": "d87f17ea-af7a-4258-d0e6-f977e41d9ab1"
      },
      "source": [
        "np.all(a>4)         # 모든 요소가 True인지 확인"
      ],
      "execution_count": 23,
      "outputs": [
        {
          "output_type": "execute_result",
          "data": {
            "text/plain": [
              "False"
            ]
          },
          "metadata": {
            "tags": []
          },
          "execution_count": 23
        }
      ]
    },
    {
      "cell_type": "code",
      "metadata": {
        "colab": {
          "base_uri": "https://localhost:8080/"
        },
        "id": "oN9pefXm8Pz1",
        "outputId": "c760b791-96bc-4c8f-f5f3-4fcf7c7797f5"
      },
      "source": [
        "np.any(a>4)         # 적어도 하나의 요소가 True인지 확인"
      ],
      "execution_count": 24,
      "outputs": [
        {
          "output_type": "execute_result",
          "data": {
            "text/plain": [
              "True"
            ]
          },
          "metadata": {
            "tags": []
          },
          "execution_count": 24
        }
      ]
    },
    {
      "cell_type": "code",
      "metadata": {
        "colab": {
          "base_uri": "https://localhost:8080/"
        },
        "id": "f956-xMO8gyl",
        "outputId": "54c90fdc-1ae1-4776-9a14-8c44d9311bec"
      },
      "source": [
        "x = np.array([1,3,0])\n",
        "y = np.array([5,2,1])\n",
        "x > y"
      ],
      "execution_count": 27,
      "outputs": [
        {
          "output_type": "execute_result",
          "data": {
            "text/plain": [
              "array([False,  True, False])"
            ]
          },
          "metadata": {
            "tags": []
          },
          "execution_count": 27
        }
      ]
    },
    {
      "cell_type": "code",
      "metadata": {
        "colab": {
          "base_uri": "https://localhost:8080/"
        },
        "id": "ep8hdUlE8spv",
        "outputId": "859d3cf9-3f41-4647-e102-a34a7c03c360"
      },
      "source": [
        "x == y"
      ],
      "execution_count": 28,
      "outputs": [
        {
          "output_type": "execute_result",
          "data": {
            "text/plain": [
              "array([False, False, False])"
            ]
          },
          "metadata": {
            "tags": []
          },
          "execution_count": 28
        }
      ]
    },
    {
      "cell_type": "markdown",
      "metadata": {
        "id": "GngstIR29Hsq"
      },
      "source": [
        "### logical operation"
      ]
    },
    {
      "cell_type": "code",
      "metadata": {
        "colab": {
          "base_uri": "https://localhost:8080/"
        },
        "id": "uUba2y_48w5D",
        "outputId": "e37e2f72-6878-4a76-9c7a-d79337347ed5"
      },
      "source": [
        "a = np.array([1,3,0],float)\n",
        "b = np.logical_and(a>0,a<3)         # 0 < a < 3\n",
        "b"
      ],
      "execution_count": 29,
      "outputs": [
        {
          "output_type": "execute_result",
          "data": {
            "text/plain": [
              "array([ True, False, False])"
            ]
          },
          "metadata": {
            "tags": []
          },
          "execution_count": 29
        }
      ]
    },
    {
      "cell_type": "code",
      "metadata": {
        "colab": {
          "base_uri": "https://localhost:8080/"
        },
        "id": "1AQY6xqS9WY6",
        "outputId": "b0054464-c4ea-4924-9e90-3f53ba89c104"
      },
      "source": [
        "c = np.logical_not(b)\n",
        "c"
      ],
      "execution_count": 31,
      "outputs": [
        {
          "output_type": "execute_result",
          "data": {
            "text/plain": [
              "array([False,  True,  True])"
            ]
          },
          "metadata": {
            "tags": []
          },
          "execution_count": 31
        }
      ]
    },
    {
      "cell_type": "code",
      "metadata": {
        "colab": {
          "base_uri": "https://localhost:8080/"
        },
        "id": "yozPeywe96OL",
        "outputId": "01992490-c89f-4eea-96e3-dfdee1ddeceb"
      },
      "source": [
        "np.logical_or(b,c)"
      ],
      "execution_count": 32,
      "outputs": [
        {
          "output_type": "execute_result",
          "data": {
            "text/plain": [
              "array([ True,  True,  True])"
            ]
          },
          "metadata": {
            "tags": []
          },
          "execution_count": 32
        }
      ]
    },
    {
      "cell_type": "code",
      "metadata": {
        "colab": {
          "base_uri": "https://localhost:8080/"
        },
        "id": "Oi8zc-059fiy",
        "outputId": "a70ceff8-6562-415c-fd11-69d0cfc496f3"
      },
      "source": [
        "np.logical_xor(b,c)         # 같으면 False, 다르면 True"
      ],
      "execution_count": 33,
      "outputs": [
        {
          "output_type": "execute_result",
          "data": {
            "text/plain": [
              "array([ True,  True,  True])"
            ]
          },
          "metadata": {
            "tags": []
          },
          "execution_count": 33
        }
      ]
    },
    {
      "cell_type": "code",
      "metadata": {
        "colab": {
          "base_uri": "https://localhost:8080/"
        },
        "id": "8vYe7-iC-AXO",
        "outputId": "ad83a007-8353-40f1-b8c8-36e7b28e1969"
      },
      "source": [
        "np.where(a>1,10,0)          # where(condition, True일 때의 값, False일 때의 값)"
      ],
      "execution_count": 34,
      "outputs": [
        {
          "output_type": "execute_result",
          "data": {
            "text/plain": [
              "array([ 0, 10,  0])"
            ]
          },
          "metadata": {
            "tags": []
          },
          "execution_count": 34
        }
      ]
    },
    {
      "cell_type": "code",
      "metadata": {
        "colab": {
          "base_uri": "https://localhost:8080/"
        },
        "id": "9zt7n9cl-YrQ",
        "outputId": "83ed0e18-44e0-4116-8761-94c52b0108aa"
      },
      "source": [
        "np.where(np.arange(10,20)>15)           # True인 요소들의 index 값을 반환"
      ],
      "execution_count": 35,
      "outputs": [
        {
          "output_type": "execute_result",
          "data": {
            "text/plain": [
              "(array([6, 7, 8, 9]),)"
            ]
          },
          "metadata": {
            "tags": []
          },
          "execution_count": 35
        }
      ]
    },
    {
      "cell_type": "code",
      "metadata": {
        "colab": {
          "base_uri": "https://localhost:8080/"
        },
        "id": "hdcNeCm_-mQW",
        "outputId": "aa2b77da-3b56-40b1-a1a8-aefb298e1070"
      },
      "source": [
        "# Infinite, Not a Number\n",
        "a = np.array([np.Inf, np.NaN, 1, np.nan, np.inf, np.NAN])       # inf, nan은 실수형\n",
        "a"
      ],
      "execution_count": 36,
      "outputs": [
        {
          "output_type": "execute_result",
          "data": {
            "text/plain": [
              "array([inf, nan,  1., nan, inf, nan])"
            ]
          },
          "metadata": {
            "tags": []
          },
          "execution_count": 36
        }
      ]
    },
    {
      "cell_type": "code",
      "metadata": {
        "colab": {
          "base_uri": "https://localhost:8080/"
        },
        "id": "SAO0x7YV_YWz",
        "outputId": "8e86d1b4-4678-4ce9-bec5-cbb36e9e469d"
      },
      "source": [
        "np.isnan(a)                 # Is not a number?"
      ],
      "execution_count": 37,
      "outputs": [
        {
          "output_type": "execute_result",
          "data": {
            "text/plain": [
              "array([False,  True, False,  True, False,  True])"
            ]
          },
          "metadata": {
            "tags": []
          },
          "execution_count": 37
        }
      ]
    },
    {
      "cell_type": "code",
      "metadata": {
        "colab": {
          "base_uri": "https://localhost:8080/"
        },
        "id": "c2EZ_Y8n_1XF",
        "outputId": "de99674e-85e2-4846-dae2-e337b2445e1d"
      },
      "source": [
        "np.isfinite(a)            # Is finite number?"
      ],
      "execution_count": 40,
      "outputs": [
        {
          "output_type": "execute_result",
          "data": {
            "text/plain": [
              "array([False, False,  True, False, False, False])"
            ]
          },
          "metadata": {
            "tags": []
          },
          "execution_count": 40
        }
      ]
    },
    {
      "cell_type": "code",
      "metadata": {
        "colab": {
          "base_uri": "https://localhost:8080/"
        },
        "id": "mC1Yr0bmABqf",
        "outputId": "928a86bf-38c1-4340-fcc6-d89d7f367549"
      },
      "source": [
        "np.isnan(a).sum()       # 행렬 a에 nan이 3개 있음"
      ],
      "execution_count": 43,
      "outputs": [
        {
          "output_type": "execute_result",
          "data": {
            "text/plain": [
              "3"
            ]
          },
          "metadata": {
            "tags": []
          },
          "execution_count": 43
        }
      ]
    },
    {
      "cell_type": "markdown",
      "metadata": {
        "id": "ZMLwQhCfELgI"
      },
      "source": [
        "### argmax, argmin"
      ]
    },
    {
      "cell_type": "code",
      "metadata": {
        "colab": {
          "base_uri": "https://localhost:8080/"
        },
        "id": "szH1tfMzAEg8",
        "outputId": "3a8bc167-b553-4936-a839-b2888f7bc071"
      },
      "source": [
        "# array내 최대값 또는 최소값의 index를 반환\n",
        "a = np.array([1,2,4,5,8,78,23,3])\n",
        "np.argmax(a), np.argmin(a)"
      ],
      "execution_count": 44,
      "outputs": [
        {
          "output_type": "execute_result",
          "data": {
            "text/plain": [
              "(5, 0)"
            ]
          },
          "metadata": {
            "tags": []
          },
          "execution_count": 44
        }
      ]
    },
    {
      "cell_type": "code",
      "metadata": {
        "colab": {
          "base_uri": "https://localhost:8080/"
        },
        "id": "TCTphEkmFSCw",
        "outputId": "0e1dd6a5-4ced-42c4-9bd2-53845f9df6f8"
      },
      "source": [
        "index = 5               # 배열의 최대값 index\n",
        "row, col = index // 4, index % 4        # 열의 갯수로 나눔\n",
        "row, col"
      ],
      "execution_count": 48,
      "outputs": [
        {
          "output_type": "execute_result",
          "data": {
            "text/plain": [
              "(1, 1)"
            ]
          },
          "metadata": {
            "tags": []
          },
          "execution_count": 48
        }
      ]
    },
    {
      "cell_type": "code",
      "metadata": {
        "colab": {
          "base_uri": "https://localhost:8080/"
        },
        "id": "Sq5IyW5WFaBD",
        "outputId": "72f2aafd-5ab1-4025-9d33-52fee46238f6"
      },
      "source": [
        "a[1,1]"
      ],
      "execution_count": 49,
      "outputs": [
        {
          "output_type": "execute_result",
          "data": {
            "text/plain": [
              "78"
            ]
          },
          "metadata": {
            "tags": []
          },
          "execution_count": 49
        }
      ]
    },
    {
      "cell_type": "code",
      "metadata": {
        "colab": {
          "base_uri": "https://localhost:8080/"
        },
        "id": "H41LV4e0EcLQ",
        "outputId": "67f7171e-44ee-4a52-fa2f-f53b940a1ff2"
      },
      "source": [
        "a = a.reshape(2,-1)\n",
        "print(a)\n",
        "np.argmax(a,axis=1), np.argmin(a,axis=1)"
      ],
      "execution_count": 47,
      "outputs": [
        {
          "output_type": "stream",
          "text": [
            "[[ 1  2  4  5]\n",
            " [ 8 78 23  3]]\n"
          ],
          "name": "stdout"
        },
        {
          "output_type": "execute_result",
          "data": {
            "text/plain": [
              "(array([3, 1]), array([0, 3]))"
            ]
          },
          "metadata": {
            "tags": []
          },
          "execution_count": 47
        }
      ]
    },
    {
      "cell_type": "markdown",
      "metadata": {
        "id": "aBG-gU9BFo7_"
      },
      "source": [
        "## 8. Boolean & fancy index"
      ]
    },
    {
      "cell_type": "markdown",
      "metadata": {
        "id": "PRsnc5X3GLvZ"
      },
      "source": [
        "### boolean index"
      ]
    },
    {
      "cell_type": "code",
      "metadata": {
        "colab": {
          "base_uri": "https://localhost:8080/"
        },
        "id": "3l2rJm03EuPR",
        "outputId": "4053f13c-0936-4048-ea7c-10c775685c73"
      },
      "source": [
        "a > 4"
      ],
      "execution_count": 50,
      "outputs": [
        {
          "output_type": "execute_result",
          "data": {
            "text/plain": [
              "array([[False, False, False,  True],\n",
              "       [ True,  True,  True, False]])"
            ]
          },
          "metadata": {
            "tags": []
          },
          "execution_count": 50
        }
      ]
    },
    {
      "cell_type": "code",
      "metadata": {
        "colab": {
          "base_uri": "https://localhost:8080/"
        },
        "id": "OhPxQXMgF0DX",
        "outputId": "70878eed-4b3a-4a3d-ec5a-b74ee300d50c"
      },
      "source": [
        "a[a>4]      # 조건에 만족하는 요소들 반환"
      ],
      "execution_count": 51,
      "outputs": [
        {
          "output_type": "execute_result",
          "data": {
            "text/plain": [
              "array([ 5,  8, 78, 23])"
            ]
          },
          "metadata": {
            "tags": []
          },
          "execution_count": 51
        }
      ]
    },
    {
      "cell_type": "markdown",
      "metadata": {
        "id": "tUw4m6ycGPU7"
      },
      "source": [
        "### fancy index"
      ]
    },
    {
      "cell_type": "code",
      "metadata": {
        "colab": {
          "base_uri": "https://localhost:8080/"
        },
        "id": "JIW4oj9LF02f",
        "outputId": "41e0f197-49f8-4eaf-ae4b-3a25d9402835"
      },
      "source": [
        "a = np.array([2,4,6,8])\n",
        "b = np.array([1,3,2,0,0,1])\n",
        "a[b]    # b의 값이 인덱스가 됨, 인덱스에 해당하는 a의 요소 반환"
      ],
      "execution_count": 53,
      "outputs": [
        {
          "output_type": "execute_result",
          "data": {
            "text/plain": [
              "array([4, 8, 6, 2, 2, 4])"
            ]
          },
          "metadata": {
            "tags": []
          },
          "execution_count": 53
        }
      ]
    },
    {
      "cell_type": "code",
      "metadata": {
        "colab": {
          "base_uri": "https://localhost:8080/"
        },
        "id": "NwfZpo9PGgaF",
        "outputId": "4280efc2-4420-45d3-a3ef-4719833c35a0"
      },
      "source": [
        "a.take(b)"
      ],
      "execution_count": 55,
      "outputs": [
        {
          "output_type": "execute_result",
          "data": {
            "text/plain": [
              "array([4, 8, 6, 2, 2, 4])"
            ]
          },
          "metadata": {
            "tags": []
          },
          "execution_count": 55
        }
      ]
    },
    {
      "cell_type": "code",
      "metadata": {
        "colab": {
          "base_uri": "https://localhost:8080/"
        },
        "id": "PY5HAdNmHAgI",
        "outputId": "ad2efdf3-9b6d-4865-d148-26bd6464c3a8"
      },
      "source": [
        "a = np.arange(1,13).reshape(3,4)\n",
        "b = np.array([1,2,0,1])     # 행 인덱스\n",
        "c = np.array([2,1,3,0])     # 열 인덱스\n",
        "a[b,c]                      # (1,2), (2,1), (0,3), (1,0)요소를 반환"
      ],
      "execution_count": 56,
      "outputs": [
        {
          "output_type": "execute_result",
          "data": {
            "text/plain": [
              "array([ 7, 10,  4,  5])"
            ]
          },
          "metadata": {
            "tags": []
          },
          "execution_count": 56
        }
      ]
    },
    {
      "cell_type": "markdown",
      "metadata": {
        "id": "sXRrTv3WHcqY"
      },
      "source": [
        "## 9. 기술 통계"
      ]
    },
    {
      "cell_type": "code",
      "metadata": {
        "id": "d8eg8HJZHPci"
      },
      "source": [
        "a = np.random.normal(3,5,1000)"
      ],
      "execution_count": 58,
      "outputs": []
    },
    {
      "cell_type": "code",
      "metadata": {
        "colab": {
          "base_uri": "https://localhost:8080/"
        },
        "id": "AxX484iqIXxL",
        "outputId": "1f6446d1-b67c-4976-c175-2a19d18969e1"
      },
      "source": [
        "# 사분위수(quertile)\n",
        "for q in [0,25,50,75,100]:\n",
        "    print(np.percentile(a,q))           # 최솟값, 1사분위 수, 2사분위 수(중앙값), 3사분위 수, 최댓값"
      ],
      "execution_count": 64,
      "outputs": [
        {
          "output_type": "stream",
          "text": [
            "-14.113473566004199\n",
            "-0.6096203186985927\n",
            "2.6152248303996286\n",
            "5.997726555025718\n",
            "16.973834783125348\n"
          ],
          "name": "stdout"
        }
      ]
    },
    {
      "cell_type": "code",
      "metadata": {
        "id": "LG93jLWyIbR9"
      },
      "source": [
        "a = np.random.randint(1,10000,1000)"
      ],
      "execution_count": 65,
      "outputs": []
    },
    {
      "cell_type": "code",
      "metadata": {
        "colab": {
          "base_uri": "https://localhost:8080/"
        },
        "id": "7uLdnVIWJE-s",
        "outputId": "1a4a89f8-c274-4bba-e7f5-d1d177fb8310"
      },
      "source": [
        "for q in [0,25,50,75,100]:\n",
        "    print(np.percentile(a,q))   "
      ],
      "execution_count": 66,
      "outputs": [
        {
          "output_type": "stream",
          "text": [
            "10.0\n",
            "2706.5\n",
            "5193.5\n",
            "7525.75\n",
            "9995.0\n"
          ],
          "name": "stdout"
        }
      ]
    },
    {
      "cell_type": "code",
      "metadata": {
        "id": "L1XiuBKvJGpX"
      },
      "source": [
        "import matplotlib.pyplot as plt"
      ],
      "execution_count": 67,
      "outputs": []
    },
    {
      "cell_type": "code",
      "metadata": {
        "colab": {
          "base_uri": "https://localhost:8080/",
          "height": 265
        },
        "id": "NAq86sJtJb-1",
        "outputId": "a9590edb-cfe2-4902-aa83-90cfacb654a4"
      },
      "source": [
        "plt.boxplot(a)\n",
        "plt.show()"
      ],
      "execution_count": 68,
      "outputs": [
        {
          "output_type": "display_data",
          "data": {
            "image/png": "[encoded data removed]",
            "text/plain": [
              "<Figure size 432x288 with 1 Axes>"
            ]
          },
          "metadata": {
            "tags": [],
            "needs_background": "light"
          }
        }
      ]
    },
    {
      "cell_type": "markdown",
      "metadata": {
        "id": "v4Ss0BA1Kj7M"
      },
      "source": [
        "## 연습문제"
      ]
    },
    {
      "cell_type": "code",
      "metadata": {
        "colab": {
          "base_uri": "https://localhost:8080/"
        },
        "id": "V5Ul6gI7JgJj",
        "outputId": "35a3d26e-0357-489d-8817-416434e5aae7"
      },
      "source": [
        "# 1번 - 행렬 생성\n",
        "np.arange(10,81,10).reshape(2,4)"
      ],
      "execution_count": 69,
      "outputs": [
        {
          "output_type": "execute_result",
          "data": {
            "text/plain": [
              "array([[10, 20, 30, 40],\n",
              "       [50, 60, 70, 80]])"
            ]
          },
          "metadata": {
            "tags": []
          },
          "execution_count": 69
        }
      ]
    },
    {
      "cell_type": "code",
      "metadata": {
        "colab": {
          "base_uri": "https://localhost:8080/"
        },
        "id": "hEs3i86dKz_d",
        "outputId": "d3585373-971d-41e0-a73b-b1f66b5cd114"
      },
      "source": [
        "# 2번 - 인덱싱, 슬라이싱\n",
        "m = np.arange(15).reshape(3,5)\n",
        "# 2-1번\n",
        "print(m[1,2])\n",
        "# 2-2번\n",
        "print(m[-1,-1])\n",
        "# 2-3번\n",
        "print(m[1,1:3])\n",
        "# 2-4번\n",
        "print(m[1:,2])\n",
        "# 2-5번\n",
        "print(m[:-1,-2:])       # m[:2,3:]"
      ],
      "execution_count": 72,
      "outputs": [
        {
          "output_type": "stream",
          "text": [
            "7\n",
            "14\n",
            "[6 7]\n",
            "[ 7 12]\n",
            "[[3 4]\n",
            " [8 9]]\n"
          ],
          "name": "stdout"
        }
      ]
    },
    {
      "cell_type": "code",
      "metadata": {
        "colab": {
          "base_uri": "https://localhost:8080/"
        },
        "id": "FxU3g4igLa8a",
        "outputId": "7e15eb7d-a043-451d-b3a5-4141d5ad0094"
      },
      "source": [
        "# 3번 - Boolean Indexing\n",
        "f = m.flatten()\n",
        "# 3-1번\n",
        "print(f[ f % 3 == 0])\n",
        "# 3-2번\n",
        "print(f[f % 4 == 1])\n",
        "# 3-3번\n",
        "print(f[np.logical_and(f % 3 == 0 , f % 4 == 1)])"
      ],
      "execution_count": 112,
      "outputs": [
        {
          "output_type": "stream",
          "text": [
            "[ 0  3  6  9 12]\n",
            "[ 1  5  9 13]\n",
            "[9]\n"
          ],
          "name": "stdout"
        }
      ]
    },
    {
      "cell_type": "code",
      "metadata": {
        "colab": {
          "base_uri": "https://localhost:8080/"
        },
        "id": "2_TtOIn_MCxZ",
        "outputId": "4b65e46e-3253-4fcf-bca0-4a8542c220b1"
      },
      "source": [
        "# 4번 - eye로 행렬 생성\n",
        "print(np.eye(5,k=1,dtype=int) + np.eye(5,dtype=int)*2 + np.eye(5,k=-1,dtype=int)*3)"
      ],
      "execution_count": 83,
      "outputs": [
        {
          "output_type": "stream",
          "text": [
            "[[2 1 0 0 0]\n",
            " [3 2 1 0 0]\n",
            " [0 3 2 1 0]\n",
            " [0 0 3 2 1]\n",
            " [0 0 0 3 2]]\n"
          ],
          "name": "stdout"
        }
      ]
    },
    {
      "cell_type": "code",
      "metadata": {
        "colab": {
          "base_uri": "https://localhost:8080/"
        },
        "id": "PZiwrpLMPUhx",
        "outputId": "d21cdc4f-2bd1-477e-d01b-5c4dd43ebec6"
      },
      "source": [
        "# 5번 - Matrix operation\n",
        "matrix = np.random.uniform(0,10,30).reshape(5,6).round(4)\n",
        "# 5-1번\n",
        "print(f'전체의 최댓값 : {np.max(matrix)}')\n",
        "# 5-2번\n",
        "print(f'각 행의 합 : {np.sum(matrix,axis=1)}')\n",
        "# 5-3번\n",
        "print(f'각 행의 최댓값 : {np.max(matrix,axis=1)}')\n",
        "# 5-4번\n",
        "print(f'각 열의 평균 : {np.mean(matrix,axis=0)}')\n",
        "# 5-5번\n",
        "print(f'각 열의 최솟값 : {np.min(matrix,axis=0)}')"
      ],
      "execution_count": 114,
      "outputs": [
        {
          "output_type": "stream",
          "text": [
            "전체의 최댓값 : 9.9126\n",
            "각 행의 합 : [31.7062 27.8402 54.205  26.5453 31.882 ]\n",
            "각 행의 최댓값 : [7.9927 8.8587 9.9126 7.8858 9.8774]\n",
            "각 열의 평균 : [7.40232 3.35566 6.23864 5.667   5.56964 6.20248]\n",
            "각 열의 최솟값 : [5.4138 0.9511 3.91   1.2554 1.6063 1.9061]\n"
          ],
          "name": "stdout"
        }
      ]
    },
    {
      "cell_type": "code",
      "metadata": {
        "colab": {
          "base_uri": "https://localhost:8080/"
        },
        "id": "nglKwf_oP8Px",
        "outputId": "a201beb8-b2ea-4ad5-fb4c-b8bfedf48e18"
      },
      "source": [
        "# 6번 - Sorting, 두번째 행을 기분으로 각 열 재정렬\n",
        "score = np.array([[1,2,3,4],[46,99,100,71],[81,59,90,100]])\n",
        "s_index = (np.argsort(score[1]))            \n",
        "print(score[:,s_index])                # 오름차순, score[:,np.argsort(score[1])]\n",
        "print(score[:,s_index[::-1]])          # 내림차순 : s_index[::-1], score[:,np.argsort(score[1])[::-1]]"
      ],
      "execution_count": 118,
      "outputs": [
        {
          "output_type": "stream",
          "text": [
            "[[  1   4   2   3]\n",
            " [ 46  71  99 100]\n",
            " [ 81 100  59  90]]\n",
            "[[  3   2   4   1]\n",
            " [100  99  71  46]\n",
            " [ 90  59 100  81]]\n"
          ],
          "name": "stdout"
        }
      ]
    },
    {
      "cell_type": "code",
      "metadata": {
        "colab": {
          "base_uri": "https://localhost:8080/"
        },
        "id": "5h2_6rhmRhiQ",
        "outputId": "b747ef83-72cb-4c19-feb2-97711860116c"
      },
      "source": [
        "# 7번 - 주사위를 100번 던져서 나오는 숫자의 평균\n",
        "# np.random.seed(2021)\n",
        "dice = np.random.randint(1,7,size=100)\n",
        "np.mean(dice)"
      ],
      "execution_count": 122,
      "outputs": [
        {
          "output_type": "execute_result",
          "data": {
            "text/plain": [
              "3.52"
            ]
          },
          "metadata": {
            "tags": []
          },
          "execution_count": 122
        }
      ]
    },
    {
      "cell_type": "code",
      "metadata": {
        "colab": {
          "base_uri": "https://localhost:8080/"
        },
        "id": "QWe4bWpapyLm",
        "outputId": "a195718e-c308-4d20-a07b-d3bb239ba3ab"
      },
      "source": [
        "np.unique(dice)"
      ],
      "execution_count": 123,
      "outputs": [
        {
          "output_type": "execute_result",
          "data": {
            "text/plain": [
              "array([1, 2, 3, 4, 5, 6])"
            ]
          },
          "metadata": {
            "tags": []
          },
          "execution_count": 123
        }
      ]
    },
    {
      "cell_type": "code",
      "metadata": {
        "id": "nc0mcqY7SKV2"
      },
      "source": [
        "# 8번 - 250일 동안의 주가 생성\n",
        "stock = 10000 + 10000*np.random.randn(250)/100"
      ],
      "execution_count": 107,
      "outputs": []
    },
    {
      "cell_type": "code",
      "metadata": {
        "colab": {
          "base_uri": "https://localhost:8080/",
          "height": 268
        },
        "id": "nFGJaRkdYOFh",
        "outputId": "5845e2a8-42d8-42b4-c646-64bbc8401ee4"
      },
      "source": [
        "import matplotlib.pyplot as plt\n",
        "plt.plot(np.arange(250),stock)\n",
        "plt.show()"
      ],
      "execution_count": 109,
      "outputs": [
        {
          "output_type": "display_data",
          "data": {
            "image/png": "[encoded data removed]",
            "text/plain": [
              "<Figure size 432x288 with 1 Axes>"
            ]
          },
          "metadata": {
            "tags": [],
            "needs_background": "light"
          }
        }
      ]
    },
    {
      "cell_type": "code",
      "metadata": {
        "id": "kKNrQNCDp3tS"
      },
      "source": [
        ""
      ],
      "execution_count": null,
      "outputs": []
    }
  ]
}