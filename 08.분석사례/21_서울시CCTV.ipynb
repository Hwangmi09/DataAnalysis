{
  "nbformat": 4,
  "nbformat_minor": 0,
  "metadata": {
    "colab": {
      "name": "21_서울시CCTV.ipynb",
      "provenance": [],
      "collapsed_sections": []
    },
    "kernelspec": {
      "name": "python3",
      "display_name": "Python 3"
    },
    "language_info": {
      "name": "python"
    }
  },
  "cells": [
    {
      "cell_type": "markdown",
      "metadata": {
        "id": "bKb6G0e7RksU"
      },
      "source": [
        "# 서울시 구별 CCTV 현황 분석\n",
        "- 서울시 CCTV 설치운영 현황 데이터\n",
        "- 서울시 구별 주민등록인구 통계 데이터"
      ]
    },
    {
      "cell_type": "code",
      "metadata": {
        "id": "q7SEKaifRxZw"
      },
      "source": [
        "!apt-get install -y fonts-nanum > /dev/null\n",
        "!fc-cache -fv > /dev/null\n",
        "!rm -rf ~/.cache/matplotlib > /dev/null\n",
        "# 런타임 다시시작"
      ],
      "execution_count": 1,
      "outputs": []
    },
    {
      "cell_type": "code",
      "metadata": {
        "id": "zHum4AQKvw-d"
      },
      "source": [
        "import numpy as np\n",
        "import seaborn as sns\n",
        "import pandas as pd\n",
        "import matplotlib as mpl\n",
        "import matplotlib.pyplot as plt\n",
        "mpl.rcParams['axes.unicode_minus'] = False\n",
        "plt.rc('font', family='NanumBarunGothic')"
      ],
      "execution_count": 1,
      "outputs": []
    },
    {
      "cell_type": "markdown",
      "metadata": {
        "id": "TgSggWfmXXrQ"
      },
      "source": [
        "## CCTV 데이터 파악하고 정리하기"
      ]
    },
    {
      "cell_type": "code",
      "metadata": {
        "colab": {
          "base_uri": "https://localhost:8080/"
        },
        "id": "cnSUMUIhwqty",
        "outputId": "1a393389-fc6a-4908-958c-0955846c8836"
      },
      "source": [
        "from google.colab import drive\n",
        "drive.mount('/content/mnt')"
      ],
      "execution_count": 2,
      "outputs": [
        {
          "output_type": "stream",
          "name": "stdout",
          "text": [
            "Mounted at /content/mnt\n"
          ]
        }
      ]
    },
    {
      "cell_type": "code",
      "metadata": {
        "id": "6bEZxrG7w1qc"
      },
      "source": [
        "data_folder = '/content/mnt/MyDrive/데이터/서울시CCTV와인구'"
      ],
      "execution_count": 3,
      "outputs": []
    },
    {
      "cell_type": "code",
      "metadata": {
        "colab": {
          "base_uri": "https://localhost:8080/",
          "height": 375
        },
        "id": "JlJmFDGSxE4w",
        "outputId": "501d2638-8a0b-4e13-ae6e-0b7e2aded947"
      },
      "source": [
        "cctv = pd.read_csv(f'{data_folder}/서울시CCTV설치운영현황(자치구)_년도별_210731기준.csv', encoding='euc-kr', skiprows=[0, 2])\n",
        "cctv.head()"
      ],
      "execution_count": 4,
      "outputs": [
        {
          "output_type": "execute_result",
          "data": {
            "text/html": [
              "<div>\n",
              "<style scoped>\n",
              "    .dataframe tbody tr th:only-of-type {\n",
              "        vertical-align: middle;\n",
              "    }\n",
              "\n",
              "    .dataframe tbody tr th {\n",
              "        vertical-align: top;\n",
              "    }\n",
              "\n",
              "    .dataframe thead th {\n",
              "        text-align: right;\n",
              "    }\n",
              "</style>\n",
              "<table border=\"1\" class=\"dataframe\">\n",
              "  <thead>\n",
              "    <tr style=\"text-align: right;\">\n",
              "      <th></th>\n",
              "      <th>구분</th>\n",
              "      <th>총계</th>\n",
              "      <th>2012년 이전</th>\n",
              "      <th>2012년</th>\n",
              "      <th>2013년</th>\n",
              "      <th>2014년</th>\n",
              "      <th>2015년</th>\n",
              "      <th>2016년</th>\n",
              "      <th>2017년</th>\n",
              "      <th>2018년</th>\n",
              "      <th>2019년</th>\n",
              "      <th>2020년</th>\n",
              "      <th>2021년</th>\n",
              "    </tr>\n",
              "  </thead>\n",
              "  <tbody>\n",
              "    <tr>\n",
              "      <th>0</th>\n",
              "      <td>종로구</td>\n",
              "      <td>1,772</td>\n",
              "      <td>813</td>\n",
              "      <td>0</td>\n",
              "      <td>0</td>\n",
              "      <td>210</td>\n",
              "      <td>150</td>\n",
              "      <td>1</td>\n",
              "      <td>261</td>\n",
              "      <td>85</td>\n",
              "      <td>9</td>\n",
              "      <td>200</td>\n",
              "      <td>43</td>\n",
              "    </tr>\n",
              "    <tr>\n",
              "      <th>1</th>\n",
              "      <td>중 구</td>\n",
              "      <td>2,333</td>\n",
              "      <td>16</td>\n",
              "      <td>114</td>\n",
              "      <td>87</td>\n",
              "      <td>77</td>\n",
              "      <td>236</td>\n",
              "      <td>240</td>\n",
              "      <td>372</td>\n",
              "      <td>386</td>\n",
              "      <td>155</td>\n",
              "      <td>361</td>\n",
              "      <td>289</td>\n",
              "    </tr>\n",
              "    <tr>\n",
              "      <th>2</th>\n",
              "      <td>용산구</td>\n",
              "      <td>2,383</td>\n",
              "      <td>34</td>\n",
              "      <td>71</td>\n",
              "      <td>234</td>\n",
              "      <td>125</td>\n",
              "      <td>221</td>\n",
              "      <td>298</td>\n",
              "      <td>351</td>\n",
              "      <td>125</td>\n",
              "      <td>307</td>\n",
              "      <td>617</td>\n",
              "      <td>0</td>\n",
              "    </tr>\n",
              "    <tr>\n",
              "      <th>3</th>\n",
              "      <td>성동구</td>\n",
              "      <td>3,602</td>\n",
              "      <td>448</td>\n",
              "      <td>125</td>\n",
              "      <td>212</td>\n",
              "      <td>105</td>\n",
              "      <td>339</td>\n",
              "      <td>310</td>\n",
              "      <td>874</td>\n",
              "      <td>390</td>\n",
              "      <td>262</td>\n",
              "      <td>461</td>\n",
              "      <td>76</td>\n",
              "    </tr>\n",
              "    <tr>\n",
              "      <th>4</th>\n",
              "      <td>광진구</td>\n",
              "      <td>2,588</td>\n",
              "      <td>35</td>\n",
              "      <td>57</td>\n",
              "      <td>100</td>\n",
              "      <td>187</td>\n",
              "      <td>98</td>\n",
              "      <td>52</td>\n",
              "      <td>675</td>\n",
              "      <td>465</td>\n",
              "      <td>712</td>\n",
              "      <td>175</td>\n",
              "      <td>32</td>\n",
              "    </tr>\n",
              "  </tbody>\n",
              "</table>\n",
              "</div>"
            ],
            "text/plain": [
              "    구분     총계 2012년 이전  2012년  2013년  ...  2017년  2018년  2019년  2020년  2021년\n",
              "0  종로구  1,772      813      0      0  ...    261     85      9    200     43\n",
              "1  중 구  2,333       16    114     87  ...    372    386    155    361    289\n",
              "2  용산구  2,383       34     71    234  ...    351    125    307    617      0\n",
              "3  성동구  3,602      448    125    212  ...    874    390    262    461     76\n",
              "4  광진구  2,588       35     57    100  ...    675    465    712    175     32\n",
              "\n",
              "[5 rows x 13 columns]"
            ]
          },
          "metadata": {},
          "execution_count": 4
        }
      ]
    },
    {
      "cell_type": "code",
      "metadata": {
        "colab": {
          "base_uri": "https://localhost:8080/"
        },
        "id": "nr4JTl5PXnXy",
        "outputId": "779e3774-7b91-479b-a769-dc53b8892347"
      },
      "source": [
        "# Null data 있는지 확인\n",
        "cctv.isnull().sum().sum()"
      ],
      "execution_count": 5,
      "outputs": [
        {
          "output_type": "execute_result",
          "data": {
            "text/plain": [
              "0"
            ]
          },
          "metadata": {},
          "execution_count": 5
        }
      ]
    },
    {
      "cell_type": "code",
      "metadata": {
        "id": "mHH9DtBM4bl1"
      },
      "source": [
        "# 자료를 숫자형으로 바꾸는 과정\n",
        "cctv['2012년 이전'] = cctv['2012년 이전'].str.replace(',', '').astype(int)\n",
        "cctv['2020년'] = cctv['2020년'].str.replace(',', '').astype(int)\n",
        "cctv.총계 = cctv.총계.str.replace(',', '').astype(int)"
      ],
      "execution_count": 6,
      "outputs": []
    },
    {
      "cell_type": "code",
      "metadata": {
        "id": "YEyiaElx2xFe"
      },
      "source": [
        "cctv['2017년이전'] = cctv.iloc[:,2:9].sum(axis=1)"
      ],
      "execution_count": 7,
      "outputs": []
    },
    {
      "cell_type": "code",
      "metadata": {
        "id": "OXDawyPZ4l7H"
      },
      "source": [
        "cctv['최근증가율'] = (cctv.iloc[:,9:12].sum(axis=1) / cctv['2017년이전'] * 100).round(2)"
      ],
      "execution_count": 8,
      "outputs": []
    },
    {
      "cell_type": "code",
      "metadata": {
        "colab": {
          "base_uri": "https://localhost:8080/",
          "height": 204
        },
        "id": "2AIOtztXZd6w",
        "outputId": "a2bf1123-f029-475c-bae0-eb3745875f2a"
      },
      "source": [
        "cctv.rename(columns={'구분' : '구별'}, inplace=True)\n",
        "cctv = cctv[['구별', '총계', '최근증가율']]\n",
        "cctv.head()"
      ],
      "execution_count": 9,
      "outputs": [
        {
          "output_type": "execute_result",
          "data": {
            "text/html": [
              "<div>\n",
              "<style scoped>\n",
              "    .dataframe tbody tr th:only-of-type {\n",
              "        vertical-align: middle;\n",
              "    }\n",
              "\n",
              "    .dataframe tbody tr th {\n",
              "        vertical-align: top;\n",
              "    }\n",
              "\n",
              "    .dataframe thead th {\n",
              "        text-align: right;\n",
              "    }\n",
              "</style>\n",
              "<table border=\"1\" class=\"dataframe\">\n",
              "  <thead>\n",
              "    <tr style=\"text-align: right;\">\n",
              "      <th></th>\n",
              "      <th>구별</th>\n",
              "      <th>총계</th>\n",
              "      <th>최근증가율</th>\n",
              "    </tr>\n",
              "  </thead>\n",
              "  <tbody>\n",
              "    <tr>\n",
              "      <th>0</th>\n",
              "      <td>종로구</td>\n",
              "      <td>1772</td>\n",
              "      <td>20.49</td>\n",
              "    </tr>\n",
              "    <tr>\n",
              "      <th>1</th>\n",
              "      <td>중 구</td>\n",
              "      <td>2333</td>\n",
              "      <td>78.98</td>\n",
              "    </tr>\n",
              "    <tr>\n",
              "      <th>2</th>\n",
              "      <td>용산구</td>\n",
              "      <td>2383</td>\n",
              "      <td>78.64</td>\n",
              "    </tr>\n",
              "    <tr>\n",
              "      <th>3</th>\n",
              "      <td>성동구</td>\n",
              "      <td>3602</td>\n",
              "      <td>46.13</td>\n",
              "    </tr>\n",
              "    <tr>\n",
              "      <th>4</th>\n",
              "      <td>광진구</td>\n",
              "      <td>2588</td>\n",
              "      <td>112.29</td>\n",
              "    </tr>\n",
              "  </tbody>\n",
              "</table>\n",
              "</div>"
            ],
            "text/plain": [
              "    구별    총계   최근증가율\n",
              "0  종로구  1772   20.49\n",
              "1  중 구  2333   78.98\n",
              "2  용산구  2383   78.64\n",
              "3  성동구  3602   46.13\n",
              "4  광진구  2588  112.29"
            ]
          },
          "metadata": {},
          "execution_count": 9
        }
      ]
    },
    {
      "cell_type": "code",
      "metadata": {
        "colab": {
          "base_uri": "https://localhost:8080/"
        },
        "id": "cz-0IjWIZ0Gs",
        "outputId": "ce42e1b2-48d0-4aba-a830-ee1d458e0060"
      },
      "source": [
        "cctv['구별'] = cctv.구별.str.replace(' ', '')\n",
        "cctv.구별.unique()"
      ],
      "execution_count": 10,
      "outputs": [
        {
          "output_type": "execute_result",
          "data": {
            "text/plain": [
              "array(['종로구', '중구', '용산구', '성동구', '광진구', '동대문구', '중랑구', '성북구', '강북구',\n",
              "       '도봉구', '노원구', '은평구', '서대문구', '마포구', '양천구', '강서구', '구로구', '금천구',\n",
              "       '영등포구', '동작구', '관악구', '서초구', '강남구', '송파구', '강동구'], dtype=object)"
            ]
          },
          "metadata": {},
          "execution_count": 10
        }
      ]
    },
    {
      "cell_type": "code",
      "metadata": {
        "colab": {
          "base_uri": "https://localhost:8080/",
          "height": 204
        },
        "id": "zseCh8pvaKv9",
        "outputId": "0d47d4cc-601b-42a0-f287-48167e2d5810"
      },
      "source": [
        "cctv.columns = ['구별', 'CCTV댓수', '최근증가율']\n",
        "cctv.head()"
      ],
      "execution_count": 11,
      "outputs": [
        {
          "output_type": "execute_result",
          "data": {
            "text/html": [
              "<div>\n",
              "<style scoped>\n",
              "    .dataframe tbody tr th:only-of-type {\n",
              "        vertical-align: middle;\n",
              "    }\n",
              "\n",
              "    .dataframe tbody tr th {\n",
              "        vertical-align: top;\n",
              "    }\n",
              "\n",
              "    .dataframe thead th {\n",
              "        text-align: right;\n",
              "    }\n",
              "</style>\n",
              "<table border=\"1\" class=\"dataframe\">\n",
              "  <thead>\n",
              "    <tr style=\"text-align: right;\">\n",
              "      <th></th>\n",
              "      <th>구별</th>\n",
              "      <th>CCTV댓수</th>\n",
              "      <th>최근증가율</th>\n",
              "    </tr>\n",
              "  </thead>\n",
              "  <tbody>\n",
              "    <tr>\n",
              "      <th>0</th>\n",
              "      <td>종로구</td>\n",
              "      <td>1772</td>\n",
              "      <td>20.49</td>\n",
              "    </tr>\n",
              "    <tr>\n",
              "      <th>1</th>\n",
              "      <td>중구</td>\n",
              "      <td>2333</td>\n",
              "      <td>78.98</td>\n",
              "    </tr>\n",
              "    <tr>\n",
              "      <th>2</th>\n",
              "      <td>용산구</td>\n",
              "      <td>2383</td>\n",
              "      <td>78.64</td>\n",
              "    </tr>\n",
              "    <tr>\n",
              "      <th>3</th>\n",
              "      <td>성동구</td>\n",
              "      <td>3602</td>\n",
              "      <td>46.13</td>\n",
              "    </tr>\n",
              "    <tr>\n",
              "      <th>4</th>\n",
              "      <td>광진구</td>\n",
              "      <td>2588</td>\n",
              "      <td>112.29</td>\n",
              "    </tr>\n",
              "  </tbody>\n",
              "</table>\n",
              "</div>"
            ],
            "text/plain": [
              "    구별  CCTV댓수   최근증가율\n",
              "0  종로구    1772   20.49\n",
              "1   중구    2333   78.98\n",
              "2  용산구    2383   78.64\n",
              "3  성동구    3602   46.13\n",
              "4  광진구    2588  112.29"
            ]
          },
          "metadata": {},
          "execution_count": 11
        }
      ]
    },
    {
      "cell_type": "code",
      "metadata": {
        "colab": {
          "base_uri": "https://localhost:8080/",
          "height": 204
        },
        "id": "4_YM7zf6aSYr",
        "outputId": "6f044a41-a79e-457f-a4c9-d0b890ea2d0b"
      },
      "source": [
        "# 최근증가율 Top5\n",
        "cctv.sort_values(by='최근증가율', ascending=False).head()"
      ],
      "execution_count": 12,
      "outputs": [
        {
          "output_type": "execute_result",
          "data": {
            "text/html": [
              "<div>\n",
              "<style scoped>\n",
              "    .dataframe tbody tr th:only-of-type {\n",
              "        vertical-align: middle;\n",
              "    }\n",
              "\n",
              "    .dataframe tbody tr th {\n",
              "        vertical-align: top;\n",
              "    }\n",
              "\n",
              "    .dataframe thead th {\n",
              "        text-align: right;\n",
              "    }\n",
              "</style>\n",
              "<table border=\"1\" class=\"dataframe\">\n",
              "  <thead>\n",
              "    <tr style=\"text-align: right;\">\n",
              "      <th></th>\n",
              "      <th>구별</th>\n",
              "      <th>CCTV댓수</th>\n",
              "      <th>최근증가율</th>\n",
              "    </tr>\n",
              "  </thead>\n",
              "  <tbody>\n",
              "    <tr>\n",
              "      <th>8</th>\n",
              "      <td>강북구</td>\n",
              "      <td>2462</td>\n",
              "      <td>446.95</td>\n",
              "    </tr>\n",
              "    <tr>\n",
              "      <th>23</th>\n",
              "      <td>송파구</td>\n",
              "      <td>2854</td>\n",
              "      <td>203.19</td>\n",
              "    </tr>\n",
              "    <tr>\n",
              "      <th>6</th>\n",
              "      <td>중랑구</td>\n",
              "      <td>3296</td>\n",
              "      <td>191.07</td>\n",
              "    </tr>\n",
              "    <tr>\n",
              "      <th>17</th>\n",
              "      <td>금천구</td>\n",
              "      <td>2374</td>\n",
              "      <td>149.47</td>\n",
              "    </tr>\n",
              "    <tr>\n",
              "      <th>11</th>\n",
              "      <td>은평구</td>\n",
              "      <td>3791</td>\n",
              "      <td>117.86</td>\n",
              "    </tr>\n",
              "  </tbody>\n",
              "</table>\n",
              "</div>"
            ],
            "text/plain": [
              "     구별  CCTV댓수   최근증가율\n",
              "8   강북구    2462  446.95\n",
              "23  송파구    2854  203.19\n",
              "6   중랑구    3296  191.07\n",
              "17  금천구    2374  149.47\n",
              "11  은평구    3791  117.86"
            ]
          },
          "metadata": {},
          "execution_count": 12
        }
      ]
    },
    {
      "cell_type": "code",
      "metadata": {
        "colab": {
          "base_uri": "https://localhost:8080/",
          "height": 204
        },
        "id": "kInnZn01aifq",
        "outputId": "4270fee1-e5c5-4e70-f313-03c85cc37cd8"
      },
      "source": [
        "# CCTV 댓수 Top5\n",
        "cctv.sort_values(by='CCTV댓수', ascending=False).head()"
      ],
      "execution_count": 13,
      "outputs": [
        {
          "output_type": "execute_result",
          "data": {
            "text/html": [
              "<div>\n",
              "<style scoped>\n",
              "    .dataframe tbody tr th:only-of-type {\n",
              "        vertical-align: middle;\n",
              "    }\n",
              "\n",
              "    .dataframe tbody tr th {\n",
              "        vertical-align: top;\n",
              "    }\n",
              "\n",
              "    .dataframe thead th {\n",
              "        text-align: right;\n",
              "    }\n",
              "</style>\n",
              "<table border=\"1\" class=\"dataframe\">\n",
              "  <thead>\n",
              "    <tr style=\"text-align: right;\">\n",
              "      <th></th>\n",
              "      <th>구별</th>\n",
              "      <th>CCTV댓수</th>\n",
              "      <th>최근증가율</th>\n",
              "    </tr>\n",
              "  </thead>\n",
              "  <tbody>\n",
              "    <tr>\n",
              "      <th>22</th>\n",
              "      <td>강남구</td>\n",
              "      <td>6502</td>\n",
              "      <td>61.64</td>\n",
              "    </tr>\n",
              "    <tr>\n",
              "      <th>20</th>\n",
              "      <td>관악구</td>\n",
              "      <td>4942</td>\n",
              "      <td>49.91</td>\n",
              "    </tr>\n",
              "    <tr>\n",
              "      <th>16</th>\n",
              "      <td>구로구</td>\n",
              "      <td>4075</td>\n",
              "      <td>48.83</td>\n",
              "    </tr>\n",
              "    <tr>\n",
              "      <th>7</th>\n",
              "      <td>성북구</td>\n",
              "      <td>3958</td>\n",
              "      <td>94.53</td>\n",
              "    </tr>\n",
              "    <tr>\n",
              "      <th>11</th>\n",
              "      <td>은평구</td>\n",
              "      <td>3791</td>\n",
              "      <td>117.86</td>\n",
              "    </tr>\n",
              "  </tbody>\n",
              "</table>\n",
              "</div>"
            ],
            "text/plain": [
              "     구별  CCTV댓수   최근증가율\n",
              "22  강남구    6502   61.64\n",
              "20  관악구    4942   49.91\n",
              "16  구로구    4075   48.83\n",
              "7   성북구    3958   94.53\n",
              "11  은평구    3791  117.86"
            ]
          },
          "metadata": {},
          "execution_count": 13
        }
      ]
    },
    {
      "cell_type": "markdown",
      "metadata": {
        "id": "z73q6ltHasnp"
      },
      "source": [
        "## 인구데이터 파악하고 정리하기"
      ]
    },
    {
      "cell_type": "code",
      "metadata": {
        "colab": {
          "base_uri": "https://localhost:8080/",
          "height": 446
        },
        "id": "kVx9W-QbXjtG",
        "outputId": "458a874b-1713-40bf-9134-4ffa85f25895"
      },
      "source": [
        "pop = pd.read_csv(f'{data_folder}/서울시주민등록인구(구별)통계.tsv', sep='\\t', skiprows=[0,1,3])\n",
        "pop.head()"
      ],
      "execution_count": 14,
      "outputs": [
        {
          "output_type": "execute_result",
          "data": {
            "text/html": [
              "<div>\n",
              "<style scoped>\n",
              "    .dataframe tbody tr th:only-of-type {\n",
              "        vertical-align: middle;\n",
              "    }\n",
              "\n",
              "    .dataframe tbody tr th {\n",
              "        vertical-align: top;\n",
              "    }\n",
              "\n",
              "    .dataframe thead th {\n",
              "        text-align: right;\n",
              "    }\n",
              "</style>\n",
              "<table border=\"1\" class=\"dataframe\">\n",
              "  <thead>\n",
              "    <tr style=\"text-align: right;\">\n",
              "      <th></th>\n",
              "      <th>기간</th>\n",
              "      <th>자치구</th>\n",
              "      <th>세대</th>\n",
              "      <th>계</th>\n",
              "      <th>남자</th>\n",
              "      <th>여자</th>\n",
              "      <th>계.1</th>\n",
              "      <th>남자.1</th>\n",
              "      <th>여자.1</th>\n",
              "      <th>계.2</th>\n",
              "      <th>남자.2</th>\n",
              "      <th>여자.2</th>\n",
              "      <th>세대당인구</th>\n",
              "      <th>65세이상고령자</th>\n",
              "    </tr>\n",
              "  </thead>\n",
              "  <tbody>\n",
              "    <tr>\n",
              "      <th>0</th>\n",
              "      <td>2021.2/4</td>\n",
              "      <td>종로구</td>\n",
              "      <td>73,525</td>\n",
              "      <td>155,106</td>\n",
              "      <td>75,009</td>\n",
              "      <td>80,097</td>\n",
              "      <td>146,029</td>\n",
              "      <td>70,985</td>\n",
              "      <td>75,044</td>\n",
              "      <td>9,077</td>\n",
              "      <td>4,024</td>\n",
              "      <td>5,053</td>\n",
              "      <td>1.99</td>\n",
              "      <td>27,605</td>\n",
              "    </tr>\n",
              "    <tr>\n",
              "      <th>1</th>\n",
              "      <td>2021.2/4</td>\n",
              "      <td>중구</td>\n",
              "      <td>62,897</td>\n",
              "      <td>132,259</td>\n",
              "      <td>64,526</td>\n",
              "      <td>67,733</td>\n",
              "      <td>123,016</td>\n",
              "      <td>60,019</td>\n",
              "      <td>62,997</td>\n",
              "      <td>9,243</td>\n",
              "      <td>4,507</td>\n",
              "      <td>4,736</td>\n",
              "      <td>1.96</td>\n",
              "      <td>23,980</td>\n",
              "    </tr>\n",
              "    <tr>\n",
              "      <th>2</th>\n",
              "      <td>2021.2/4</td>\n",
              "      <td>용산구</td>\n",
              "      <td>111,650</td>\n",
              "      <td>240,665</td>\n",
              "      <td>116,858</td>\n",
              "      <td>123,807</td>\n",
              "      <td>226,378</td>\n",
              "      <td>108,948</td>\n",
              "      <td>117,430</td>\n",
              "      <td>14,287</td>\n",
              "      <td>7,910</td>\n",
              "      <td>6,377</td>\n",
              "      <td>2.03</td>\n",
              "      <td>38,884</td>\n",
              "    </tr>\n",
              "    <tr>\n",
              "      <th>3</th>\n",
              "      <td>2021.2/4</td>\n",
              "      <td>성동구</td>\n",
              "      <td>134,542</td>\n",
              "      <td>295,767</td>\n",
              "      <td>143,927</td>\n",
              "      <td>151,840</td>\n",
              "      <td>289,162</td>\n",
              "      <td>141,042</td>\n",
              "      <td>148,120</td>\n",
              "      <td>6,605</td>\n",
              "      <td>2,885</td>\n",
              "      <td>3,720</td>\n",
              "      <td>2.15</td>\n",
              "      <td>45,591</td>\n",
              "    </tr>\n",
              "    <tr>\n",
              "      <th>4</th>\n",
              "      <td>2021.2/4</td>\n",
              "      <td>광진구</td>\n",
              "      <td>166,957</td>\n",
              "      <td>355,306</td>\n",
              "      <td>170,624</td>\n",
              "      <td>184,682</td>\n",
              "      <td>342,481</td>\n",
              "      <td>165,233</td>\n",
              "      <td>177,248</td>\n",
              "      <td>12,825</td>\n",
              "      <td>5,391</td>\n",
              "      <td>7,434</td>\n",
              "      <td>2.05</td>\n",
              "      <td>50,815</td>\n",
              "    </tr>\n",
              "  </tbody>\n",
              "</table>\n",
              "</div>"
            ],
            "text/plain": [
              "         기간  자치구       세대        계  ...   남자.2   여자.2 세대당인구 65세이상고령자\n",
              "0  2021.2/4  종로구   73,525  155,106  ...  4,024  5,053  1.99   27,605\n",
              "1  2021.2/4   중구   62,897  132,259  ...  4,507  4,736  1.96   23,980\n",
              "2  2021.2/4  용산구  111,650  240,665  ...  7,910  6,377  2.03   38,884\n",
              "3  2021.2/4  성동구  134,542  295,767  ...  2,885  3,720  2.15   45,591\n",
              "4  2021.2/4  광진구  166,957  355,306  ...  5,391  7,434  2.05   50,815\n",
              "\n",
              "[5 rows x 14 columns]"
            ]
          },
          "metadata": {},
          "execution_count": 14
        }
      ]
    },
    {
      "cell_type": "code",
      "metadata": {
        "id": "uv53MNE461Nu",
        "colab": {
          "base_uri": "https://localhost:8080/",
          "height": 204
        },
        "outputId": "005f9a94-45b4-40cb-9c6f-b3cd270b4d6f"
      },
      "source": [
        "pop = pop[['자치구', '계', '계.1', '계.2', '65세이상고령자']]\n",
        "pop.columns = ['구별', '인구수', '내국인', '외국인', '고령자']\n",
        "pop.head()"
      ],
      "execution_count": 15,
      "outputs": [
        {
          "output_type": "execute_result",
          "data": {
            "text/html": [
              "<div>\n",
              "<style scoped>\n",
              "    .dataframe tbody tr th:only-of-type {\n",
              "        vertical-align: middle;\n",
              "    }\n",
              "\n",
              "    .dataframe tbody tr th {\n",
              "        vertical-align: top;\n",
              "    }\n",
              "\n",
              "    .dataframe thead th {\n",
              "        text-align: right;\n",
              "    }\n",
              "</style>\n",
              "<table border=\"1\" class=\"dataframe\">\n",
              "  <thead>\n",
              "    <tr style=\"text-align: right;\">\n",
              "      <th></th>\n",
              "      <th>구별</th>\n",
              "      <th>인구수</th>\n",
              "      <th>내국인</th>\n",
              "      <th>외국인</th>\n",
              "      <th>고령자</th>\n",
              "    </tr>\n",
              "  </thead>\n",
              "  <tbody>\n",
              "    <tr>\n",
              "      <th>0</th>\n",
              "      <td>종로구</td>\n",
              "      <td>155,106</td>\n",
              "      <td>146,029</td>\n",
              "      <td>9,077</td>\n",
              "      <td>27,605</td>\n",
              "    </tr>\n",
              "    <tr>\n",
              "      <th>1</th>\n",
              "      <td>중구</td>\n",
              "      <td>132,259</td>\n",
              "      <td>123,016</td>\n",
              "      <td>9,243</td>\n",
              "      <td>23,980</td>\n",
              "    </tr>\n",
              "    <tr>\n",
              "      <th>2</th>\n",
              "      <td>용산구</td>\n",
              "      <td>240,665</td>\n",
              "      <td>226,378</td>\n",
              "      <td>14,287</td>\n",
              "      <td>38,884</td>\n",
              "    </tr>\n",
              "    <tr>\n",
              "      <th>3</th>\n",
              "      <td>성동구</td>\n",
              "      <td>295,767</td>\n",
              "      <td>289,162</td>\n",
              "      <td>6,605</td>\n",
              "      <td>45,591</td>\n",
              "    </tr>\n",
              "    <tr>\n",
              "      <th>4</th>\n",
              "      <td>광진구</td>\n",
              "      <td>355,306</td>\n",
              "      <td>342,481</td>\n",
              "      <td>12,825</td>\n",
              "      <td>50,815</td>\n",
              "    </tr>\n",
              "  </tbody>\n",
              "</table>\n",
              "</div>"
            ],
            "text/plain": [
              "    구별      인구수      내국인     외국인     고령자\n",
              "0  종로구  155,106  146,029   9,077  27,605\n",
              "1   중구  132,259  123,016   9,243  23,980\n",
              "2  용산구  240,665  226,378  14,287  38,884\n",
              "3  성동구  295,767  289,162   6,605  45,591\n",
              "4  광진구  355,306  342,481  12,825  50,815"
            ]
          },
          "metadata": {},
          "execution_count": 15
        }
      ]
    },
    {
      "cell_type": "code",
      "metadata": {
        "colab": {
          "base_uri": "https://localhost:8080/",
          "height": 204
        },
        "id": "CUMFVDqMbSXb",
        "outputId": "04a7c758-587c-42a6-ca12-b5581ba608ac"
      },
      "source": [
        "# 자료형을 숫자형으로 바꾸는 과정\n",
        "for col in pop.columns[1:]: # 전체 열이 문자열인 경우\n",
        "    pop[col] = pop[col].apply(lambda x: int(x.replace(',', '')))\n",
        "pop.head()"
      ],
      "execution_count": 16,
      "outputs": [
        {
          "output_type": "execute_result",
          "data": {
            "text/html": [
              "<div>\n",
              "<style scoped>\n",
              "    .dataframe tbody tr th:only-of-type {\n",
              "        vertical-align: middle;\n",
              "    }\n",
              "\n",
              "    .dataframe tbody tr th {\n",
              "        vertical-align: top;\n",
              "    }\n",
              "\n",
              "    .dataframe thead th {\n",
              "        text-align: right;\n",
              "    }\n",
              "</style>\n",
              "<table border=\"1\" class=\"dataframe\">\n",
              "  <thead>\n",
              "    <tr style=\"text-align: right;\">\n",
              "      <th></th>\n",
              "      <th>구별</th>\n",
              "      <th>인구수</th>\n",
              "      <th>내국인</th>\n",
              "      <th>외국인</th>\n",
              "      <th>고령자</th>\n",
              "    </tr>\n",
              "  </thead>\n",
              "  <tbody>\n",
              "    <tr>\n",
              "      <th>0</th>\n",
              "      <td>종로구</td>\n",
              "      <td>155106</td>\n",
              "      <td>146029</td>\n",
              "      <td>9077</td>\n",
              "      <td>27605</td>\n",
              "    </tr>\n",
              "    <tr>\n",
              "      <th>1</th>\n",
              "      <td>중구</td>\n",
              "      <td>132259</td>\n",
              "      <td>123016</td>\n",
              "      <td>9243</td>\n",
              "      <td>23980</td>\n",
              "    </tr>\n",
              "    <tr>\n",
              "      <th>2</th>\n",
              "      <td>용산구</td>\n",
              "      <td>240665</td>\n",
              "      <td>226378</td>\n",
              "      <td>14287</td>\n",
              "      <td>38884</td>\n",
              "    </tr>\n",
              "    <tr>\n",
              "      <th>3</th>\n",
              "      <td>성동구</td>\n",
              "      <td>295767</td>\n",
              "      <td>289162</td>\n",
              "      <td>6605</td>\n",
              "      <td>45591</td>\n",
              "    </tr>\n",
              "    <tr>\n",
              "      <th>4</th>\n",
              "      <td>광진구</td>\n",
              "      <td>355306</td>\n",
              "      <td>342481</td>\n",
              "      <td>12825</td>\n",
              "      <td>50815</td>\n",
              "    </tr>\n",
              "  </tbody>\n",
              "</table>\n",
              "</div>"
            ],
            "text/plain": [
              "    구별     인구수     내국인    외국인    고령자\n",
              "0  종로구  155106  146029   9077  27605\n",
              "1   중구  132259  123016   9243  23980\n",
              "2  용산구  240665  226378  14287  38884\n",
              "3  성동구  295767  289162   6605  45591\n",
              "4  광진구  355306  342481  12825  50815"
            ]
          },
          "metadata": {},
          "execution_count": 16
        }
      ]
    },
    {
      "cell_type": "code",
      "metadata": {
        "colab": {
          "base_uri": "https://localhost:8080/",
          "height": 204
        },
        "id": "NiyGs042bdET",
        "outputId": "82df5877-e979-4c0c-c7ef-f391218d8e82"
      },
      "source": [
        "pop['외국인비율'] = (pop['외국인'] / pop['인구수'] * 100).round(2)\n",
        "pop['고령자비율'] = np.round(pop['고령자'] / pop['인구수'] * 100, 2)\n",
        "pop.head()"
      ],
      "execution_count": 17,
      "outputs": [
        {
          "output_type": "execute_result",
          "data": {
            "text/html": [
              "<div>\n",
              "<style scoped>\n",
              "    .dataframe tbody tr th:only-of-type {\n",
              "        vertical-align: middle;\n",
              "    }\n",
              "\n",
              "    .dataframe tbody tr th {\n",
              "        vertical-align: top;\n",
              "    }\n",
              "\n",
              "    .dataframe thead th {\n",
              "        text-align: right;\n",
              "    }\n",
              "</style>\n",
              "<table border=\"1\" class=\"dataframe\">\n",
              "  <thead>\n",
              "    <tr style=\"text-align: right;\">\n",
              "      <th></th>\n",
              "      <th>구별</th>\n",
              "      <th>인구수</th>\n",
              "      <th>내국인</th>\n",
              "      <th>외국인</th>\n",
              "      <th>고령자</th>\n",
              "      <th>외국인비율</th>\n",
              "      <th>고령자비율</th>\n",
              "    </tr>\n",
              "  </thead>\n",
              "  <tbody>\n",
              "    <tr>\n",
              "      <th>0</th>\n",
              "      <td>종로구</td>\n",
              "      <td>155106</td>\n",
              "      <td>146029</td>\n",
              "      <td>9077</td>\n",
              "      <td>27605</td>\n",
              "      <td>5.85</td>\n",
              "      <td>17.80</td>\n",
              "    </tr>\n",
              "    <tr>\n",
              "      <th>1</th>\n",
              "      <td>중구</td>\n",
              "      <td>132259</td>\n",
              "      <td>123016</td>\n",
              "      <td>9243</td>\n",
              "      <td>23980</td>\n",
              "      <td>6.99</td>\n",
              "      <td>18.13</td>\n",
              "    </tr>\n",
              "    <tr>\n",
              "      <th>2</th>\n",
              "      <td>용산구</td>\n",
              "      <td>240665</td>\n",
              "      <td>226378</td>\n",
              "      <td>14287</td>\n",
              "      <td>38884</td>\n",
              "      <td>5.94</td>\n",
              "      <td>16.16</td>\n",
              "    </tr>\n",
              "    <tr>\n",
              "      <th>3</th>\n",
              "      <td>성동구</td>\n",
              "      <td>295767</td>\n",
              "      <td>289162</td>\n",
              "      <td>6605</td>\n",
              "      <td>45591</td>\n",
              "      <td>2.23</td>\n",
              "      <td>15.41</td>\n",
              "    </tr>\n",
              "    <tr>\n",
              "      <th>4</th>\n",
              "      <td>광진구</td>\n",
              "      <td>355306</td>\n",
              "      <td>342481</td>\n",
              "      <td>12825</td>\n",
              "      <td>50815</td>\n",
              "      <td>3.61</td>\n",
              "      <td>14.30</td>\n",
              "    </tr>\n",
              "  </tbody>\n",
              "</table>\n",
              "</div>"
            ],
            "text/plain": [
              "    구별     인구수     내국인    외국인    고령자  외국인비율  고령자비율\n",
              "0  종로구  155106  146029   9077  27605   5.85  17.80\n",
              "1   중구  132259  123016   9243  23980   6.99  18.13\n",
              "2  용산구  240665  226378  14287  38884   5.94  16.16\n",
              "3  성동구  295767  289162   6605  45591   2.23  15.41\n",
              "4  광진구  355306  342481  12825  50815   3.61  14.30"
            ]
          },
          "metadata": {},
          "execution_count": 17
        }
      ]
    },
    {
      "cell_type": "markdown",
      "metadata": {
        "id": "m8JmywWDbvG7"
      },
      "source": [
        "## CCTV 데이터와 인구 데이터 합치고 분석하기"
      ]
    },
    {
      "cell_type": "code",
      "metadata": {
        "colab": {
          "base_uri": "https://localhost:8080/",
          "height": 235
        },
        "id": "tp3GrSYcby19",
        "outputId": "c2d5669d-2444-495d-d630-f43991928c82"
      },
      "source": [
        "df = pd.merge(cctv, pop)\n",
        "df.set_index('구별', inplace=True)\n",
        "df.head()"
      ],
      "execution_count": 18,
      "outputs": [
        {
          "output_type": "execute_result",
          "data": {
            "text/html": [
              "<div>\n",
              "<style scoped>\n",
              "    .dataframe tbody tr th:only-of-type {\n",
              "        vertical-align: middle;\n",
              "    }\n",
              "\n",
              "    .dataframe tbody tr th {\n",
              "        vertical-align: top;\n",
              "    }\n",
              "\n",
              "    .dataframe thead th {\n",
              "        text-align: right;\n",
              "    }\n",
              "</style>\n",
              "<table border=\"1\" class=\"dataframe\">\n",
              "  <thead>\n",
              "    <tr style=\"text-align: right;\">\n",
              "      <th></th>\n",
              "      <th>CCTV댓수</th>\n",
              "      <th>최근증가율</th>\n",
              "      <th>인구수</th>\n",
              "      <th>내국인</th>\n",
              "      <th>외국인</th>\n",
              "      <th>고령자</th>\n",
              "      <th>외국인비율</th>\n",
              "      <th>고령자비율</th>\n",
              "    </tr>\n",
              "    <tr>\n",
              "      <th>구별</th>\n",
              "      <th></th>\n",
              "      <th></th>\n",
              "      <th></th>\n",
              "      <th></th>\n",
              "      <th></th>\n",
              "      <th></th>\n",
              "      <th></th>\n",
              "      <th></th>\n",
              "    </tr>\n",
              "  </thead>\n",
              "  <tbody>\n",
              "    <tr>\n",
              "      <th>종로구</th>\n",
              "      <td>1772</td>\n",
              "      <td>20.49</td>\n",
              "      <td>155106</td>\n",
              "      <td>146029</td>\n",
              "      <td>9077</td>\n",
              "      <td>27605</td>\n",
              "      <td>5.85</td>\n",
              "      <td>17.80</td>\n",
              "    </tr>\n",
              "    <tr>\n",
              "      <th>중구</th>\n",
              "      <td>2333</td>\n",
              "      <td>78.98</td>\n",
              "      <td>132259</td>\n",
              "      <td>123016</td>\n",
              "      <td>9243</td>\n",
              "      <td>23980</td>\n",
              "      <td>6.99</td>\n",
              "      <td>18.13</td>\n",
              "    </tr>\n",
              "    <tr>\n",
              "      <th>용산구</th>\n",
              "      <td>2383</td>\n",
              "      <td>78.64</td>\n",
              "      <td>240665</td>\n",
              "      <td>226378</td>\n",
              "      <td>14287</td>\n",
              "      <td>38884</td>\n",
              "      <td>5.94</td>\n",
              "      <td>16.16</td>\n",
              "    </tr>\n",
              "    <tr>\n",
              "      <th>성동구</th>\n",
              "      <td>3602</td>\n",
              "      <td>46.13</td>\n",
              "      <td>295767</td>\n",
              "      <td>289162</td>\n",
              "      <td>6605</td>\n",
              "      <td>45591</td>\n",
              "      <td>2.23</td>\n",
              "      <td>15.41</td>\n",
              "    </tr>\n",
              "    <tr>\n",
              "      <th>광진구</th>\n",
              "      <td>2588</td>\n",
              "      <td>112.29</td>\n",
              "      <td>355306</td>\n",
              "      <td>342481</td>\n",
              "      <td>12825</td>\n",
              "      <td>50815</td>\n",
              "      <td>3.61</td>\n",
              "      <td>14.30</td>\n",
              "    </tr>\n",
              "  </tbody>\n",
              "</table>\n",
              "</div>"
            ],
            "text/plain": [
              "     CCTV댓수   최근증가율     인구수     내국인    외국인    고령자  외국인비율  고령자비율\n",
              "구별                                                             \n",
              "종로구    1772   20.49  155106  146029   9077  27605   5.85  17.80\n",
              "중구     2333   78.98  132259  123016   9243  23980   6.99  18.13\n",
              "용산구    2383   78.64  240665  226378  14287  38884   5.94  16.16\n",
              "성동구    3602   46.13  295767  289162   6605  45591   2.23  15.41\n",
              "광진구    2588  112.29  355306  342481  12825  50815   3.61  14.30"
            ]
          },
          "metadata": {},
          "execution_count": 18
        }
      ]
    },
    {
      "cell_type": "markdown",
      "metadata": {
        "id": "2Pge7OfbcSlf"
      },
      "source": [
        "- 상관관계 분석"
      ]
    },
    {
      "cell_type": "code",
      "metadata": {
        "colab": {
          "base_uri": "https://localhost:8080/"
        },
        "id": "jjWWFpdRLBO7",
        "outputId": "7c91b52a-aeb7-408f-ff39-df947870b2a7"
      },
      "source": [
        "# 고령자 비율과 CCTV 댓수\n",
        "np.corrcoef(df.고령자비율, df.CCTV댓수) # 상관계수"
      ],
      "execution_count": 19,
      "outputs": [
        {
          "output_type": "execute_result",
          "data": {
            "text/plain": [
              "array([[ 1.        , -0.39498052],\n",
              "       [-0.39498052,  1.        ]])"
            ]
          },
          "metadata": {},
          "execution_count": 19
        }
      ]
    },
    {
      "cell_type": "code",
      "metadata": {
        "colab": {
          "base_uri": "https://localhost:8080/"
        },
        "id": "8VOmqnAfccJ2",
        "outputId": "35f13cf9-1a07-406b-c9e7-e22f132eafee"
      },
      "source": [
        "# 외국인 비율과 CCTV 댓수\n",
        "np.corrcoef(df.외국인비율, df.CCTV댓수)"
      ],
      "execution_count": 20,
      "outputs": [
        {
          "output_type": "execute_result",
          "data": {
            "text/plain": [
              "array([[ 1.        , -0.17513977],\n",
              "       [-0.17513977,  1.        ]])"
            ]
          },
          "metadata": {},
          "execution_count": 20
        }
      ]
    },
    {
      "cell_type": "code",
      "metadata": {
        "colab": {
          "base_uri": "https://localhost:8080/"
        },
        "id": "8vqaG60rclW9",
        "outputId": "503be7a6-037e-4488-ee5e-9b7e4a2cc6ff"
      },
      "source": [
        "# 인구수와 CCTV 댓수\n",
        "np.corrcoef(df.인구수, df.CCTV댓수)"
      ],
      "execution_count": 21,
      "outputs": [
        {
          "output_type": "execute_result",
          "data": {
            "text/plain": [
              "array([[1.        , 0.45609487],\n",
              "       [0.45609487, 1.        ]])"
            ]
          },
          "metadata": {},
          "execution_count": 21
        }
      ]
    },
    {
      "cell_type": "code",
      "metadata": {
        "colab": {
          "base_uri": "https://localhost:8080/",
          "height": 240
        },
        "id": "2dw4LBS2crLm",
        "outputId": "c19bd010-55d1-46d5-bf8a-018830686efc"
      },
      "source": [
        "# 선형회귀 그림\n",
        "fig, axs = plt.subplots(figsize=(15,5), nrows=1, ncols=3)\n",
        "features = ['고령자비율', '외국인비율', '인구수']\n",
        "for i, feature in enumerate(features):\n",
        "    sns.regplot(x=feature, y='CCTV댓수', data=df, ax=axs[i])"
      ],
      "execution_count": 22,
      "outputs": [
        {
          "output_type": "display_data",
          "data": {
            "image/png": "[encoded data removed]",
            "text/plain": [
              "<Figure size 1080x360 with 3 Axes>"
            ]
          },
          "metadata": {
            "needs_background": "light"
          }
        }
      ]
    },
    {
      "cell_type": "markdown",
      "metadata": {
        "id": "WrZpnIfaeEWc"
      },
      "source": [
        "## CCTV 현황 그래프로 분석하기"
      ]
    },
    {
      "cell_type": "code",
      "metadata": {
        "colab": {
          "base_uri": "https://localhost:8080/",
          "height": 427
        },
        "id": "LlV0McfvdkLL",
        "outputId": "8322670a-2bee-40b0-e304-e87d57a7f642"
      },
      "source": [
        "df.CCTV댓수.sort_values().plot(kind='barh', grid=True, figsize=(12,8), title='구별 CCTV댓수')\n",
        "plt.show()"
      ],
      "execution_count": 27,
      "outputs": [
        {
          "output_type": "display_data",
          "data": {
            "image/png": "[encoded data removed]",
            "text/plain": [
              "<Figure size 864x576 with 1 Axes>"
            ]
          },
          "metadata": {
            "needs_background": "light"
          }
        }
      ]
    },
    {
      "cell_type": "code",
      "metadata": {
        "colab": {
          "base_uri": "https://localhost:8080/",
          "height": 498
        },
        "id": "BdjOhkWgeXZm",
        "outputId": "16b27d93-b2a2-4296-f279-10110ace63ef"
      },
      "source": [
        "# 인구대비 CCTV 비율\n",
        "df['cctv비율'] = (df.CCTV댓수/df.인구수*100).round(2)\n",
        "df.cctv비율.sort_values().plot(kind='barh', grid=True, figsize=(12,8), title='인구대비 CCTV 비율')\n",
        "plt.show()"
      ],
      "execution_count": 28,
      "outputs": [
        {
          "output_type": "display_data",
          "data": {
            "image/png": "[encoded data removed]",
            "text/plain": [
              "<Figure size 864x576 with 1 Axes>"
            ]
          },
          "metadata": {
            "needs_background": "light"
          }
        }
      ]
    },
    {
      "cell_type": "code",
      "metadata": {
        "colab": {
          "base_uri": "https://localhost:8080/",
          "height": 403
        },
        "id": "608PFd_G6Q_F",
        "outputId": "542c9196-d9e3-4698-ce7a-fac760dc6da1"
      },
      "source": [
        "# 인구수와 CCTV 댓수의 산점도\n",
        "plt.figure(figsize=(6,6))\n",
        "plt.scatter(df.인구수, df.CCTV댓수, s=50) # 마커의 크기\n",
        "plt.grid(True)\n",
        "plt.title('인구수와 CCTV 댓수의 산점도')\n",
        "plt.xlabel('인구수')\n",
        "plt.ylabel('CCTV')\n",
        "plt.show()"
      ],
      "execution_count": 30,
      "outputs": [
        {
          "output_type": "display_data",
          "data": {
            "image/png": "[encoded data removed]",
            "text/plain": [
              "<Figure size 432x432 with 1 Axes>"
            ]
          },
          "metadata": {
            "needs_background": "light"
          }
        }
      ]
    },
    {
      "cell_type": "code",
      "metadata": {
        "colab": {
          "base_uri": "https://localhost:8080/"
        },
        "id": "zOSS8DHD6v_e",
        "outputId": "9a45657c-a88d-40b7-a281-11b6cba81ad3"
      },
      "source": [
        "# 산점도 위에 상관관계를 나타내는 선 그리기\n",
        "fp1 = np.polyfit(df.인구수, df.CCTV댓수, 1) # 세번째 인자는 찾고자 하는 함수의 차수\n",
        "fp1 # 기울기, 절편"
      ],
      "execution_count": 37,
      "outputs": [
        {
          "output_type": "execute_result",
          "data": {
            "text/plain": [
              "array([3.85119765e-03, 1.57231514e+03])"
            ]
          },
          "metadata": {},
          "execution_count": 37
        }
      ]
    },
    {
      "cell_type": "code",
      "metadata": {
        "colab": {
          "base_uri": "https://localhost:8080/"
        },
        "id": "AaZUzKzrM5gy",
        "outputId": "27864782-ce79-4a50-d9d7-286cf5c10f86"
      },
      "source": [
        "fx = np.array([100000, 700000])\n",
        "f1 = np.poly1d(fp1) # 다항식 연산이 가능한 numpy의 클래스 중 하나, polynomial class\n",
        "fy = f1(fx)\n",
        "fy"
      ],
      "execution_count": 33,
      "outputs": [
        {
          "output_type": "execute_result",
          "data": {
            "text/plain": [
              "array([1957.43490106, 4268.1534916 ])"
            ]
          },
          "metadata": {},
          "execution_count": 33
        }
      ]
    },
    {
      "cell_type": "code",
      "metadata": {
        "colab": {
          "base_uri": "https://localhost:8080/",
          "height": 512
        },
        "id": "R1TCGyKIVibW",
        "outputId": "ee838c69-daa2-4590-d1ab-615904635f47"
      },
      "source": [
        "plt.figure(figsize=(8,8))\n",
        "plt.scatter(df.인구수, df.CCTV댓수, s=50)\n",
        "plt.plot(fx, fy, ls='dashed', lw=3, color='g') # '--' 혹은 'dashed'\n",
        "plt.grid(True)\n",
        "plt.title('인구수와 CCTV 댓수의 관계')\n",
        "plt.xlabel('인구수')\n",
        "plt.ylabel('CCTV')\n",
        "plt.show()"
      ],
      "execution_count": 34,
      "outputs": [
        {
          "output_type": "display_data",
          "data": {
            "image/png": "[encoded data removed]",
            "text/plain": [
              "<Figure size 576x576 with 1 Axes>"
            ]
          },
          "metadata": {
            "needs_background": "light"
          }
        }
      ]
    },
    {
      "cell_type": "code",
      "metadata": {
        "colab": {
          "base_uri": "https://localhost:8080/",
          "height": 235
        },
        "id": "rbAfisKQVvCx",
        "outputId": "7ff3d0c0-ff89-46de-f679-ba671f8b5103"
      },
      "source": [
        "df['오차'] = np.abs(df.CCTV댓수-f1(df.인구수)).round(2)\n",
        "df_sort = df.sort_values('오차', ascending=False)\n",
        "df_sort.head()"
      ],
      "execution_count": 35,
      "outputs": [
        {
          "output_type": "execute_result",
          "data": {
            "text/html": [
              "<div>\n",
              "<style scoped>\n",
              "    .dataframe tbody tr th:only-of-type {\n",
              "        vertical-align: middle;\n",
              "    }\n",
              "\n",
              "    .dataframe tbody tr th {\n",
              "        vertical-align: top;\n",
              "    }\n",
              "\n",
              "    .dataframe thead th {\n",
              "        text-align: right;\n",
              "    }\n",
              "</style>\n",
              "<table border=\"1\" class=\"dataframe\">\n",
              "  <thead>\n",
              "    <tr style=\"text-align: right;\">\n",
              "      <th></th>\n",
              "      <th>CCTV댓수</th>\n",
              "      <th>최근증가율</th>\n",
              "      <th>인구수</th>\n",
              "      <th>내국인</th>\n",
              "      <th>외국인</th>\n",
              "      <th>고령자</th>\n",
              "      <th>외국인비율</th>\n",
              "      <th>고령자비율</th>\n",
              "      <th>cctv비율</th>\n",
              "      <th>오차</th>\n",
              "    </tr>\n",
              "    <tr>\n",
              "      <th>구별</th>\n",
              "      <th></th>\n",
              "      <th></th>\n",
              "      <th></th>\n",
              "      <th></th>\n",
              "      <th></th>\n",
              "      <th></th>\n",
              "      <th></th>\n",
              "      <th></th>\n",
              "      <th></th>\n",
              "      <th></th>\n",
              "    </tr>\n",
              "  </thead>\n",
              "  <tbody>\n",
              "    <tr>\n",
              "      <th>강남구</th>\n",
              "      <td>6502</td>\n",
              "      <td>61.64</td>\n",
              "      <td>536107</td>\n",
              "      <td>531375</td>\n",
              "      <td>4732</td>\n",
              "      <td>76184</td>\n",
              "      <td>0.88</td>\n",
              "      <td>14.21</td>\n",
              "      <td>1.21</td>\n",
              "      <td>2865.03</td>\n",
              "    </tr>\n",
              "    <tr>\n",
              "      <th>관악구</th>\n",
              "      <td>4942</td>\n",
              "      <td>49.91</td>\n",
              "      <td>502698</td>\n",
              "      <td>488800</td>\n",
              "      <td>13898</td>\n",
              "      <td>78647</td>\n",
              "      <td>2.76</td>\n",
              "      <td>15.64</td>\n",
              "      <td>0.98</td>\n",
              "      <td>1433.70</td>\n",
              "    </tr>\n",
              "    <tr>\n",
              "      <th>송파구</th>\n",
              "      <td>2854</td>\n",
              "      <td>203.19</td>\n",
              "      <td>664341</td>\n",
              "      <td>658670</td>\n",
              "      <td>5671</td>\n",
              "      <td>95164</td>\n",
              "      <td>0.85</td>\n",
              "      <td>14.32</td>\n",
              "      <td>0.43</td>\n",
              "      <td>1276.82</td>\n",
              "    </tr>\n",
              "    <tr>\n",
              "      <th>강서구</th>\n",
              "      <td>2560</td>\n",
              "      <td>78.53</td>\n",
              "      <td>582995</td>\n",
              "      <td>577519</td>\n",
              "      <td>5476</td>\n",
              "      <td>90404</td>\n",
              "      <td>0.94</td>\n",
              "      <td>15.51</td>\n",
              "      <td>0.44</td>\n",
              "      <td>1257.54</td>\n",
              "    </tr>\n",
              "    <tr>\n",
              "      <th>도봉구</th>\n",
              "      <td>1629</td>\n",
              "      <td>82.82</td>\n",
              "      <td>322419</td>\n",
              "      <td>320365</td>\n",
              "      <td>2054</td>\n",
              "      <td>62894</td>\n",
              "      <td>0.64</td>\n",
              "      <td>19.51</td>\n",
              "      <td>0.51</td>\n",
              "      <td>1185.01</td>\n",
              "    </tr>\n",
              "  </tbody>\n",
              "</table>\n",
              "</div>"
            ],
            "text/plain": [
              "     CCTV댓수   최근증가율     인구수     내국인  ...  외국인비율  고령자비율  cctv비율       오차\n",
              "구별                                   ...                               \n",
              "강남구    6502   61.64  536107  531375  ...   0.88  14.21    1.21  2865.03\n",
              "관악구    4942   49.91  502698  488800  ...   2.76  15.64    0.98  1433.70\n",
              "송파구    2854  203.19  664341  658670  ...   0.85  14.32    0.43  1276.82\n",
              "강서구    2560   78.53  582995  577519  ...   0.94  15.51    0.44  1257.54\n",
              "도봉구    1629   82.82  322419  320365  ...   0.64  19.51    0.51  1185.01\n",
              "\n",
              "[5 rows x 10 columns]"
            ]
          },
          "metadata": {},
          "execution_count": 35
        }
      ]
    },
    {
      "cell_type": "code",
      "metadata": {
        "colab": {
          "base_uri": "https://localhost:8080/",
          "height": 628
        },
        "id": "L2f2NmeSWIsW",
        "outputId": "0a218996-faf2-473e-94c2-7c67d95a1391"
      },
      "source": [
        "plt.figure(figsize=(14,10))\n",
        "plt.scatter(df.인구수, df.CCTV댓수, c=df.오차, s=50) # c: 동일한 값에 해당하는 값은 동일한 색상으로 출력\n",
        "plt.plot(fx, fy, ls='dashed', lw=3, color='g')\n",
        "\n",
        "for i in range(10): \n",
        "    plt.text(df_sort.인구수[i]+9000, df_sort.CCTV댓수[i]-50,\n",
        "             df_sort.index[i], fontsize=15) \n",
        "\n",
        "plt.grid(True)\n",
        "plt.title('인구수와 CCTV 댓수의 관계', fontsize=20)\n",
        "plt.xlabel('인구수')\n",
        "plt.ylabel('CCTV')\n",
        "plt.colorbar()\n",
        "plt.show()"
      ],
      "execution_count": 39,
      "outputs": [
        {
          "output_type": "display_data",
          "data": {
            "image/png": "[encoded data removed]",
            "text/plain": [
              "<Figure size 1008x720 with 2 Axes>"
            ]
          },
          "metadata": {
            "needs_background": "light"
          }
        }
      ]
    }
  ]
}